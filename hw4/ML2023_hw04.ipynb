{
 "cells": [
  {
   "cell_type": "markdown",
   "metadata": {
    "id": "C_jdZ5vHJ4A9"
   },
   "source": [
    "# Task description\n",
    "- Classify the speakers of given features.\n",
    "- Main goal: Learn how to use transformer.\n",
    "- Baselines:\n",
    "  - Easy: Run sample code and know how to use transformer.\n",
    "  - Medium: Know how to adjust parameters of transformer.\n",
    "  - Strong: Construct [conformer](https://arxiv.org/abs/2005.08100) which is a variety of transformer. \n",
    "  - Boss: Implement [Self-Attention Pooling](https://arxiv.org/pdf/2008.01077v1.pdf) & [Additive Margin Softmax](https://arxiv.org/pdf/1801.05599.pdf) to further boost the performance.\n",
    "\n",
    "- Other links\n",
    "  - Competiton: [link](https://www.kaggle.com/t/49ea0c385a974db5919ec67299ba2e6b)\n",
    "  - Slide: [link](https://docs.google.com/presentation/d/1LDAW0GGrC9B6D7dlNdYzQL6D60-iKgFr/edit?usp=sharing&ouid=104280564485377739218&rtpof=true&sd=true)\n",
    "  - Data: [link](https://github.com/googly-mingto/ML2023HW4/releases)\n",
    "\n",
    "# Download dataset\n",
    "- Data is [here](https://drive.google.com/drive/folders/1vI1kuLB-q1VilIftiwnPOCAeOOFfBZge?usp=sharing)"
   ]
  },
  {
   "cell_type": "code",
   "execution_count": null,
   "metadata": {
    "colab": {
     "base_uri": "https://localhost:8080/"
    },
    "id": "gtKxUzSgXKj3",
    "outputId": "3f59402c-95a7-4fbd-a39c-57606590a89c"
   },
   "outputs": [],
   "source": [
    "!wget https://github.com/googly-mingto/ML2023HW4/releases/download/data/Dataset.tar.gz.partaa\n",
    "!wget https://github.com/googly-mingto/ML2023HW4/releases/download/data/Dataset.tar.gz.partab\n",
    "!wget https://github.com/googly-mingto/ML2023HW4/releases/download/data/Dataset.tar.gz.partac\n",
    "!wget https://github.com/googly-mingto/ML2023HW4/releases/download/data/Dataset.tar.gz.partad\n",
    "\n",
    "!cat Dataset.tar.gz.part* > Dataset.tar.gz\n",
    "!rm Dataset.tar.gz.partaa\n",
    "!rm Dataset.tar.gz.partab\n",
    "!rm Dataset.tar.gz.partac\n",
    "!rm Dataset.tar.gz.partad\n",
    "# unzip the file\n",
    "!tar zxf Dataset.tar.gz\n",
    "!rm Dataset.tar.gz"
   ]
  },
  {
   "cell_type": "code",
   "execution_count": null,
   "metadata": {
    "colab": {
     "base_uri": "https://localhost:8080/"
    },
    "id": "U6Y1cfpDfpON",
    "outputId": "6ba26637-5c7b-48a9-be0b-1f10ba76590a"
   },
   "outputs": [],
   "source": [
    "!tar zxf Dataset.tar.gz"
   ]
  },
  {
   "cell_type": "code",
   "execution_count": 20,
   "metadata": {
    "id": "E6burzCXIyuA"
   },
   "outputs": [],
   "source": [
    "import numpy as np\n",
    "import torch\n",
    "import random\n",
    "\n",
    "def set_seed(seed):\n",
    "    np.random.seed(seed)\n",
    "    random.seed(seed)\n",
    "    torch.manual_seed(seed)\n",
    "    if torch.cuda.is_available():\n",
    "        torch.cuda.manual_seed(seed)\n",
    "        torch.cuda.manual_seed_all(seed)\n",
    "    torch.backends.cudnn.benchmark = False\n",
    "    torch.backends.cudnn.deterministic = True\n",
    "\n",
    "set_seed(87)"
   ]
  },
  {
   "cell_type": "markdown",
   "metadata": {
    "id": "k7dVbxW2LASN"
   },
   "source": [
    "# Data\n",
    "\n",
    "## Dataset\n",
    "- Original dataset is [Voxceleb2](https://www.robots.ox.ac.uk/~vgg/data/voxceleb/vox2.html).\n",
    "- The [license](https://creativecommons.org/licenses/by/4.0/) and [complete version](https://www.robots.ox.ac.uk/~vgg/data/voxceleb/files/license.txt) of Voxceleb2.\n",
    "- We randomly select 600 speakers from Voxceleb2.\n",
    "- Then preprocess the raw waveforms into mel-spectrograms.\n",
    "\n",
    "- Args:\n",
    "  - data_dir: The path to the data directory.\n",
    "  - metadata_path: The path to the metadata.\n",
    "  - segment_len: The length of audio segment for training. \n",
    "- The architecture of data directory \\\\\n",
    "  - data directory \\\\\n",
    "  |---- metadata.json \\\\\n",
    "  |---- testdata.json \\\\\n",
    "  |---- mapping.json \\\\\n",
    "  |---- uttr-{random string}.pt \\\\\n",
    "\n",
    "- The information in metadata\n",
    "  - \"n_mels\": The dimention of mel-spectrogram.\n",
    "  - \"speakers\": A dictionary. \n",
    "    - Key: speaker ids.\n",
    "    - value: \"feature_path\" and \"mel_len\"\n",
    "\n",
    "\n",
    "For efficiency, we segment the mel-spectrograms into segments in the traing step."
   ]
  },
  {
   "cell_type": "code",
   "execution_count": 21,
   "metadata": {
    "id": "KpuGxl4CI2pr"
   },
   "outputs": [],
   "source": [
    "'''\n",
    "import os\n",
    "import json\n",
    "import torch\n",
    "import random\n",
    "from pathlib import Path\n",
    "from torch.utils.data import Dataset\n",
    "from torch.nn.utils.rnn import pad_sequence\n",
    " \n",
    " \n",
    "class myDataset(Dataset):\n",
    "\tdef __init__(self, data_dir, segment_len=128):\n",
    "\t\tself.data_dir = data_dir\n",
    "\t\tself.segment_len = segment_len\n",
    "\t\n",
    "\t\t# Load the mapping from speaker neme to their corresponding id. \n",
    "\t\tmapping_path = Path(data_dir) / \"mapping.json\"\n",
    "\t\tmapping = json.load(mapping_path.open())\n",
    "\t\tself.speaker2id = mapping[\"speaker2id\"]\n",
    "\t\n",
    "\t\t# Load metadata of training data.\n",
    "\t\tmetadata_path = Path(data_dir) / \"metadata.json\"\n",
    "\t\tmetadata = json.load(open(metadata_path))[\"speakers\"]\n",
    "\t\n",
    "\t\t# Get the total number of speaker.\n",
    "\t\tself.speaker_num = len(metadata.keys())\n",
    "\t\tself.data = []\n",
    "\t\tfor speaker in metadata.keys():\n",
    "\t\t\tfor utterances in metadata[speaker]:\n",
    "\t\t\t\tself.data.append([utterances[\"feature_path\"], self.speaker2id[speaker]])\n",
    " \n",
    "\tdef __len__(self):\n",
    "\t\t\treturn len(self.data)\n",
    " \n",
    "\tdef __getitem__(self, index):\n",
    "\t\tfeat_path, speaker = self.data[index]\n",
    "\t\t# Load preprocessed mel-spectrogram.\n",
    "\t\tmel = torch.load(os.path.join(self.data_dir, feat_path))\n",
    "\n",
    "\t\t# Segmemt mel-spectrogram into \"segment_len\" frames.\n",
    "\t\tif len(mel) > self.segment_len:\n",
    "\t\t\t# Randomly get the starting point of the segment.\n",
    "\t\t\tstart = random.randint(0, len(mel) - self.segment_len)\n",
    "\t\t\t# Get a segment with \"segment_len\" frames.\n",
    "\t\t\tmel = torch.FloatTensor(mel[start:start+self.segment_len])\n",
    "\t\telse:\n",
    "\t\t\tmel = torch.FloatTensor(mel)\n",
    "\t\t# Turn the speaker id into long for computing loss later.\n",
    "\t\tspeaker = torch.FloatTensor([speaker]).long()\n",
    "\t\treturn mel, speaker\n",
    " \n",
    "\tdef get_speaker_number(self):\n",
    "\t\treturn self.speaker_num\n",
    "'''\n",
    "from mydataset import myDataset"
   ]
  },
  {
   "cell_type": "markdown",
   "metadata": {
    "id": "668hverTMlGN"
   },
   "source": [
    "## Dataloader\n",
    "- Split dataset into training dataset(90%) and validation dataset(10%).\n",
    "- Create dataloader to iterate the data."
   ]
  },
  {
   "cell_type": "code",
   "execution_count": 22,
   "metadata": {
    "id": "B7c2gZYoJDRS"
   },
   "outputs": [],
   "source": [
    "import torch\n",
    "from torch.utils.data import DataLoader, random_split\n",
    "from torch.nn.utils.rnn import pad_sequence\n",
    "\n",
    "\n",
    "'''\n",
    "def collate_batch(batch):\n",
    "\t# Process features within a batch.\n",
    "\t\"\"\"Collate a batch of data.\"\"\"\n",
    "\tmel, speaker = zip(*batch)\n",
    "\t# Because we train the model batch by batch, we need to pad the features in the same batch to make their lengths the same.\n",
    "\tmel = pad_sequence(mel, batch_first=True, padding_value=-20)    # pad log 10^(-20) which is very small value.\n",
    "\t# mel: (batch size, length, 40)\n",
    "\treturn mel, torch.FloatTensor(speaker).long()\n",
    "'''\n",
    "from collate_batch import collate_batch\n",
    "\n",
    "\n",
    "def get_dataloader(data_dir, batch_size, n_workers):\n",
    "\t\"\"\"Generate dataloader\"\"\"\n",
    "\tdataset = myDataset(data_dir)\n",
    "\tprint(\"Colin ctor myDataset\")\n",
    "\tspeaker_num = dataset.get_speaker_number()\n",
    "\t# Split dataset into training dataset and validation dataset\n",
    "\ttrainlen = int(0.9 * len(dataset))\n",
    "\tlengths = [trainlen, len(dataset) - trainlen]\n",
    "\ttrainset, validset = random_split(dataset, lengths)\n",
    "\tprint(\"Colin finish split\")\n",
    "\ttrain_loader = DataLoader(\n",
    "\t\ttrainset,\n",
    "\t\tbatch_size=batch_size,\n",
    "\t\tshuffle=True,\n",
    "\t\tdrop_last=True,\n",
    "\t\tnum_workers=n_workers,\n",
    "\t\tpin_memory=True,\n",
    "\t\tcollate_fn=collate_batch,\n",
    "\t)\n",
    "\tprint(\"Colin finish ctor train_loader\")\n",
    "\tvalid_loader = DataLoader(\n",
    "\t\tvalidset,\n",
    "\t\tbatch_size=batch_size,\n",
    "\t\tnum_workers=n_workers,\n",
    "\t\tdrop_last=True,\n",
    "\t\tpin_memory=True,\n",
    "\t\tcollate_fn=collate_batch,\n",
    "\t)\n",
    "\tprint(\"Colin finish ctor valid_loader\")\n",
    "\treturn train_loader, valid_loader, speaker_num"
   ]
  },
  {
   "cell_type": "markdown",
   "metadata": {
    "id": "5FOSZYxrMqhc"
   },
   "source": [
    "# Model\n",
    "- TransformerEncoderLayer:\n",
    "  - Base transformer encoder layer in [Attention Is All You Need](https://arxiv.org/abs/1706.03762)\n",
    "  - Parameters:\n",
    "    - d_model: the number of expected features of the input (required).\n",
    "\n",
    "    - nhead: the number of heads of the multiheadattention models (required).\n",
    "\n",
    "    - dim_feedforward: the dimension of the feedforward network model (default=2048).\n",
    "\n",
    "    - dropout: the dropout value (default=0.1).\n",
    "\n",
    "    - activation: the activation function of intermediate layer, relu or gelu (default=relu).\n",
    "\n",
    "- TransformerEncoder:\n",
    "  - TransformerEncoder is a stack of N transformer encoder layers\n",
    "  - Parameters:\n",
    "    - encoder_layer: an instance of the TransformerEncoderLayer() class (required).\n",
    "\n",
    "    - num_layers: the number of sub-encoder-layers in the encoder (required).\n",
    "\n",
    "    - norm: the layer normalization component (optional)."
   ]
  },
  {
   "cell_type": "code",
   "execution_count": 23,
   "metadata": {
    "id": "iXZ5B0EKJGs8"
   },
   "outputs": [],
   "source": [
    "import torch\n",
    "import torch.nn as nn\n",
    "import torch.nn.functional as F\n",
    "import torchaudio\n",
    "\n",
    "\n",
    "class Classifier(nn.Module):\n",
    "\tdef __init__(self, d_model=320, n_spks=600, dropout=0.1):\n",
    "\t\tsuper().__init__()\n",
    "\t\t# Project the dimension of features from that of input into d_model.\n",
    "\t\tself.prenet = nn.Linear(40, d_model)\n",
    "\t\t# TODO:\n",
    "\t\t#   Change Transformer to Conformer.\n",
    "\t\t#   https://arxiv.org/abs/2005.08100\n",
    "\t\t#self.encoder_layer = nn.TransformerEncoderLayer(\n",
    "\t\t#\td_model=d_model, dim_feedforward=256, nhead=32\n",
    "\t\t#)\n",
    "\t\t# self.encoder = nn.TransformerEncoder(self.encoder_layer, num_layers=2)\n",
    "\t\tself.encoder = torchaudio.models.Conformer(\n",
    "\t\t\tinput_dim=d_model, num_heads=4, ffn_dim=256, num_layers=1, depthwise_conv_kernel_size=15\n",
    "\t\t)\n",
    "\n",
    "\t\t# Project the the dimension of features from d_model into speaker nums.\n",
    "\t\tself.pred_layer = nn.Sequential(\n",
    "\t\t\tnn.Linear(d_model, d_model),\n",
    "\t\t\tnn.ReLU(),\n",
    "\t\t\tnn.Linear(d_model, n_spks),\n",
    "\t\t)\n",
    "\n",
    "\tdef forward(self, mels):\n",
    "\t\t\"\"\"\n",
    "\t\targs:\n",
    "\t\t\tmels: (batch size, length, 40)\n",
    "\t\treturn:\n",
    "\t\t\tout: (batch size, n_spks)\n",
    "\t\t\"\"\"\n",
    "\t\tout = self.prenet(mels)  # out: (batch size, length, d_model)\n",
    "\t\t\"\"\"\n",
    "\t\tout = out.permute(1, 0, 2) # out: (length, batch size, d_model)\n",
    "\t\t# The encoder layer expect features in the shape of (length, batch size, d_model).\n",
    "\t\tout = self.encoder_layer(out)\n",
    "\t\t# out = self.encoder(out)\n",
    "\t\t# out: (batch size, length, d_model)\n",
    "\t\tout = out.transpose(0, 1)\n",
    "\t\t\"\"\"\n",
    "\t\tlengths = torch.full((mels.size(0),), mels.size(1), dtype=torch.long).to(out.device)\n",
    "\t\tout, _ = self.encoder(out, lengths) #out: (batch size, length, d_model)\n",
    "\n",
    "\t\t# mean pooling\n",
    "\t\tstats = out.mean(dim=1)\n",
    "\n",
    "\t\t# out: (batch, n_spks)\n",
    "\t\tout = self.pred_layer(stats)\n",
    "\t\treturn out"
   ]
  },
  {
   "cell_type": "markdown",
   "metadata": {
    "id": "W7yX8JinM5Ly"
   },
   "source": [
    "# Learning rate schedule\n",
    "- For transformer architecture, the design of learning rate schedule is different from that of CNN.\n",
    "- Previous works show that the warmup of learning rate is useful for training models with transformer architectures.\n",
    "- The warmup schedule\n",
    "  - Set learning rate to 0 in the beginning.\n",
    "  - The learning rate increases linearly from 0 to initial learning rate during warmup period."
   ]
  },
  {
   "cell_type": "code",
   "execution_count": 24,
   "metadata": {
    "id": "ykt0N1nVJJi2"
   },
   "outputs": [],
   "source": [
    "import math\n",
    "\n",
    "import torch\n",
    "from torch.optim import Optimizer\n",
    "from torch.optim.lr_scheduler import LambdaLR\n",
    "\n",
    "\n",
    "def get_cosine_schedule_with_warmup(\n",
    "\toptimizer: Optimizer,\n",
    "\tnum_warmup_steps: int,\n",
    "\tnum_training_steps: int,\n",
    "\tnum_cycles: float = 0.5,\n",
    "\tlast_epoch: int = -1,\n",
    "):\n",
    "\t\"\"\"\n",
    "\tCreate a schedule with a learning rate that decreases following the values of the cosine function between the\n",
    "\tinitial lr set in the optimizer to 0, after a warmup period during which it increases linearly between 0 and the\n",
    "\tinitial lr set in the optimizer.\n",
    "\n",
    "\tArgs:\n",
    "\t\toptimizer (:class:`~torch.optim.Optimizer`):\n",
    "\t\tThe optimizer for which to schedule the learning rate.\n",
    "\t\tnum_warmup_steps (:obj:`int`):\n",
    "\t\tThe number of steps for the warmup phase.\n",
    "\t\tnum_training_steps (:obj:`int`):\n",
    "\t\tThe total number of training steps.\n",
    "\t\tnum_cycles (:obj:`float`, `optional`, defaults to 0.5):\n",
    "\t\tThe number of waves in the cosine schedule (the defaults is to just decrease from the max value to 0\n",
    "\t\tfollowing a half-cosine).\n",
    "\t\tlast_epoch (:obj:`int`, `optional`, defaults to -1):\n",
    "\t\tThe index of the last epoch when resuming training.\n",
    "\n",
    "\tReturn:\n",
    "\t\t:obj:`torch.optim.lr_scheduler.LambdaLR` with the appropriate schedule.\n",
    "\t\"\"\"\n",
    "\tdef lr_lambda(current_step):\n",
    "\t\t# Warmup\n",
    "\t\tif current_step < num_warmup_steps:\n",
    "\t\t\treturn float(current_step) / float(max(1, num_warmup_steps))\n",
    "\t\t# decadence\n",
    "\t\tprogress = float(current_step - num_warmup_steps) / float(\n",
    "\t\t\tmax(1, num_training_steps - num_warmup_steps)\n",
    "\t\t)\n",
    "\t\treturn max(\n",
    "\t\t\t0.0, 0.5 * (1.0 + math.cos(math.pi * float(num_cycles) * 2.0 * progress))\n",
    "\t\t)\n",
    "\n",
    "\treturn LambdaLR(optimizer, lr_lambda, last_epoch)"
   ]
  },
  {
   "cell_type": "markdown",
   "metadata": {
    "id": "-LN2XkteM_uH"
   },
   "source": [
    "# Model Function\n",
    "- Model forward function."
   ]
  },
  {
   "cell_type": "code",
   "execution_count": 25,
   "metadata": {
    "id": "N-rr8529JMz0"
   },
   "outputs": [],
   "source": [
    "import torch\n",
    "\n",
    "\n",
    "def model_fn(batch, model, criterion, device):\n",
    "\t\"\"\"Forward a batch through the model.\"\"\"\n",
    "\n",
    "\tmels, labels = batch\n",
    "\tmels = mels.to(device)\n",
    "\tlabels = labels.to(device)\n",
    "\n",
    "\touts = model(mels)\n",
    "\n",
    "\tloss = criterion(outs, labels)\n",
    "\n",
    "\t# Get the speaker id with highest probability.\n",
    "\tpreds = outs.argmax(1)\n",
    "\t# Compute accuracy.\n",
    "\taccuracy = torch.mean((preds == labels).float())\n",
    "\n",
    "\treturn loss, accuracy"
   ]
  },
  {
   "cell_type": "markdown",
   "metadata": {
    "id": "cwM_xyOtNCI2"
   },
   "source": [
    "# Validate\n",
    "- Calculate accuracy of the validation set."
   ]
  },
  {
   "cell_type": "code",
   "execution_count": 26,
   "metadata": {
    "id": "YAiv6kpdJRTJ"
   },
   "outputs": [],
   "source": [
    "from tqdm import tqdm\n",
    "import torch\n",
    "\n",
    "\n",
    "def valid(dataloader, model, criterion, device): \n",
    "\t\"\"\"Validate on validation set.\"\"\"\n",
    "\n",
    "\tmodel.eval()\n",
    "\trunning_loss = 0.0\n",
    "\trunning_accuracy = 0.0\n",
    "\tpbar = tqdm(total=len(dataloader.dataset), ncols=0, desc=\"Valid\", unit=\" uttr\")\n",
    "\n",
    "\tfor i, batch in enumerate(dataloader):\n",
    "\t\twith torch.no_grad():\n",
    "\t\t\tloss, accuracy = model_fn(batch, model, criterion, device)\n",
    "\t\t\trunning_loss += loss.item()\n",
    "\t\t\trunning_accuracy += accuracy.item()\n",
    "\n",
    "\t\tpbar.update(dataloader.batch_size)\n",
    "\t\tpbar.set_postfix(\n",
    "\t\t\tloss=f\"{running_loss / (i+1):.2f}\",\n",
    "\t\t\taccuracy=f\"{running_accuracy / (i+1):.2f}\",\n",
    "\t\t)\n",
    "\n",
    "\tpbar.close()\n",
    "\tmodel.train()\n",
    "\n",
    "\treturn running_accuracy / len(dataloader)"
   ]
  },
  {
   "cell_type": "markdown",
   "metadata": {
    "id": "g6ne9G-eNEdG"
   },
   "source": [
    "# Main function"
   ]
  },
  {
   "cell_type": "code",
   "execution_count": 27,
   "metadata": {
    "colab": {
     "base_uri": "https://localhost:8080/"
    },
    "id": "Usv9s-CuJSG7",
    "outputId": "f4f6a983-3559-4f36-efae-402bbf790473"
   },
   "outputs": [
    {
     "name": "stdout",
     "output_type": "stream",
     "text": [
      "[Info]: Use cuda now!\n",
      "Colin ctor myDataset\n",
      "Colin finish split\n",
      "Colin finish ctor train_loader\n",
      "Colin finish ctor valid_loader\n",
      "Colin after get_dataloader\n",
      "[Info]: Finish loading data!\n",
      "[Info]: Finish creating model!\n"
     ]
    },
    {
     "name": "stderr",
     "output_type": "stream",
     "text": [
      "Train: 100% 2000/2000 [00:57<00:00, 34.55 step/s, accuracy=0.34, loss=3.17, step=2000]\n",
      "Valid: 100% 5664/5667 [00:24<00:00, 232.89 uttr/s, accuracy=0.26, loss=3.48] \n",
      "Train: 100% 2000/2000 [00:57<00:00, 35.03 step/s, accuracy=0.41, loss=2.83, step=4000]\n",
      "Valid: 100% 5664/5667 [00:25<00:00, 226.49 uttr/s, accuracy=0.37, loss=2.78] \n",
      "Train: 100% 2000/2000 [00:56<00:00, 35.25 step/s, accuracy=0.38, loss=2.49, step=6000]\n",
      "Valid: 100% 5664/5667 [00:23<00:00, 242.03 uttr/s, accuracy=0.46, loss=2.37] \n",
      "Train: 100% 2000/2000 [01:28<00:00, 22.69 step/s, accuracy=0.59, loss=1.32, step=8000]\n",
      "Valid: 100% 5664/5667 [00:22<00:00, 248.51 uttr/s, accuracy=0.53, loss=2.07] \n",
      "Train: 100% 2000/2000 [00:57<00:00, 34.65 step/s, accuracy=0.62, loss=1.53, step=1e+4]\n",
      "Valid: 100% 5664/5667 [00:23<00:00, 241.15 uttr/s, accuracy=0.57, loss=1.91] \n",
      "Train:   0% 10/2000 [00:00<00:46, 43.12 step/s, accuracy=0.59, loss=1.50, step=1e+4]"
     ]
    },
    {
     "name": "stdout",
     "output_type": "stream",
     "text": [
      "Step 10000, best model saved. (accuracy=0.5674)\n"
     ]
    },
    {
     "name": "stderr",
     "output_type": "stream",
     "text": [
      "Train: 100% 2000/2000 [00:56<00:00, 35.56 step/s, accuracy=0.69, loss=1.63, step=12000]\n",
      "Valid: 100% 5664/5667 [00:23<00:00, 240.14 uttr/s, accuracy=0.60, loss=1.73] \n",
      "Train: 100% 2000/2000 [00:56<00:00, 35.55 step/s, accuracy=0.66, loss=1.14, step=14000]\n",
      "Valid: 100% 5664/5667 [00:22<00:00, 246.84 uttr/s, accuracy=0.62, loss=1.69] \n",
      "Train: 100% 2000/2000 [01:17<00:00, 25.84 step/s, accuracy=0.69, loss=1.70, step=16000]\n",
      "Valid: 100% 5664/5667 [00:23<00:00, 241.74 uttr/s, accuracy=0.64, loss=1.60] \n",
      "Train: 100% 2000/2000 [00:55<00:00, 35.81 step/s, accuracy=0.75, loss=0.80, step=18000]\n",
      "Valid: 100% 5664/5667 [00:22<00:00, 246.57 uttr/s, accuracy=0.64, loss=1.55] \n",
      "Train: 100% 2000/2000 [00:56<00:00, 35.50 step/s, accuracy=0.69, loss=1.11, step=2e+4] \n",
      "Valid: 100% 5664/5667 [00:22<00:00, 249.39 uttr/s, accuracy=0.65, loss=1.53] \n",
      "Train:   0% 10/2000 [00:00<00:43, 45.70 step/s, accuracy=0.69, loss=1.08, step=2e+4]"
     ]
    },
    {
     "name": "stdout",
     "output_type": "stream",
     "text": [
      "Step 20000, best model saved. (accuracy=0.6501)\n"
     ]
    },
    {
     "name": "stderr",
     "output_type": "stream",
     "text": [
      "Train: 100% 2000/2000 [00:55<00:00, 35.80 step/s, accuracy=0.56, loss=1.49, step=22000]\n",
      "Valid: 100% 5664/5667 [00:23<00:00, 242.23 uttr/s, accuracy=0.65, loss=1.55] \n",
      "Train: 100% 2000/2000 [01:17<00:00, 25.71 step/s, accuracy=0.72, loss=1.13, step=24000]\n",
      "Valid: 100% 5664/5667 [00:24<00:00, 231.00 uttr/s, accuracy=0.65, loss=1.55] \n",
      "Train: 100% 2000/2000 [00:56<00:00, 35.37 step/s, accuracy=0.88, loss=0.66, step=26000]\n",
      "Valid:   0% 0/5667 [00:00<?, ? uttr/s]Exception ignored in: <function _MultiProcessingDataLoaderIter.__del__ at 0x0000021A537C54E0>\n",
      "Traceback (most recent call last):\n",
      "  File \"C:\\Users\\fro11o\\venv\\ml2023\\Lib\\site-packages\\torch\\utils\\data\\dataloader.py\", line 1618, in __del__\n",
      "    self._shutdown_workers()\n",
      "  File \"C:\\Users\\fro11o\\venv\\ml2023\\Lib\\site-packages\\torch\\utils\\data\\dataloader.py\", line 1576, in _shutdown_workers\n",
      "    if self._persistent_workers or self._workers_status[worker_id]:\n",
      "                                   ^^^^^^^^^^^^^^^^^^^^\n",
      "AttributeError: '_MultiProcessingDataLoaderIter' object has no attribute '_workers_status'\n",
      "Valid: 100% 5664/5667 [00:24<00:00, 232.44 uttr/s, accuracy=0.69, loss=1.40] \n",
      "Train: 100% 2000/2000 [00:56<00:00, 35.65 step/s, accuracy=0.84, loss=0.77, step=28000]\n",
      "Valid: 100% 5664/5667 [00:22<00:00, 248.66 uttr/s, accuracy=0.68, loss=1.39] \n",
      "Train: 100% 2000/2000 [00:56<00:00, 35.22 step/s, accuracy=0.62, loss=1.32, step=3e+4] \n",
      "Valid: 100% 5664/5667 [00:23<00:00, 243.30 uttr/s, accuracy=0.70, loss=1.35] \n",
      "Train:   1% 12/2000 [00:00<00:35, 55.81 step/s, accuracy=0.78, loss=0.71, step=3e+4]"
     ]
    },
    {
     "name": "stdout",
     "output_type": "stream",
     "text": [
      "Step 30000, best model saved. (accuracy=0.6953)\n"
     ]
    },
    {
     "name": "stderr",
     "output_type": "stream",
     "text": [
      "Train: 100% 2000/2000 [01:17<00:00, 25.86 step/s, accuracy=0.78, loss=0.66, step=32000]\n",
      "Valid: 100% 5664/5667 [00:23<00:00, 243.36 uttr/s, accuracy=0.70, loss=1.36] \n",
      "Train: 100% 2000/2000 [00:55<00:00, 35.81 step/s, accuracy=0.84, loss=0.74, step=34000]\n",
      "Valid: 100% 5664/5667 [00:22<00:00, 249.58 uttr/s, accuracy=0.71, loss=1.33] \n",
      "Train: 100% 2000/2000 [00:55<00:00, 36.15 step/s, accuracy=0.91, loss=0.46, step=36000]\n",
      "Valid: 100% 5664/5667 [00:22<00:00, 247.41 uttr/s, accuracy=0.72, loss=1.30] \n",
      "Train: 100% 2000/2000 [00:56<00:00, 35.12 step/s, accuracy=0.81, loss=0.74, step=38000]\n",
      "Valid: 100% 5664/5667 [00:23<00:00, 237.05 uttr/s, accuracy=0.69, loss=1.42] \n",
      "Train: 100% 2000/2000 [01:17<00:00, 25.90 step/s, accuracy=0.72, loss=0.85, step=4e+4] \n",
      "Valid: 100% 5664/5667 [00:23<00:00, 243.15 uttr/s, accuracy=0.73, loss=1.29] \n",
      "Train:   1% 11/2000 [00:00<00:38, 51.32 step/s, accuracy=0.78, loss=0.63, step=4e+4]"
     ]
    },
    {
     "name": "stdout",
     "output_type": "stream",
     "text": [
      "Step 40000, best model saved. (accuracy=0.7304)\n"
     ]
    },
    {
     "name": "stderr",
     "output_type": "stream",
     "text": [
      "Train: 100% 2000/2000 [00:55<00:00, 36.10 step/s, accuracy=0.88, loss=0.40, step=42000]\n",
      "Valid: 100% 5664/5667 [00:23<00:00, 237.94 uttr/s, accuracy=0.72, loss=1.26] \n",
      "Train: 100% 2000/2000 [00:55<00:00, 36.01 step/s, accuracy=0.84, loss=0.48, step=44000]\n",
      "Valid: 100% 5664/5667 [00:23<00:00, 244.11 uttr/s, accuracy=0.74, loss=1.24] \n",
      "Train: 100% 2000/2000 [00:54<00:00, 36.48 step/s, accuracy=0.75, loss=0.79, step=46000]\n",
      "Valid: 100% 5664/5667 [00:22<00:00, 246.63 uttr/s, accuracy=0.74, loss=1.23] \n",
      "Train: 100% 2000/2000 [01:17<00:00, 25.96 step/s, accuracy=0.78, loss=0.80, step=48000]\n",
      "Valid: 100% 5664/5667 [00:22<00:00, 247.39 uttr/s, accuracy=0.73, loss=1.24] \n",
      "Train: 100% 2000/2000 [00:55<00:00, 35.92 step/s, accuracy=0.78, loss=1.20, step=5e+4] \n",
      "Valid: 100% 5664/5667 [00:23<00:00, 245.51 uttr/s, accuracy=0.73, loss=1.26] \n",
      "Train:   0% 10/2000 [00:00<00:45, 43.79 step/s, accuracy=0.88, loss=0.49, step=5e+4]"
     ]
    },
    {
     "name": "stdout",
     "output_type": "stream",
     "text": [
      "Step 50000, best model saved. (accuracy=0.7405)\n"
     ]
    },
    {
     "name": "stderr",
     "output_type": "stream",
     "text": [
      "Train: 100% 2000/2000 [00:57<00:00, 35.03 step/s, accuracy=0.88, loss=0.39, step=52000]\n",
      "Valid: 100% 5664/5667 [00:23<00:00, 236.64 uttr/s, accuracy=0.76, loss=1.17] \n",
      "Train: 100% 2000/2000 [00:55<00:00, 36.00 step/s, accuracy=0.94, loss=0.37, step=54000]\n",
      "Valid: 100% 5664/5667 [00:23<00:00, 238.85 uttr/s, accuracy=0.74, loss=1.21] \n",
      "Train: 100% 2000/2000 [01:16<00:00, 26.02 step/s, accuracy=0.81, loss=0.75, step=56000]\n",
      "Valid: 100% 5664/5667 [00:23<00:00, 244.90 uttr/s, accuracy=0.74, loss=1.19] \n",
      "Train: 100% 2000/2000 [00:55<00:00, 35.74 step/s, accuracy=0.78, loss=0.90, step=58000]\n",
      "Valid: 100% 5664/5667 [00:23<00:00, 245.90 uttr/s, accuracy=0.75, loss=1.22] \n",
      "Train: 100% 2000/2000 [00:57<00:00, 35.04 step/s, accuracy=0.84, loss=0.58, step=6e+4] \n",
      "Valid: 100% 5664/5667 [00:22<00:00, 246.40 uttr/s, accuracy=0.74, loss=1.24] \n",
      "Train:   1% 11/2000 [00:00<00:44, 44.89 step/s, accuracy=0.91, loss=0.24, step=6e+4]"
     ]
    },
    {
     "name": "stdout",
     "output_type": "stream",
     "text": [
      "Step 60000, best model saved. (accuracy=0.7583)\n"
     ]
    },
    {
     "name": "stderr",
     "output_type": "stream",
     "text": [
      "Train: 100% 2000/2000 [00:57<00:00, 35.03 step/s, accuracy=0.84, loss=0.38, step=62000]\n",
      "Valid: 100% 5664/5667 [00:23<00:00, 241.61 uttr/s, accuracy=0.76, loss=1.11] \n",
      "Train: 100% 2000/2000 [01:18<00:00, 25.38 step/s, accuracy=0.91, loss=0.39, step=64000]\n",
      "Valid: 100% 5664/5667 [00:23<00:00, 240.34 uttr/s, accuracy=0.76, loss=1.13] \n",
      "Train: 100% 2000/2000 [00:57<00:00, 34.69 step/s, accuracy=0.91, loss=0.25, step=66000]\n",
      "Valid: 100% 5664/5667 [00:23<00:00, 239.97 uttr/s, accuracy=0.76, loss=1.13] \n",
      "Train: 100% 2000/2000 [00:57<00:00, 34.51 step/s, accuracy=0.91, loss=0.35, step=68000]\n",
      "Valid: 100% 5664/5667 [00:24<00:00, 230.68 uttr/s, accuracy=0.75, loss=1.20] \n",
      "Train: 100% 2000/2000 [00:57<00:00, 34.97 step/s, accuracy=0.81, loss=0.61, step=7e+4] \n",
      "Valid: 100% 5664/5667 [00:24<00:00, 229.96 uttr/s, accuracy=0.76, loss=1.14] \n",
      "Train:   0% 10/2000 [00:00<00:46, 42.49 step/s, accuracy=0.91, loss=0.34, step=7e+4]"
     ]
    },
    {
     "name": "stdout",
     "output_type": "stream",
     "text": [
      "Step 70000, best model saved. (accuracy=0.7638)\n"
     ]
    },
    {
     "name": "stderr",
     "output_type": "stream",
     "text": [
      "Train: 100% 2000/2000 [01:18<00:00, 25.49 step/s, accuracy=0.88, loss=0.38, step=72000]\n",
      "Valid: 100% 5664/5667 [00:22<00:00, 248.12 uttr/s, accuracy=0.77, loss=1.15] \n",
      "Train: 100% 2000/2000 [00:56<00:00, 35.64 step/s, accuracy=0.88, loss=0.40, step=74000]\n",
      "Valid: 100% 5664/5667 [00:24<00:00, 234.30 uttr/s, accuracy=0.78, loss=1.08] \n",
      "Train: 100% 2000/2000 [00:56<00:00, 35.24 step/s, accuracy=0.84, loss=0.46, step=76000]\n",
      "Valid: 100% 5664/5667 [00:23<00:00, 241.43 uttr/s, accuracy=0.77, loss=1.11] \n",
      "Train: 100% 2000/2000 [00:56<00:00, 35.09 step/s, accuracy=0.81, loss=0.59, step=78000]\n",
      "Valid: 100% 5664/5667 [00:23<00:00, 239.73 uttr/s, accuracy=0.76, loss=1.13] \n",
      "Train: 100% 2000/2000 [01:20<00:00, 24.99 step/s, accuracy=0.97, loss=0.29, step=8e+4] \n",
      "Valid: 100% 5664/5667 [00:23<00:00, 242.48 uttr/s, accuracy=0.76, loss=1.18] \n",
      "Train:   0% 10/2000 [00:00<00:42, 46.93 step/s, accuracy=0.91, loss=0.69, step=8e+4]"
     ]
    },
    {
     "name": "stdout",
     "output_type": "stream",
     "text": [
      "Step 80000, best model saved. (accuracy=0.7754)\n"
     ]
    },
    {
     "name": "stderr",
     "output_type": "stream",
     "text": [
      "Train: 100% 2000/2000 [00:56<00:00, 35.67 step/s, accuracy=0.81, loss=0.48, step=82000]\n",
      "Valid: 100% 5664/5667 [00:23<00:00, 244.11 uttr/s, accuracy=0.78, loss=1.07] \n",
      "Train: 100% 2000/2000 [00:57<00:00, 34.99 step/s, accuracy=0.88, loss=0.39, step=84000]\n",
      "Valid: 100% 5664/5667 [00:23<00:00, 245.92 uttr/s, accuracy=0.79, loss=1.04] \n",
      "Train: 100% 2000/2000 [00:56<00:00, 35.11 step/s, accuracy=0.84, loss=0.66, step=86000]\n",
      "Valid: 100% 5664/5667 [00:23<00:00, 243.74 uttr/s, accuracy=0.78, loss=1.09] \n",
      "Train: 100% 2000/2000 [01:18<00:00, 25.41 step/s, accuracy=0.94, loss=0.18, step=88000]\n",
      "Valid: 100% 5664/5667 [00:23<00:00, 242.62 uttr/s, accuracy=0.77, loss=1.13] \n",
      "Train: 100% 2000/2000 [00:57<00:00, 34.76 step/s, accuracy=0.88, loss=0.47, step=9e+4] \n",
      "Valid: 100% 5664/5667 [00:22<00:00, 247.47 uttr/s, accuracy=0.78, loss=1.03] \n",
      "Train:   0% 10/2000 [00:00<00:46, 43.21 step/s, accuracy=0.97, loss=0.14, step=9e+4]"
     ]
    },
    {
     "name": "stdout",
     "output_type": "stream",
     "text": [
      "Step 90000, best model saved. (accuracy=0.7885)\n"
     ]
    },
    {
     "name": "stderr",
     "output_type": "stream",
     "text": [
      "Train: 100% 2000/2000 [00:56<00:00, 35.56 step/s, accuracy=0.88, loss=0.28, step=92000]\n",
      "Valid: 100% 5664/5667 [00:23<00:00, 239.68 uttr/s, accuracy=0.78, loss=1.06] \n",
      "Train: 100% 2000/2000 [01:17<00:00, 25.81 step/s, accuracy=0.97, loss=0.10, step=94000]\n",
      "Valid: 100% 5664/5667 [00:22<00:00, 246.96 uttr/s, accuracy=0.79, loss=1.07] \n",
      "Train: 100% 2000/2000 [00:56<00:00, 35.12 step/s, accuracy=0.88, loss=0.29, step=96000]\n",
      "Valid: 100% 5664/5667 [00:23<00:00, 238.19 uttr/s, accuracy=0.78, loss=1.06] \n",
      "Train: 100% 2000/2000 [00:56<00:00, 35.61 step/s, accuracy=1.00, loss=0.05, step=98000]\n",
      "Valid: 100% 5664/5667 [00:23<00:00, 240.66 uttr/s, accuracy=0.78, loss=1.08] \n",
      "Train: 100% 2000/2000 [00:56<00:00, 35.71 step/s, accuracy=0.94, loss=0.48, step=1e+5] \n",
      "Valid: 100% 5664/5667 [00:23<00:00, 245.45 uttr/s, accuracy=0.79, loss=1.05] \n",
      "Train:   0% 10/2000 [00:00<00:40, 48.96 step/s, accuracy=0.97, loss=0.14, step=1e+5]"
     ]
    },
    {
     "name": "stdout",
     "output_type": "stream",
     "text": [
      "Step 100000, best model saved. (accuracy=0.7933)\n"
     ]
    },
    {
     "name": "stderr",
     "output_type": "stream",
     "text": [
      "Train: 100% 2000/2000 [01:17<00:00, 25.75 step/s, accuracy=0.91, loss=0.26, step=102000]\n",
      "Valid: 100% 5664/5667 [00:23<00:00, 245.89 uttr/s, accuracy=0.78, loss=1.13] \n",
      "Train: 100% 2000/2000 [00:55<00:00, 36.07 step/s, accuracy=0.88, loss=0.53, step=104000]\n",
      "Valid: 100% 5664/5667 [00:22<00:00, 249.96 uttr/s, accuracy=0.80, loss=1.03] \n",
      "Train: 100% 2000/2000 [00:55<00:00, 36.08 step/s, accuracy=1.00, loss=0.12, step=106000]\n",
      "Valid: 100% 5664/5667 [00:22<00:00, 248.77 uttr/s, accuracy=0.79, loss=1.07] \n",
      "Train: 100% 2000/2000 [00:57<00:00, 34.99 step/s, accuracy=0.97, loss=0.11, step=108000]\n",
      "Valid: 100% 5664/5667 [00:23<00:00, 237.96 uttr/s, accuracy=0.79, loss=1.08] \n",
      "Train: 100% 2000/2000 [01:18<00:00, 25.53 step/s, accuracy=0.88, loss=0.46, step=110000]\n",
      "Valid: 100% 5664/5667 [00:23<00:00, 240.32 uttr/s, accuracy=0.79, loss=1.07] \n",
      "Train:   1% 12/2000 [00:00<00:37, 53.22 step/s, accuracy=0.88, loss=0.48, step=110012]"
     ]
    },
    {
     "name": "stdout",
     "output_type": "stream",
     "text": [
      "Step 110000, best model saved. (accuracy=0.7993)\n"
     ]
    },
    {
     "name": "stderr",
     "output_type": "stream",
     "text": [
      "Train: 100% 2000/2000 [00:54<00:00, 36.52 step/s, accuracy=0.94, loss=0.50, step=112000]\n",
      "Valid: 100% 5664/5667 [00:22<00:00, 247.90 uttr/s, accuracy=0.79, loss=1.04] \n",
      "Train: 100% 2000/2000 [00:53<00:00, 37.11 step/s, accuracy=0.88, loss=0.44, step=114000]\n",
      "Valid: 100% 5664/5667 [00:23<00:00, 241.96 uttr/s, accuracy=0.80, loss=1.00] \n",
      "Train: 100% 2000/2000 [00:53<00:00, 37.19 step/s, accuracy=0.91, loss=0.28, step=116000]\n",
      "Valid: 100% 5664/5667 [00:22<00:00, 249.68 uttr/s, accuracy=0.80, loss=0.99] \n",
      "Train: 100% 2000/2000 [01:15<00:00, 26.41 step/s, accuracy=0.94, loss=0.23, step=118000]\n",
      "Valid: 100% 5664/5667 [00:22<00:00, 247.73 uttr/s, accuracy=0.80, loss=0.97] \n",
      "Train: 100% 2000/2000 [00:54<00:00, 36.74 step/s, accuracy=0.81, loss=0.66, step=120000]\n",
      "Valid: 100% 5664/5667 [00:23<00:00, 245.71 uttr/s, accuracy=0.79, loss=1.06] \n",
      "Train:   1% 11/2000 [00:00<00:38, 51.94 step/s, accuracy=0.84, loss=0.60, step=120011]"
     ]
    },
    {
     "name": "stdout",
     "output_type": "stream",
     "text": [
      "Step 120000, best model saved. (accuracy=0.8001)\n"
     ]
    },
    {
     "name": "stderr",
     "output_type": "stream",
     "text": [
      "Train: 100% 2000/2000 [00:56<00:00, 35.71 step/s, accuracy=0.97, loss=0.13, step=122000]\n",
      "Valid: 100% 5664/5667 [00:23<00:00, 242.30 uttr/s, accuracy=0.79, loss=1.06] \n",
      "Train: 100% 2000/2000 [00:53<00:00, 37.20 step/s, accuracy=0.91, loss=0.16, step=124000]\n",
      "Valid: 100% 5664/5667 [00:23<00:00, 242.03 uttr/s, accuracy=0.77, loss=1.13] \n",
      "Train: 100% 2000/2000 [01:14<00:00, 26.67 step/s, accuracy=0.94, loss=0.28, step=126000]\n",
      "Valid: 100% 5664/5667 [00:23<00:00, 236.53 uttr/s, accuracy=0.81, loss=0.97] \n",
      "Train: 100% 2000/2000 [00:53<00:00, 37.31 step/s, accuracy=0.94, loss=0.22, step=128000]\n",
      "Valid: 100% 5664/5667 [00:23<00:00, 245.50 uttr/s, accuracy=0.79, loss=1.07] \n",
      "Train: 100% 2000/2000 [00:55<00:00, 35.93 step/s, accuracy=0.94, loss=0.22, step=130000]\n",
      "Valid: 100% 5664/5667 [00:23<00:00, 242.61 uttr/s, accuracy=0.79, loss=1.05] \n",
      "Train:   1% 11/2000 [00:00<00:38, 52.28 step/s, accuracy=0.94, loss=0.35, step=130011]"
     ]
    },
    {
     "name": "stdout",
     "output_type": "stream",
     "text": [
      "Step 130000, best model saved. (accuracy=0.8058)\n"
     ]
    },
    {
     "name": "stderr",
     "output_type": "stream",
     "text": [
      "Train: 100% 2000/2000 [00:54<00:00, 36.81 step/s, accuracy=0.94, loss=0.23, step=132000]\n",
      "Valid: 100% 5664/5667 [00:23<00:00, 244.18 uttr/s, accuracy=0.79, loss=1.02] \n",
      "Train: 100% 2000/2000 [01:16<00:00, 26.06 step/s, accuracy=0.91, loss=0.21, step=134000]\n",
      "Valid: 100% 5664/5667 [00:22<00:00, 247.19 uttr/s, accuracy=0.81, loss=0.97] \n",
      "Train: 100% 2000/2000 [00:54<00:00, 36.75 step/s, accuracy=0.97, loss=0.10, step=136000]\n",
      "Valid: 100% 5664/5667 [00:23<00:00, 238.60 uttr/s, accuracy=0.81, loss=1.00] \n",
      "Train: 100% 2000/2000 [00:55<00:00, 36.31 step/s, accuracy=0.97, loss=0.24, step=138000]\n",
      "Valid: 100% 5664/5667 [00:23<00:00, 245.39 uttr/s, accuracy=0.80, loss=1.01] \n",
      "Train: 100% 2000/2000 [00:55<00:00, 36.20 step/s, accuracy=0.94, loss=0.32, step=140000]\n",
      "Valid: 100% 5664/5667 [00:23<00:00, 244.06 uttr/s, accuracy=0.80, loss=1.00] \n",
      "Train:   1% 11/2000 [00:00<00:37, 52.97 step/s, accuracy=0.97, loss=0.20, step=140011]"
     ]
    },
    {
     "name": "stdout",
     "output_type": "stream",
     "text": [
      "Step 140000, best model saved. (accuracy=0.8084)\n"
     ]
    },
    {
     "name": "stderr",
     "output_type": "stream",
     "text": [
      "Train: 100% 2000/2000 [01:16<00:00, 26.30 step/s, accuracy=0.94, loss=0.20, step=142000]\n",
      "Valid: 100% 5664/5667 [00:23<00:00, 241.87 uttr/s, accuracy=0.81, loss=0.97] \n",
      "Train: 100% 2000/2000 [00:57<00:00, 35.07 step/s, accuracy=0.94, loss=0.38, step=144000]\n",
      "Valid: 100% 5664/5667 [00:23<00:00, 241.73 uttr/s, accuracy=0.79, loss=1.05] \n",
      "Train: 100% 2000/2000 [00:55<00:00, 36.12 step/s, accuracy=0.97, loss=0.17, step=146000]\n",
      "Valid: 100% 5664/5667 [00:23<00:00, 236.86 uttr/s, accuracy=0.79, loss=1.03] \n",
      "Train: 100% 2000/2000 [00:54<00:00, 36.75 step/s, accuracy=0.94, loss=0.13, step=148000]\n",
      "Valid: 100% 5664/5667 [00:22<00:00, 248.10 uttr/s, accuracy=0.79, loss=1.05] \n",
      "Train: 100% 2000/2000 [01:15<00:00, 26.46 step/s, accuracy=0.84, loss=0.53, step=150000]\n",
      "Valid: 100% 5664/5667 [00:23<00:00, 240.54 uttr/s, accuracy=0.81, loss=0.94] \n",
      "Train:   0% 10/2000 [00:00<00:43, 45.75 step/s, accuracy=0.94, loss=0.27, step=150010]"
     ]
    },
    {
     "name": "stdout",
     "output_type": "stream",
     "text": [
      "Step 150000, best model saved. (accuracy=0.8104)\n"
     ]
    },
    {
     "name": "stderr",
     "output_type": "stream",
     "text": [
      "Train: 100% 2000/2000 [00:53<00:00, 37.42 step/s, accuracy=0.94, loss=0.14, step=152000]\n",
      "Valid: 100% 5664/5667 [00:23<00:00, 244.50 uttr/s, accuracy=0.80, loss=1.03] \n",
      "Train: 100% 2000/2000 [00:54<00:00, 36.38 step/s, accuracy=0.97, loss=0.15, step=154000]\n",
      "Valid: 100% 5664/5667 [00:23<00:00, 243.30 uttr/s, accuracy=0.81, loss=0.97] \n",
      "Train: 100% 2000/2000 [00:53<00:00, 37.16 step/s, accuracy=0.97, loss=0.13, step=156000]\n",
      "Valid: 100% 5664/5667 [00:23<00:00, 244.81 uttr/s, accuracy=0.80, loss=1.00] \n",
      "Train: 100% 2000/2000 [01:16<00:00, 26.14 step/s, accuracy=1.00, loss=0.09, step=158000]\n",
      "Valid: 100% 5664/5667 [00:23<00:00, 243.37 uttr/s, accuracy=0.81, loss=0.95] \n",
      "Train: 100% 2000/2000 [00:54<00:00, 36.58 step/s, accuracy=0.94, loss=0.37, step=160000]\n",
      "Valid: 100% 5664/5667 [00:24<00:00, 235.98 uttr/s, accuracy=0.80, loss=1.01] \n",
      "Train:   1% 11/2000 [00:00<00:37, 53.37 step/s, accuracy=0.91, loss=0.25, step=160010]"
     ]
    },
    {
     "name": "stdout",
     "output_type": "stream",
     "text": [
      "Step 160000, best model saved. (accuracy=0.8134)\n"
     ]
    },
    {
     "name": "stderr",
     "output_type": "stream",
     "text": [
      "Train: 100% 2000/2000 [00:54<00:00, 36.75 step/s, accuracy=0.94, loss=0.16, step=162000]\n",
      "Valid: 100% 5664/5667 [00:23<00:00, 243.53 uttr/s, accuracy=0.80, loss=1.01] \n",
      "Train: 100% 2000/2000 [00:55<00:00, 36.36 step/s, accuracy=0.94, loss=0.30, step=164000]\n",
      "Valid: 100% 5664/5667 [00:23<00:00, 240.68 uttr/s, accuracy=0.80, loss=1.01] \n",
      "Train: 100% 2000/2000 [01:16<00:00, 26.18 step/s, accuracy=0.81, loss=0.60, step=166000]\n",
      "Valid: 100% 5664/5667 [00:23<00:00, 243.85 uttr/s, accuracy=0.81, loss=0.96] \n",
      "Train: 100% 2000/2000 [00:55<00:00, 36.09 step/s, accuracy=1.00, loss=0.11, step=168000]\n",
      "Valid: 100% 5664/5667 [00:23<00:00, 241.76 uttr/s, accuracy=0.80, loss=1.00] \n",
      "Train: 100% 2000/2000 [00:54<00:00, 36.69 step/s, accuracy=0.88, loss=0.56, step=170000]\n",
      "Valid: 100% 5664/5667 [00:24<00:00, 234.53 uttr/s, accuracy=0.79, loss=1.05] \n",
      "Train:   1% 11/2000 [00:00<00:37, 52.47 step/s, accuracy=0.91, loss=0.14, step=170010]"
     ]
    },
    {
     "name": "stdout",
     "output_type": "stream",
     "text": [
      "Step 170000, best model saved. (accuracy=0.8134)\n"
     ]
    },
    {
     "name": "stderr",
     "output_type": "stream",
     "text": [
      "Train: 100% 2000/2000 [00:54<00:00, 36.92 step/s, accuracy=0.94, loss=0.35, step=172000]\n",
      "Valid: 100% 5664/5667 [00:23<00:00, 245.76 uttr/s, accuracy=0.81, loss=0.99] \n",
      "Train: 100% 2000/2000 [01:18<00:00, 25.56 step/s, accuracy=1.00, loss=0.04, step=174000]\n",
      "Valid: 100% 5664/5667 [00:23<00:00, 245.73 uttr/s, accuracy=0.81, loss=0.96] \n",
      "Train: 100% 2000/2000 [00:55<00:00, 36.14 step/s, accuracy=0.91, loss=0.60, step=176000]\n",
      "Valid: 100% 5664/5667 [00:23<00:00, 241.28 uttr/s, accuracy=0.81, loss=0.97] \n",
      "Train: 100% 2000/2000 [00:55<00:00, 35.83 step/s, accuracy=0.91, loss=0.30, step=178000]\n",
      "Valid: 100% 5664/5667 [00:23<00:00, 241.23 uttr/s, accuracy=0.81, loss=0.95] \n",
      "Train: 100% 2000/2000 [00:53<00:00, 37.19 step/s, accuracy=0.91, loss=0.30, step=180000]\n",
      "Valid: 100% 5664/5667 [00:24<00:00, 228.55 uttr/s, accuracy=0.82, loss=0.92] \n",
      "Train:   0% 9/2000 [00:00<00:40, 48.78 step/s, accuracy=0.97, loss=0.09, step=180009]"
     ]
    },
    {
     "name": "stdout",
     "output_type": "stream",
     "text": [
      "Step 180000, best model saved. (accuracy=0.8151)\n"
     ]
    },
    {
     "name": "stderr",
     "output_type": "stream",
     "text": [
      "Train: 100% 2000/2000 [01:16<00:00, 26.10 step/s, accuracy=0.94, loss=0.15, step=182000]\n",
      "Valid: 100% 5664/5667 [00:23<00:00, 241.47 uttr/s, accuracy=0.82, loss=0.95] \n",
      "Train: 100% 2000/2000 [00:54<00:00, 36.59 step/s, accuracy=0.97, loss=0.11, step=184000]\n",
      "Valid: 100% 5664/5667 [00:22<00:00, 247.37 uttr/s, accuracy=0.82, loss=0.94] \n",
      "Train: 100% 2000/2000 [00:54<00:00, 36.76 step/s, accuracy=0.91, loss=0.34, step=186000]\n",
      "Valid: 100% 5664/5667 [00:22<00:00, 247.39 uttr/s, accuracy=0.81, loss=0.94] \n",
      "Train: 100% 2000/2000 [01:16<00:00, 26.02 step/s, accuracy=0.91, loss=0.24, step=188000]\n",
      "Valid: 100% 5664/5667 [00:23<00:00, 244.46 uttr/s, accuracy=0.81, loss=0.98] \n",
      "Train: 100% 2000/2000 [00:55<00:00, 36.26 step/s, accuracy=0.91, loss=0.35, step=190000]\n",
      "Valid: 100% 5664/5667 [00:23<00:00, 238.21 uttr/s, accuracy=0.81, loss=1.00] \n",
      "Train:   0% 10/2000 [00:00<00:39, 50.56 step/s, accuracy=0.97, loss=0.21, step=190009]"
     ]
    },
    {
     "name": "stdout",
     "output_type": "stream",
     "text": [
      "Step 190000, best model saved. (accuracy=0.8203)\n"
     ]
    },
    {
     "name": "stderr",
     "output_type": "stream",
     "text": [
      "Train: 100% 2000/2000 [00:55<00:00, 36.33 step/s, accuracy=0.94, loss=0.27, step=192000]\n",
      "Valid: 100% 5664/5667 [00:23<00:00, 237.59 uttr/s, accuracy=0.81, loss=1.00] \n",
      "Train: 100% 2000/2000 [00:54<00:00, 36.48 step/s, accuracy=0.91, loss=0.38, step=194000]\n",
      "Valid: 100% 5664/5667 [00:23<00:00, 244.15 uttr/s, accuracy=0.81, loss=0.93] \n",
      "Train: 100% 2000/2000 [01:17<00:00, 25.93 step/s, accuracy=0.94, loss=0.36, step=196000]\n",
      "Valid: 100% 5664/5667 [00:23<00:00, 243.43 uttr/s, accuracy=0.82, loss=0.93] \n",
      "Train: 100% 2000/2000 [00:54<00:00, 36.86 step/s, accuracy=0.94, loss=0.45, step=198000]\n",
      "Valid: 100% 5664/5667 [00:23<00:00, 244.14 uttr/s, accuracy=0.81, loss=0.97] \n",
      "Train: 100% 2000/2000 [00:56<00:00, 35.62 step/s, accuracy=0.97, loss=0.10, step=2e+5]  \n",
      "Valid: 100% 5664/5667 [00:24<00:00, 233.55 uttr/s, accuracy=0.81, loss=0.97] \n",
      "Train:   0% 10/2000 [00:00<00:47, 42.28 step/s, accuracy=0.94, loss=0.19, step=2e+5]"
     ]
    },
    {
     "name": "stdout",
     "output_type": "stream",
     "text": [
      "Step 200000, best model saved. (accuracy=0.8203)\n"
     ]
    },
    {
     "name": "stderr",
     "output_type": "stream",
     "text": [
      "Train: 100% 2000/2000 [00:53<00:00, 37.30 step/s, accuracy=0.97, loss=0.11, step=202000]\n",
      "Valid: 100% 5664/5667 [00:22<00:00, 249.16 uttr/s, accuracy=0.82, loss=0.95] \n",
      "Train: 100% 2000/2000 [01:15<00:00, 26.42 step/s, accuracy=1.00, loss=0.03, step=204000]\n",
      "Valid: 100% 5664/5667 [00:22<00:00, 252.43 uttr/s, accuracy=0.82, loss=0.95] \n",
      "Train: 100% 2000/2000 [00:55<00:00, 35.93 step/s, accuracy=0.94, loss=0.17, step=206000]\n",
      "Valid: 100% 5664/5667 [00:22<00:00, 246.86 uttr/s, accuracy=0.82, loss=0.92] \n",
      "Train: 100% 2000/2000 [00:54<00:00, 36.90 step/s, accuracy=0.91, loss=0.19, step=208000]\n",
      "Valid: 100% 5664/5667 [00:23<00:00, 243.35 uttr/s, accuracy=0.81, loss=0.97] \n",
      "Train: 100% 2000/2000 [00:55<00:00, 36.21 step/s, accuracy=0.91, loss=0.34, step=210000]\n",
      "Valid: 100% 5664/5667 [00:23<00:00, 238.07 uttr/s, accuracy=0.82, loss=0.90] \n",
      "Train:   1% 12/2000 [00:00<00:35, 55.26 step/s, accuracy=0.97, loss=0.14, step=210011]"
     ]
    },
    {
     "name": "stdout",
     "output_type": "stream",
     "text": [
      "Step 210000, best model saved. (accuracy=0.8234)\n"
     ]
    },
    {
     "name": "stderr",
     "output_type": "stream",
     "text": [
      "Train: 100% 2000/2000 [01:16<00:00, 26.20 step/s, accuracy=1.00, loss=0.06, step=212000]\n",
      "Valid: 100% 5664/5667 [00:23<00:00, 239.88 uttr/s, accuracy=0.82, loss=0.90] \n",
      "Train: 100% 2000/2000 [00:54<00:00, 36.45 step/s, accuracy=0.91, loss=0.33, step=214000]\n",
      "Valid: 100% 5664/5667 [00:23<00:00, 244.67 uttr/s, accuracy=0.82, loss=0.92] \n",
      "Train: 100% 2000/2000 [00:54<00:00, 36.77 step/s, accuracy=1.00, loss=0.06, step=216000]\n",
      "Valid: 100% 5664/5667 [00:23<00:00, 242.45 uttr/s, accuracy=0.81, loss=0.97] \n",
      "Train: 100% 2000/2000 [00:55<00:00, 36.04 step/s, accuracy=1.00, loss=0.03, step=218000]\n",
      "Valid: 100% 5664/5667 [00:22<00:00, 247.12 uttr/s, accuracy=0.82, loss=0.92] \n",
      "Train: 100% 2000/2000 [01:15<00:00, 26.37 step/s, accuracy=0.97, loss=0.11, step=220000]\n",
      "Valid: 100% 5664/5667 [00:22<00:00, 251.05 uttr/s, accuracy=0.82, loss=0.95] \n",
      "Train:   1% 12/2000 [00:00<00:37, 52.84 step/s, accuracy=1.00, loss=0.06, step=220012]"
     ]
    },
    {
     "name": "stdout",
     "output_type": "stream",
     "text": [
      "Step 220000, best model saved. (accuracy=0.8234)\n"
     ]
    },
    {
     "name": "stderr",
     "output_type": "stream",
     "text": [
      "Train: 100% 2000/2000 [00:53<00:00, 37.15 step/s, accuracy=0.97, loss=0.18, step=222000]\n",
      "Valid: 100% 5664/5667 [00:23<00:00, 242.69 uttr/s, accuracy=0.82, loss=0.97] \n",
      "Train: 100% 2000/2000 [00:53<00:00, 37.56 step/s, accuracy=0.97, loss=0.11, step=224000]\n",
      "Valid: 100% 5664/5667 [00:22<00:00, 252.07 uttr/s, accuracy=0.82, loss=0.97] \n",
      "Train: 100% 2000/2000 [00:53<00:00, 37.31 step/s, accuracy=1.00, loss=0.07, step=226000]\n",
      "Valid: 100% 5664/5667 [00:22<00:00, 246.78 uttr/s, accuracy=0.82, loss=0.93] \n",
      "Train: 100% 2000/2000 [01:15<00:00, 26.52 step/s, accuracy=0.97, loss=0.11, step=228000]\n",
      "Valid: 100% 5664/5667 [00:22<00:00, 249.83 uttr/s, accuracy=0.83, loss=0.93] \n",
      "Train: 100% 2000/2000 [00:56<00:00, 35.66 step/s, accuracy=0.91, loss=0.18, step=230000]\n",
      "Valid: 100% 5664/5667 [00:23<00:00, 244.49 uttr/s, accuracy=0.81, loss=0.96] \n",
      "Train:   1% 11/2000 [00:00<00:39, 49.73 step/s, accuracy=0.97, loss=0.13, step=230011]"
     ]
    },
    {
     "name": "stdout",
     "output_type": "stream",
     "text": [
      "Step 230000, best model saved. (accuracy=0.8256)\n"
     ]
    },
    {
     "name": "stderr",
     "output_type": "stream",
     "text": [
      "Train: 100% 2000/2000 [00:54<00:00, 36.56 step/s, accuracy=0.97, loss=0.05, step=232000]\n",
      "Valid: 100% 5664/5667 [00:23<00:00, 240.81 uttr/s, accuracy=0.82, loss=0.94] \n",
      "Train: 100% 2000/2000 [00:54<00:00, 36.75 step/s, accuracy=1.00, loss=0.05, step=234000]\n",
      "Valid: 100% 5664/5667 [00:23<00:00, 246.04 uttr/s, accuracy=0.82, loss=0.93] \n",
      "Train: 100% 2000/2000 [01:16<00:00, 26.05 step/s, accuracy=0.97, loss=0.18, step=236000]\n",
      "Valid: 100% 5664/5667 [00:22<00:00, 249.00 uttr/s, accuracy=0.82, loss=0.92] \n",
      "Train: 100% 2000/2000 [00:55<00:00, 35.97 step/s, accuracy=0.75, loss=0.63, step=238000]\n",
      "Valid: 100% 5664/5667 [00:24<00:00, 230.53 uttr/s, accuracy=0.83, loss=0.89] \n",
      "Train: 100% 2000/2000 [00:55<00:00, 36.22 step/s, accuracy=0.97, loss=0.15, step=240000]\n",
      "Valid: 100% 5664/5667 [00:23<00:00, 245.82 uttr/s, accuracy=0.82, loss=0.97] \n",
      "Train:   0% 10/2000 [00:00<00:41, 48.08 step/s, accuracy=1.00, loss=0.10, step=240010]"
     ]
    },
    {
     "name": "stdout",
     "output_type": "stream",
     "text": [
      "Step 240000, best model saved. (accuracy=0.8280)\n"
     ]
    },
    {
     "name": "stderr",
     "output_type": "stream",
     "text": [
      "Train: 100% 2000/2000 [00:54<00:00, 36.38 step/s, accuracy=0.94, loss=0.23, step=242000]\n",
      "Valid: 100% 5664/5667 [00:22<00:00, 248.41 uttr/s, accuracy=0.82, loss=0.94] \n",
      "Train: 100% 2000/2000 [01:15<00:00, 26.49 step/s, accuracy=0.97, loss=0.08, step=244000]\n",
      "Valid: 100% 5664/5667 [00:22<00:00, 251.83 uttr/s, accuracy=0.83, loss=0.90] \n",
      "Train: 100% 2000/2000 [00:53<00:00, 37.11 step/s, accuracy=0.94, loss=0.24, step=246000]\n",
      "Valid: 100% 5664/5667 [00:23<00:00, 244.00 uttr/s, accuracy=0.83, loss=0.89] \n",
      "Train: 100% 2000/2000 [00:54<00:00, 36.38 step/s, accuracy=0.97, loss=0.14, step=248000]\n",
      "Valid: 100% 5664/5667 [00:22<00:00, 250.51 uttr/s, accuracy=0.83, loss=0.92] \n",
      "Train: 100% 2000/2000 [00:54<00:00, 37.02 step/s, accuracy=0.97, loss=0.04, step=250000]\n",
      "Valid: 100% 5664/5667 [00:22<00:00, 247.61 uttr/s, accuracy=0.82, loss=0.97] \n",
      "Train:   1% 12/2000 [00:00<00:37, 53.19 step/s, accuracy=0.91, loss=0.18, step=250012]"
     ]
    },
    {
     "name": "stdout",
     "output_type": "stream",
     "text": [
      "Step 250000, best model saved. (accuracy=0.8280)\n"
     ]
    },
    {
     "name": "stderr",
     "output_type": "stream",
     "text": [
      "Train: 100% 2000/2000 [01:15<00:00, 26.55 step/s, accuracy=0.94, loss=0.28, step=252000]\n",
      "Valid: 100% 5664/5667 [00:23<00:00, 244.32 uttr/s, accuracy=0.82, loss=0.93] \n",
      "Train: 100% 2000/2000 [00:54<00:00, 36.42 step/s, accuracy=0.88, loss=0.20, step=254000]\n",
      "Valid: 100% 5664/5667 [00:23<00:00, 241.04 uttr/s, accuracy=0.82, loss=0.90] \n",
      "Train: 100% 2000/2000 [00:55<00:00, 36.16 step/s, accuracy=0.94, loss=0.12, step=256000]\n",
      "Valid: 100% 5664/5667 [00:22<00:00, 250.41 uttr/s, accuracy=0.82, loss=0.92] \n",
      "Train: 100% 2000/2000 [00:55<00:00, 35.88 step/s, accuracy=1.00, loss=0.01, step=258000]\n",
      "Valid: 100% 5664/5667 [00:24<00:00, 234.38 uttr/s, accuracy=0.82, loss=0.89] \n",
      "Train: 100% 2000/2000 [01:18<00:00, 25.38 step/s, accuracy=0.97, loss=0.08, step=260000]\n",
      "Valid: 100% 5664/5667 [00:23<00:00, 237.69 uttr/s, accuracy=0.82, loss=0.93] \n",
      "Train:   1% 11/2000 [00:00<00:36, 54.52 step/s, accuracy=1.00, loss=0.06, step=260010]"
     ]
    },
    {
     "name": "stdout",
     "output_type": "stream",
     "text": [
      "Step 260000, best model saved. (accuracy=0.8280)\n"
     ]
    },
    {
     "name": "stderr",
     "output_type": "stream",
     "text": [
      "Train: 100% 2000/2000 [00:53<00:00, 37.32 step/s, accuracy=0.88, loss=0.41, step=262000]\n",
      "Valid: 100% 5664/5667 [00:22<00:00, 246.61 uttr/s, accuracy=0.82, loss=0.95] \n",
      "Train: 100% 2000/2000 [00:54<00:00, 36.57 step/s, accuracy=0.97, loss=0.10, step=264000]\n",
      "Valid: 100% 5664/5667 [00:22<00:00, 248.85 uttr/s, accuracy=0.83, loss=0.89] \n",
      "Train: 100% 2000/2000 [00:54<00:00, 36.69 step/s, accuracy=0.94, loss=0.30, step=266000]\n",
      "Valid: 100% 5664/5667 [00:23<00:00, 244.52 uttr/s, accuracy=0.83, loss=0.88] \n",
      "Train: 100% 2000/2000 [01:15<00:00, 26.35 step/s, accuracy=0.94, loss=0.20, step=268000]\n",
      "Valid: 100% 5664/5667 [00:23<00:00, 246.05 uttr/s, accuracy=0.83, loss=0.88] \n",
      "Train: 100% 2000/2000 [00:53<00:00, 37.04 step/s, accuracy=0.94, loss=0.19, step=270000]\n",
      "Valid: 100% 5664/5667 [00:23<00:00, 243.58 uttr/s, accuracy=0.82, loss=0.93] \n",
      "Train:   0% 9/2000 [00:00<00:44, 44.47 step/s, accuracy=0.94, loss=0.16, step=270008]"
     ]
    },
    {
     "name": "stdout",
     "output_type": "stream",
     "text": [
      "Step 270000, best model saved. (accuracy=0.8317)\n"
     ]
    },
    {
     "name": "stderr",
     "output_type": "stream",
     "text": [
      "Train: 100% 2000/2000 [00:53<00:00, 37.20 step/s, accuracy=0.97, loss=0.07, step=272000]\n",
      "Valid: 100% 5664/5667 [00:23<00:00, 244.66 uttr/s, accuracy=0.83, loss=0.90] \n",
      "Train: 100% 2000/2000 [01:15<00:00, 26.34 step/s, accuracy=1.00, loss=0.01, step=274000]\n",
      "Valid: 100% 5664/5667 [00:23<00:00, 236.56 uttr/s, accuracy=0.83, loss=0.90] \n",
      "Train: 100% 2000/2000 [00:53<00:00, 37.07 step/s, accuracy=0.91, loss=0.19, step=276000]\n",
      "Valid: 100% 5664/5667 [00:22<00:00, 247.12 uttr/s, accuracy=0.83, loss=0.90] \n",
      "Train: 100% 2000/2000 [00:54<00:00, 36.88 step/s, accuracy=1.00, loss=0.04, step=278000]\n",
      "Valid: 100% 5664/5667 [00:23<00:00, 244.79 uttr/s, accuracy=0.82, loss=0.93] \n",
      "Train: 100% 2000/2000 [00:55<00:00, 36.03 step/s, accuracy=0.94, loss=0.37, step=280000]\n",
      "Valid: 100% 5664/5667 [00:23<00:00, 244.32 uttr/s, accuracy=0.84, loss=0.90] \n",
      "Train:   1% 11/2000 [00:00<00:36, 54.68 step/s, accuracy=0.91, loss=0.29, step=280010]"
     ]
    },
    {
     "name": "stdout",
     "output_type": "stream",
     "text": [
      "Step 280000, best model saved. (accuracy=0.8363)\n"
     ]
    },
    {
     "name": "stderr",
     "output_type": "stream",
     "text": [
      "Train: 100% 2000/2000 [01:16<00:00, 26.20 step/s, accuracy=0.97, loss=0.14, step=282000]\n",
      "Valid: 100% 5664/5667 [00:23<00:00, 243.35 uttr/s, accuracy=0.83, loss=0.87] \n",
      "Train: 100% 2000/2000 [00:55<00:00, 36.35 step/s, accuracy=0.94, loss=0.16, step=284000]\n",
      "Valid: 100% 5664/5667 [00:22<00:00, 246.57 uttr/s, accuracy=0.82, loss=0.89] \n",
      "Train: 100% 2000/2000 [00:58<00:00, 34.30 step/s, accuracy=0.97, loss=0.25, step=286000]\n",
      "Valid: 100% 5664/5667 [00:25<00:00, 226.27 uttr/s, accuracy=0.83, loss=0.88] \n",
      "Train: 100% 2000/2000 [00:55<00:00, 36.12 step/s, accuracy=0.97, loss=0.11, step=288000]\n",
      "Valid: 100% 5664/5667 [00:24<00:00, 232.20 uttr/s, accuracy=0.83, loss=0.90] \n",
      "Train: 100% 2000/2000 [01:21<00:00, 24.51 step/s, accuracy=1.00, loss=0.07, step=290000]\n",
      "Valid: 100% 5664/5667 [00:25<00:00, 220.57 uttr/s, accuracy=0.84, loss=0.88] \n",
      "Train:   0% 8/2000 [00:00<00:51, 38.44 step/s, accuracy=0.97, loss=0.08, step=290007]"
     ]
    },
    {
     "name": "stdout",
     "output_type": "stream",
     "text": [
      "Step 290000, best model saved. (accuracy=0.8376)\n"
     ]
    },
    {
     "name": "stderr",
     "output_type": "stream",
     "text": [
      "Train: 100% 2000/2000 [00:54<00:00, 36.58 step/s, accuracy=0.97, loss=0.10, step=292000]\n",
      "Valid: 100% 5664/5667 [00:23<00:00, 240.38 uttr/s, accuracy=0.84, loss=0.88] \n",
      "Train: 100% 2000/2000 [00:54<00:00, 36.98 step/s, accuracy=0.94, loss=0.10, step=294000]\n",
      "Valid: 100% 5664/5667 [00:23<00:00, 245.14 uttr/s, accuracy=0.84, loss=0.88] \n",
      "Train: 100% 2000/2000 [00:54<00:00, 36.80 step/s, accuracy=0.88, loss=0.40, step=296000]\n",
      "Valid: 100% 5664/5667 [00:23<00:00, 245.30 uttr/s, accuracy=0.83, loss=0.86] \n",
      "Train: 100% 2000/2000 [01:16<00:00, 26.23 step/s, accuracy=0.91, loss=0.26, step=298000]\n",
      "Valid: 100% 5664/5667 [00:23<00:00, 241.58 uttr/s, accuracy=0.83, loss=0.88] \n",
      "Train: 100% 2000/2000 [00:54<00:00, 36.66 step/s, accuracy=0.94, loss=0.21, step=3e+5]  \n",
      "Valid: 100% 5664/5667 [00:23<00:00, 243.15 uttr/s, accuracy=0.84, loss=0.85] \n",
      "Train:   1% 12/2000 [00:00<00:34, 56.94 step/s, accuracy=0.94, loss=0.16, step=3e+5]"
     ]
    },
    {
     "name": "stdout",
     "output_type": "stream",
     "text": [
      "Step 300000, best model saved. (accuracy=0.8381)\n"
     ]
    },
    {
     "name": "stderr",
     "output_type": "stream",
     "text": [
      "Train: 100% 2000/2000 [00:53<00:00, 37.25 step/s, accuracy=0.97, loss=0.12, step=302000]\n",
      "Valid: 100% 5664/5667 [00:23<00:00, 245.82 uttr/s, accuracy=0.83, loss=0.90] \n",
      "Train: 100% 2000/2000 [00:53<00:00, 37.33 step/s, accuracy=0.94, loss=0.12, step=304000]\n",
      "Valid: 100% 5664/5667 [00:23<00:00, 242.57 uttr/s, accuracy=0.83, loss=0.87] \n",
      "Train: 100% 2000/2000 [01:14<00:00, 26.76 step/s, accuracy=0.91, loss=0.18, step=306000]\n",
      "Valid: 100% 5664/5667 [00:23<00:00, 239.83 uttr/s, accuracy=0.83, loss=0.89] \n",
      "Train: 100% 2000/2000 [00:52<00:00, 38.35 step/s, accuracy=0.94, loss=0.28, step=308000]\n",
      "Valid: 100% 5664/5667 [00:22<00:00, 249.39 uttr/s, accuracy=0.84, loss=0.87] \n",
      "Train: 100% 2000/2000 [00:53<00:00, 37.70 step/s, accuracy=0.91, loss=0.23, step=310000]\n",
      "Valid: 100% 5664/5667 [00:23<00:00, 243.22 uttr/s, accuracy=0.84, loss=0.85] \n",
      "Train:   1% 11/2000 [00:00<00:38, 52.05 step/s, accuracy=0.84, loss=0.34, step=310011]"
     ]
    },
    {
     "name": "stdout",
     "output_type": "stream",
     "text": [
      "Step 310000, best model saved. (accuracy=0.8381)\n"
     ]
    },
    {
     "name": "stderr",
     "output_type": "stream",
     "text": [
      "Train: 100% 2000/2000 [00:52<00:00, 38.40 step/s, accuracy=1.00, loss=0.07, step=312000]\n",
      "Valid: 100% 5664/5667 [00:23<00:00, 245.21 uttr/s, accuracy=0.84, loss=0.91] \n",
      "Train: 100% 2000/2000 [01:15<00:00, 26.59 step/s, accuracy=0.91, loss=0.23, step=314000]\n",
      "Valid: 100% 5664/5667 [00:23<00:00, 243.66 uttr/s, accuracy=0.83, loss=0.91] \n",
      "Train: 100% 2000/2000 [00:52<00:00, 37.97 step/s, accuracy=0.97, loss=0.09, step=316000]\n",
      "Valid: 100% 5664/5667 [00:23<00:00, 242.06 uttr/s, accuracy=0.83, loss=0.91] \n",
      "Train: 100% 2000/2000 [00:51<00:00, 38.47 step/s, accuracy=0.97, loss=0.09, step=318000]\n",
      "Valid: 100% 5664/5667 [00:22<00:00, 247.10 uttr/s, accuracy=0.84, loss=0.83] \n",
      "Train: 100% 2000/2000 [00:53<00:00, 37.53 step/s, accuracy=0.97, loss=0.13, step=320000]\n",
      "Valid: 100% 5664/5667 [00:23<00:00, 236.10 uttr/s, accuracy=0.84, loss=0.87] \n",
      "Train:   1% 12/2000 [00:00<00:38, 51.91 step/s, accuracy=0.91, loss=0.34, step=320012]"
     ]
    },
    {
     "name": "stdout",
     "output_type": "stream",
     "text": [
      "Step 320000, best model saved. (accuracy=0.8383)\n"
     ]
    },
    {
     "name": "stderr",
     "output_type": "stream",
     "text": [
      "Train: 100% 2000/2000 [01:13<00:00, 27.28 step/s, accuracy=0.97, loss=0.14, step=322000]\n",
      "Valid: 100% 5664/5667 [00:23<00:00, 245.82 uttr/s, accuracy=0.83, loss=0.93] \n",
      "Train: 100% 2000/2000 [00:53<00:00, 37.58 step/s, accuracy=0.97, loss=0.08, step=324000]\n",
      "Valid: 100% 5664/5667 [00:22<00:00, 247.37 uttr/s, accuracy=0.84, loss=0.87] \n",
      "Train: 100% 2000/2000 [00:51<00:00, 38.66 step/s, accuracy=0.94, loss=0.14, step=326000]\n",
      "Valid: 100% 5664/5667 [00:23<00:00, 239.59 uttr/s, accuracy=0.84, loss=0.87] \n",
      "Train: 100% 2000/2000 [00:53<00:00, 37.42 step/s, accuracy=0.97, loss=0.08, step=328000]\n",
      "Valid: 100% 5664/5667 [00:23<00:00, 243.61 uttr/s, accuracy=0.84, loss=0.89] \n",
      "Train: 100% 2000/2000 [01:13<00:00, 27.12 step/s, accuracy=0.97, loss=0.13, step=330000]\n",
      "Valid: 100% 5664/5667 [00:23<00:00, 241.10 uttr/s, accuracy=0.83, loss=0.91] \n",
      "Train:   1% 12/2000 [00:00<00:36, 54.78 step/s, accuracy=0.97, loss=0.15, step=330012]"
     ]
    },
    {
     "name": "stdout",
     "output_type": "stream",
     "text": [
      "Step 330000, best model saved. (accuracy=0.8407)\n"
     ]
    },
    {
     "name": "stderr",
     "output_type": "stream",
     "text": [
      "Train: 100% 2000/2000 [00:53<00:00, 37.40 step/s, accuracy=1.00, loss=0.01, step=332000]\n",
      "Valid: 100% 5664/5667 [00:23<00:00, 242.69 uttr/s, accuracy=0.84, loss=0.88] \n",
      "Train: 100% 2000/2000 [00:51<00:00, 38.55 step/s, accuracy=1.00, loss=0.05, step=334000]\n",
      "Valid: 100% 5664/5667 [00:22<00:00, 248.27 uttr/s, accuracy=0.85, loss=0.81] \n",
      "Train: 100% 2000/2000 [00:53<00:00, 37.55 step/s, accuracy=0.91, loss=0.14, step=336000]\n",
      "Valid: 100% 5664/5667 [00:23<00:00, 239.72 uttr/s, accuracy=0.84, loss=0.87] \n",
      "Train: 100% 2000/2000 [01:15<00:00, 26.59 step/s, accuracy=0.94, loss=0.19, step=338000]\n",
      "Valid: 100% 5664/5667 [00:24<00:00, 234.66 uttr/s, accuracy=0.83, loss=0.93] \n",
      "Train: 100% 2000/2000 [00:52<00:00, 38.07 step/s, accuracy=0.97, loss=0.06, step=340000]\n",
      "Valid: 100% 5664/5667 [00:23<00:00, 240.20 uttr/s, accuracy=0.84, loss=0.83] \n",
      "Train:   1% 13/2000 [00:00<00:32, 61.09 step/s, accuracy=0.97, loss=0.15, step=340012]"
     ]
    },
    {
     "name": "stdout",
     "output_type": "stream",
     "text": [
      "Step 340000, best model saved. (accuracy=0.8475)\n"
     ]
    },
    {
     "name": "stderr",
     "output_type": "stream",
     "text": [
      "Train: 100% 2000/2000 [00:52<00:00, 38.33 step/s, accuracy=0.94, loss=0.19, step=342000]\n",
      "Valid: 100% 5664/5667 [00:23<00:00, 240.95 uttr/s, accuracy=0.83, loss=0.90] \n",
      "Train: 100% 2000/2000 [00:53<00:00, 37.44 step/s, accuracy=0.91, loss=0.17, step=344000]\n",
      "Valid: 100% 5664/5667 [00:23<00:00, 239.76 uttr/s, accuracy=0.84, loss=0.88] \n",
      "Train: 100% 2000/2000 [01:15<00:00, 26.35 step/s, accuracy=0.97, loss=0.09, step=346000]\n",
      "Valid: 100% 5664/5667 [00:23<00:00, 239.28 uttr/s, accuracy=0.84, loss=0.87] \n",
      "Train: 100% 2000/2000 [00:52<00:00, 37.78 step/s, accuracy=0.97, loss=0.09, step=348000]\n",
      "Valid: 100% 5664/5667 [00:23<00:00, 245.89 uttr/s, accuracy=0.83, loss=0.92] \n",
      "Train: 100% 2000/2000 [00:52<00:00, 38.19 step/s, accuracy=1.00, loss=0.05, step=350000]\n",
      "Valid: 100% 5664/5667 [00:23<00:00, 238.97 uttr/s, accuracy=0.84, loss=0.85] \n",
      "Train:   1% 11/2000 [00:00<00:40, 49.64 step/s, accuracy=0.97, loss=0.08, step=350011]"
     ]
    },
    {
     "name": "stdout",
     "output_type": "stream",
     "text": [
      "Step 350000, best model saved. (accuracy=0.8475)\n"
     ]
    },
    {
     "name": "stderr",
     "output_type": "stream",
     "text": [
      "Train: 100% 2000/2000 [00:53<00:00, 37.45 step/s, accuracy=0.94, loss=0.11, step=352000]\n",
      "Valid: 100% 5664/5667 [00:23<00:00, 242.11 uttr/s, accuracy=0.84, loss=0.84] \n",
      "Train: 100% 2000/2000 [01:15<00:00, 26.54 step/s, accuracy=1.00, loss=0.04, step=354000]\n",
      "Valid: 100% 5664/5667 [00:23<00:00, 238.26 uttr/s, accuracy=0.84, loss=0.86] \n",
      "Train: 100% 2000/2000 [00:53<00:00, 37.43 step/s, accuracy=0.94, loss=0.15, step=356000]\n",
      "Valid: 100% 5664/5667 [00:23<00:00, 238.25 uttr/s, accuracy=0.84, loss=0.82] \n",
      "Train: 100% 2000/2000 [00:53<00:00, 37.48 step/s, accuracy=1.00, loss=0.01, step=358000]\n",
      "Valid: 100% 5664/5667 [00:24<00:00, 231.55 uttr/s, accuracy=0.84, loss=0.88] \n",
      "Train: 100% 2000/2000 [00:53<00:00, 37.22 step/s, accuracy=0.97, loss=0.05, step=360000]\n",
      "Valid: 100% 5664/5667 [00:23<00:00, 237.22 uttr/s, accuracy=0.83, loss=0.92] \n",
      "Train:   1% 12/2000 [00:00<00:37, 53.41 step/s, accuracy=1.00, loss=0.01, step=360012]"
     ]
    },
    {
     "name": "stdout",
     "output_type": "stream",
     "text": [
      "Step 360000, best model saved. (accuracy=0.8475)\n"
     ]
    },
    {
     "name": "stderr",
     "output_type": "stream",
     "text": [
      "Train: 100% 2000/2000 [01:16<00:00, 26.30 step/s, accuracy=1.00, loss=0.02, step=362000]\n",
      "Valid: 100% 5664/5667 [00:23<00:00, 236.29 uttr/s, accuracy=0.83, loss=0.93] \n",
      "Train: 100% 2000/2000 [00:53<00:00, 37.17 step/s, accuracy=0.94, loss=0.30, step=364000]\n",
      "Valid: 100% 5664/5667 [00:24<00:00, 235.28 uttr/s, accuracy=0.84, loss=0.89] \n",
      "Train: 100% 2000/2000 [00:54<00:00, 36.97 step/s, accuracy=1.00, loss=0.03, step=366000]\n",
      "Valid: 100% 5664/5667 [00:24<00:00, 231.48 uttr/s, accuracy=0.83, loss=0.86] \n",
      "Train: 100% 2000/2000 [01:16<00:00, 26.20 step/s, accuracy=0.91, loss=0.23, step=368000]\n",
      "Valid: 100% 5664/5667 [00:22<00:00, 247.75 uttr/s, accuracy=0.83, loss=0.89] \n",
      "Train: 100% 2000/2000 [00:48<00:00, 41.65 step/s, accuracy=0.97, loss=0.07, step=370000]\n",
      "Valid: 100% 5664/5667 [00:20<00:00, 270.63 uttr/s, accuracy=0.85, loss=0.86] \n",
      "Train:   1% 13/2000 [00:00<00:34, 58.29 step/s, accuracy=0.97, loss=0.07, step=370013]"
     ]
    },
    {
     "name": "stdout",
     "output_type": "stream",
     "text": [
      "Step 370000, best model saved. (accuracy=0.8475)\n"
     ]
    },
    {
     "name": "stderr",
     "output_type": "stream",
     "text": [
      "Train: 100% 2000/2000 [00:47<00:00, 41.82 step/s, accuracy=0.94, loss=0.11, step=372000]\n",
      "Valid: 100% 5664/5667 [00:20<00:00, 278.93 uttr/s, accuracy=0.85, loss=0.80] \n",
      "Train: 100% 2000/2000 [00:46<00:00, 42.75 step/s, accuracy=1.00, loss=0.04, step=374000]\n",
      "Valid: 100% 5664/5667 [00:20<00:00, 276.27 uttr/s, accuracy=0.84, loss=0.89] \n",
      "Train: 100% 2000/2000 [01:06<00:00, 30.11 step/s, accuracy=0.97, loss=0.17, step=376000]\n",
      "Valid: 100% 5664/5667 [00:20<00:00, 278.87 uttr/s, accuracy=0.83, loss=0.92] \n",
      "Train: 100% 2000/2000 [00:47<00:00, 42.08 step/s, accuracy=1.00, loss=0.00, step=378000]\n",
      "Valid: 100% 5664/5667 [00:20<00:00, 278.27 uttr/s, accuracy=0.83, loss=0.91] \n",
      "Train: 100% 2000/2000 [00:46<00:00, 42.74 step/s, accuracy=0.97, loss=0.12, step=380000]\n",
      "Valid: 100% 5664/5667 [00:20<00:00, 276.44 uttr/s, accuracy=0.85, loss=0.85] \n",
      "Train:   1% 13/2000 [00:00<00:31, 63.72 step/s, accuracy=0.97, loss=0.13, step=380013]"
     ]
    },
    {
     "name": "stdout",
     "output_type": "stream",
     "text": [
      "Step 380000, best model saved. (accuracy=0.8480)\n"
     ]
    },
    {
     "name": "stderr",
     "output_type": "stream",
     "text": [
      "Train: 100% 2000/2000 [00:46<00:00, 43.01 step/s, accuracy=0.97, loss=0.18, step=382000]\n",
      "Valid: 100% 5664/5667 [00:20<00:00, 277.45 uttr/s, accuracy=0.84, loss=0.83] \n",
      "Train: 100% 2000/2000 [01:05<00:00, 30.37 step/s, accuracy=0.94, loss=0.17, step=384000]\n",
      "Valid: 100% 5664/5667 [00:20<00:00, 274.56 uttr/s, accuracy=0.84, loss=0.81] \n",
      "Train: 100% 2000/2000 [00:46<00:00, 42.62 step/s, accuracy=0.97, loss=0.07, step=386000]\n",
      "Valid: 100% 5664/5667 [00:20<00:00, 279.46 uttr/s, accuracy=0.84, loss=0.86] \n",
      "Train: 100% 2000/2000 [00:46<00:00, 42.90 step/s, accuracy=0.94, loss=0.15, step=388000]\n",
      "Valid: 100% 5664/5667 [00:20<00:00, 278.92 uttr/s, accuracy=0.84, loss=0.87] \n",
      "Train: 100% 2000/2000 [00:46<00:00, 42.93 step/s, accuracy=0.84, loss=0.38, step=390000]\n",
      "Valid: 100% 5664/5667 [00:20<00:00, 278.31 uttr/s, accuracy=0.84, loss=0.87] \n",
      "Train:   1% 13/2000 [00:00<00:30, 65.61 step/s, accuracy=0.97, loss=0.21, step=390012]"
     ]
    },
    {
     "name": "stdout",
     "output_type": "stream",
     "text": [
      "Step 390000, best model saved. (accuracy=0.8480)\n"
     ]
    },
    {
     "name": "stderr",
     "output_type": "stream",
     "text": [
      "Train: 100% 2000/2000 [01:06<00:00, 30.28 step/s, accuracy=0.97, loss=0.10, step=392000]\n",
      "Valid: 100% 5664/5667 [00:20<00:00, 279.64 uttr/s, accuracy=0.86, loss=0.79] \n",
      "Train: 100% 2000/2000 [00:46<00:00, 42.90 step/s, accuracy=0.94, loss=0.35, step=394000]\n",
      "Valid: 100% 5664/5667 [00:20<00:00, 278.75 uttr/s, accuracy=0.84, loss=0.89] \n",
      "Train: 100% 2000/2000 [00:46<00:00, 42.98 step/s, accuracy=1.00, loss=0.01, step=396000]\n",
      "Valid: 100% 5664/5667 [00:20<00:00, 278.57 uttr/s, accuracy=0.84, loss=0.86] \n",
      "Train: 100% 2000/2000 [00:46<00:00, 42.78 step/s, accuracy=0.97, loss=0.11, step=398000]\n",
      "Valid: 100% 5664/5667 [00:20<00:00, 277.50 uttr/s, accuracy=0.85, loss=0.83] \n",
      "Train: 100% 2000/2000 [01:05<00:00, 30.31 step/s, accuracy=0.97, loss=0.06, step=4e+5]  \n",
      "Valid: 100% 5664/5667 [00:20<00:00, 277.66 uttr/s, accuracy=0.84, loss=0.82] \n",
      "Train:   1% 12/2000 [00:00<00:33, 59.07 step/s, accuracy=0.97, loss=0.12, step=4e+5]"
     ]
    },
    {
     "name": "stdout",
     "output_type": "stream",
     "text": [
      "Step 400000, best model saved. (accuracy=0.8600)\n"
     ]
    },
    {
     "name": "stderr",
     "output_type": "stream",
     "text": [
      "Train: 100% 2000/2000 [00:46<00:00, 42.80 step/s, accuracy=0.81, loss=0.36, step=402000]\n",
      "Valid: 100% 5664/5667 [00:20<00:00, 277.31 uttr/s, accuracy=0.85, loss=0.80] \n",
      "Train: 100% 2000/2000 [00:47<00:00, 42.52 step/s, accuracy=0.94, loss=0.24, step=404000]\n",
      "Valid: 100% 5664/5667 [00:20<00:00, 278.65 uttr/s, accuracy=0.86, loss=0.80] \n",
      "Train: 100% 2000/2000 [00:46<00:00, 43.06 step/s, accuracy=0.97, loss=0.18, step=406000]\n",
      "Valid: 100% 5664/5667 [00:20<00:00, 277.18 uttr/s, accuracy=0.84, loss=0.90] \n",
      "Train: 100% 2000/2000 [01:06<00:00, 30.22 step/s, accuracy=0.94, loss=0.14, step=408000]\n",
      "Valid: 100% 5664/5667 [00:20<00:00, 275.93 uttr/s, accuracy=0.84, loss=0.85] \n",
      "Train: 100% 2000/2000 [00:46<00:00, 43.05 step/s, accuracy=1.00, loss=0.03, step=410000]\n",
      "Valid: 100% 5664/5667 [00:20<00:00, 279.32 uttr/s, accuracy=0.85, loss=0.84] \n",
      "Train:   1% 12/2000 [00:00<00:31, 63.03 step/s, accuracy=1.00, loss=0.07, step=410012]"
     ]
    },
    {
     "name": "stdout",
     "output_type": "stream",
     "text": [
      "Step 410000, best model saved. (accuracy=0.8600)\n"
     ]
    },
    {
     "name": "stderr",
     "output_type": "stream",
     "text": [
      "Train: 100% 2000/2000 [00:46<00:00, 42.62 step/s, accuracy=1.00, loss=0.04, step=412000]\n",
      "Valid: 100% 5664/5667 [00:20<00:00, 276.86 uttr/s, accuracy=0.85, loss=0.82] \n",
      "Train: 100% 2000/2000 [00:46<00:00, 42.91 step/s, accuracy=1.00, loss=0.01, step=414000]\n",
      "Valid: 100% 5664/5667 [00:20<00:00, 278.32 uttr/s, accuracy=0.85, loss=0.81] \n",
      "Train: 100% 2000/2000 [01:05<00:00, 30.31 step/s, accuracy=1.00, loss=0.02, step=416000]\n",
      "Valid: 100% 5664/5667 [00:20<00:00, 280.14 uttr/s, accuracy=0.84, loss=0.87] \n",
      "Train: 100% 2000/2000 [00:46<00:00, 43.01 step/s, accuracy=0.97, loss=0.05, step=418000]\n",
      "Valid: 100% 5664/5667 [00:20<00:00, 279.88 uttr/s, accuracy=0.84, loss=0.85] \n",
      "Train: 100% 2000/2000 [00:46<00:00, 42.91 step/s, accuracy=0.94, loss=0.20, step=420000]\n",
      "Valid: 100% 5664/5667 [00:20<00:00, 277.61 uttr/s, accuracy=0.85, loss=0.83] \n",
      "Train:   1% 13/2000 [00:00<00:31, 63.61 step/s, accuracy=0.97, loss=0.06, step=420012]"
     ]
    },
    {
     "name": "stdout",
     "output_type": "stream",
     "text": [
      "Step 420000, best model saved. (accuracy=0.8600)\n"
     ]
    },
    {
     "name": "stderr",
     "output_type": "stream",
     "text": [
      "Train: 100% 2000/2000 [00:46<00:00, 42.93 step/s, accuracy=0.97, loss=0.11, step=422000]\n",
      "Valid: 100% 5664/5667 [00:20<00:00, 278.12 uttr/s, accuracy=0.85, loss=0.80] \n",
      "Train: 100% 2000/2000 [01:06<00:00, 30.26 step/s, accuracy=0.97, loss=0.06, step=424000]\n",
      "Valid: 100% 5664/5667 [00:20<00:00, 274.92 uttr/s, accuracy=0.86, loss=0.77] \n",
      "Train: 100% 2000/2000 [00:46<00:00, 42.98 step/s, accuracy=0.84, loss=0.41, step=426000]\n",
      "Valid: 100% 5664/5667 [00:20<00:00, 270.74 uttr/s, accuracy=0.86, loss=0.82] \n",
      "Train: 100% 2000/2000 [00:46<00:00, 42.67 step/s, accuracy=1.00, loss=0.05, step=428000]\n",
      "Valid: 100% 5664/5667 [00:20<00:00, 280.17 uttr/s, accuracy=0.84, loss=0.86] \n",
      "Train: 100% 2000/2000 [00:46<00:00, 42.58 step/s, accuracy=0.97, loss=0.08, step=430000]\n",
      "Valid: 100% 5664/5667 [00:20<00:00, 275.08 uttr/s, accuracy=0.85, loss=0.84] \n",
      "Train:   1% 13/2000 [00:00<00:33, 58.75 step/s, accuracy=0.94, loss=0.11, step=430013]"
     ]
    },
    {
     "name": "stdout",
     "output_type": "stream",
     "text": [
      "Step 430000, best model saved. (accuracy=0.8600)\n"
     ]
    },
    {
     "name": "stderr",
     "output_type": "stream",
     "text": [
      "Train: 100% 2000/2000 [01:06<00:00, 30.22 step/s, accuracy=0.97, loss=0.07, step=432000]\n",
      "Valid: 100% 5664/5667 [00:20<00:00, 278.92 uttr/s, accuracy=0.84, loss=0.84] \n",
      "Train: 100% 2000/2000 [00:46<00:00, 42.97 step/s, accuracy=0.94, loss=0.16, step=434000]\n",
      "Valid: 100% 5664/5667 [00:20<00:00, 275.61 uttr/s, accuracy=0.85, loss=0.81] \n",
      "Train: 100% 2000/2000 [00:46<00:00, 42.73 step/s, accuracy=1.00, loss=0.04, step=436000]\n",
      "Valid: 100% 5664/5667 [00:20<00:00, 279.12 uttr/s, accuracy=0.86, loss=0.77] \n",
      "Train: 100% 2000/2000 [00:46<00:00, 42.94 step/s, accuracy=1.00, loss=0.03, step=438000]\n",
      "Valid: 100% 5664/5667 [00:20<00:00, 277.09 uttr/s, accuracy=0.85, loss=0.82] \n",
      "Train: 100% 2000/2000 [01:06<00:00, 30.29 step/s, accuracy=1.00, loss=0.02, step=440000]\n",
      "Valid: 100% 5664/5667 [00:20<00:00, 277.62 uttr/s, accuracy=0.84, loss=0.85] \n",
      "Train:   1% 13/2000 [00:00<00:35, 56.07 step/s, accuracy=1.00, loss=0.00, step=440013]"
     ]
    },
    {
     "name": "stdout",
     "output_type": "stream",
     "text": [
      "Step 440000, best model saved. (accuracy=0.8600)\n"
     ]
    },
    {
     "name": "stderr",
     "output_type": "stream",
     "text": [
      "Train: 100% 2000/2000 [00:46<00:00, 42.97 step/s, accuracy=1.00, loss=0.03, step=442000]\n",
      "Valid: 100% 5664/5667 [00:20<00:00, 278.30 uttr/s, accuracy=0.85, loss=0.82] \n",
      "Train: 100% 2000/2000 [00:46<00:00, 42.70 step/s, accuracy=0.94, loss=0.11, step=444000]\n",
      "Valid: 100% 5664/5667 [00:20<00:00, 277.01 uttr/s, accuracy=0.85, loss=0.84] \n",
      "Train: 100% 2000/2000 [00:46<00:00, 42.92 step/s, accuracy=1.00, loss=0.03, step=446000]\n",
      "Valid: 100% 5664/5667 [00:20<00:00, 276.37 uttr/s, accuracy=0.85, loss=0.82] \n",
      "Train: 100% 2000/2000 [01:05<00:00, 30.33 step/s, accuracy=1.00, loss=0.02, step=448000]\n",
      "Valid: 100% 5664/5667 [00:20<00:00, 277.19 uttr/s, accuracy=0.84, loss=0.83] \n",
      "Train: 100% 2000/2000 [00:46<00:00, 42.57 step/s, accuracy=1.00, loss=0.06, step=450000]\n",
      "Valid: 100% 5664/5667 [00:20<00:00, 275.29 uttr/s, accuracy=0.86, loss=0.79] \n",
      "Train:   1% 14/2000 [00:00<00:31, 63.34 step/s, accuracy=1.00, loss=0.02, step=450014]"
     ]
    },
    {
     "name": "stdout",
     "output_type": "stream",
     "text": [
      "Step 450000, best model saved. (accuracy=0.8600)\n"
     ]
    },
    {
     "name": "stderr",
     "output_type": "stream",
     "text": [
      "Train: 100% 2000/2000 [00:46<00:00, 42.57 step/s, accuracy=0.91, loss=0.12, step=452000]\n",
      "Valid: 100% 5664/5667 [00:20<00:00, 276.88 uttr/s, accuracy=0.84, loss=0.87] \n",
      "Train: 100% 2000/2000 [00:47<00:00, 42.39 step/s, accuracy=1.00, loss=0.05, step=454000]\n",
      "Valid: 100% 5664/5667 [00:20<00:00, 276.67 uttr/s, accuracy=0.84, loss=0.86] \n",
      "Train: 100% 2000/2000 [01:06<00:00, 30.28 step/s, accuracy=0.97, loss=0.24, step=456000]\n",
      "Valid: 100% 5664/5667 [00:20<00:00, 276.33 uttr/s, accuracy=0.86, loss=0.81] \n",
      "Train: 100% 2000/2000 [00:46<00:00, 42.60 step/s, accuracy=0.94, loss=0.23, step=458000]\n",
      "Valid: 100% 5664/5667 [00:20<00:00, 278.04 uttr/s, accuracy=0.84, loss=0.84] \n",
      "Train: 100% 2000/2000 [00:46<00:00, 42.78 step/s, accuracy=0.97, loss=0.12, step=460000]\n",
      "Valid: 100% 5664/5667 [00:20<00:00, 276.73 uttr/s, accuracy=0.85, loss=0.81] \n",
      "Train:   1% 14/2000 [00:00<00:31, 63.14 step/s, accuracy=0.97, loss=0.09, step=460014]"
     ]
    },
    {
     "name": "stdout",
     "output_type": "stream",
     "text": [
      "Step 460000, best model saved. (accuracy=0.8600)\n"
     ]
    },
    {
     "name": "stderr",
     "output_type": "stream",
     "text": [
      "Train: 100% 2000/2000 [01:06<00:00, 30.26 step/s, accuracy=1.00, loss=0.06, step=462000]\n",
      "Valid: 100% 5664/5667 [00:20<00:00, 277.86 uttr/s, accuracy=0.84, loss=0.87] \n",
      "Train: 100% 2000/2000 [00:46<00:00, 42.92 step/s, accuracy=0.97, loss=0.06, step=464000]\n",
      "Valid: 100% 5664/5667 [00:20<00:00, 278.52 uttr/s, accuracy=0.86, loss=0.78] \n",
      "Train: 100% 2000/2000 [00:46<00:00, 42.69 step/s, accuracy=0.91, loss=0.13, step=466000]\n",
      "Valid: 100% 5664/5667 [00:20<00:00, 277.91 uttr/s, accuracy=0.86, loss=0.81] \n",
      "Train: 100% 2000/2000 [00:47<00:00, 42.27 step/s, accuracy=0.97, loss=0.10, step=468000]\n",
      "Valid: 100% 5664/5667 [00:20<00:00, 276.47 uttr/s, accuracy=0.85, loss=0.83] \n",
      "Train: 100% 2000/2000 [01:06<00:00, 29.95 step/s, accuracy=1.00, loss=0.05, step=470000]\n",
      "Valid: 100% 5664/5667 [00:20<00:00, 270.97 uttr/s, accuracy=0.86, loss=0.79] \n",
      "Train:   1% 14/2000 [00:00<00:29, 66.46 step/s, accuracy=1.00, loss=0.01, step=470013]"
     ]
    },
    {
     "name": "stdout",
     "output_type": "stream",
     "text": [
      "Step 470000, best model saved. (accuracy=0.8611)\n"
     ]
    },
    {
     "name": "stderr",
     "output_type": "stream",
     "text": [
      "Train: 100% 2000/2000 [00:48<00:00, 41.21 step/s, accuracy=0.97, loss=0.08, step=472000]\n",
      "Valid: 100% 5664/5667 [00:20<00:00, 271.34 uttr/s, accuracy=0.85, loss=0.85] \n",
      "Train: 100% 2000/2000 [00:47<00:00, 42.29 step/s, accuracy=1.00, loss=0.01, step=474000]\n",
      "Valid: 100% 5664/5667 [00:20<00:00, 272.62 uttr/s, accuracy=0.85, loss=0.80] \n",
      "Train: 100% 2000/2000 [00:46<00:00, 42.67 step/s, accuracy=0.94, loss=0.13, step=476000]\n",
      "Valid: 100% 5664/5667 [00:21<00:00, 269.50 uttr/s, accuracy=0.84, loss=0.87] \n",
      "Train: 100% 2000/2000 [01:06<00:00, 30.14 step/s, accuracy=0.97, loss=0.06, step=478000]\n",
      "Valid: 100% 5664/5667 [00:20<00:00, 275.65 uttr/s, accuracy=0.86, loss=0.79] \n",
      "Train: 100% 2000/2000 [00:50<00:00, 39.82 step/s, accuracy=1.00, loss=0.05, step=480000]\n",
      "Valid: 100% 5664/5667 [00:23<00:00, 243.86 uttr/s, accuracy=0.85, loss=0.85] \n",
      "Train:   0% 8/2000 [00:00<00:54, 36.24 step/s, accuracy=0.97, loss=0.14, step=480007]"
     ]
    },
    {
     "name": "stdout",
     "output_type": "stream",
     "text": [
      "Step 480000, best model saved. (accuracy=0.8611)\n"
     ]
    },
    {
     "name": "stderr",
     "output_type": "stream",
     "text": [
      "Train: 100% 2000/2000 [00:50<00:00, 39.90 step/s, accuracy=0.97, loss=0.07, step=482000]\n",
      "Valid: 100% 5664/5667 [00:20<00:00, 274.65 uttr/s, accuracy=0.85, loss=0.84] \n",
      "Train: 100% 2000/2000 [00:48<00:00, 41.51 step/s, accuracy=0.94, loss=0.18, step=484000]\n",
      "Valid: 100% 5664/5667 [00:20<00:00, 272.39 uttr/s, accuracy=0.86, loss=0.75] \n",
      "Train: 100% 2000/2000 [01:07<00:00, 29.64 step/s, accuracy=0.97, loss=0.13, step=486000]\n",
      "Valid: 100% 5664/5667 [00:20<00:00, 274.63 uttr/s, accuracy=0.85, loss=0.81] \n",
      "Train: 100% 2000/2000 [00:53<00:00, 37.72 step/s, accuracy=1.00, loss=0.02, step=488000]\n",
      "Valid: 100% 5664/5667 [00:24<00:00, 230.47 uttr/s, accuracy=0.86, loss=0.79] \n",
      "Train: 100% 2000/2000 [00:54<00:00, 36.66 step/s, accuracy=0.94, loss=0.20, step=490000]\n",
      "Valid: 100% 5664/5667 [00:24<00:00, 233.38 uttr/s, accuracy=0.86, loss=0.78] \n",
      "Train:   1% 11/2000 [00:00<00:37, 53.26 step/s, accuracy=1.00, loss=0.03, step=490010]"
     ]
    },
    {
     "name": "stdout",
     "output_type": "stream",
     "text": [
      "Step 490000, best model saved. (accuracy=0.8612)\n"
     ]
    },
    {
     "name": "stderr",
     "output_type": "stream",
     "text": [
      "Train: 100% 2000/2000 [00:56<00:00, 35.54 step/s, accuracy=0.97, loss=0.07, step=492000]\n",
      "Valid: 100% 5664/5667 [00:23<00:00, 238.88 uttr/s, accuracy=0.86, loss=0.79] \n",
      "Train: 100% 2000/2000 [01:17<00:00, 25.80 step/s, accuracy=0.94, loss=0.11, step=494000]\n",
      "Valid: 100% 5664/5667 [00:22<00:00, 246.58 uttr/s, accuracy=0.85, loss=0.83] \n",
      "Train: 100% 2000/2000 [00:54<00:00, 36.40 step/s, accuracy=1.00, loss=0.04, step=496000]\n",
      "Valid: 100% 5664/5667 [00:22<00:00, 249.29 uttr/s, accuracy=0.86, loss=0.82] \n",
      "Train: 100% 2000/2000 [00:55<00:00, 36.13 step/s, accuracy=0.94, loss=0.11, step=498000]\n",
      "Valid: 100% 5664/5667 [00:23<00:00, 237.94 uttr/s, accuracy=0.87, loss=0.78] \n",
      "Train: 100% 2000/2000 [00:55<00:00, 36.32 step/s, accuracy=0.97, loss=0.13, step=5e+5]  \n",
      "Valid: 100% 5664/5667 [00:24<00:00, 233.76 uttr/s, accuracy=0.86, loss=0.77] \n",
      "Train:   1% 11/2000 [00:00<00:38, 52.07 step/s, accuracy=0.94, loss=0.16, step=5e+5]"
     ]
    },
    {
     "name": "stdout",
     "output_type": "stream",
     "text": [
      "Step 500000, best model saved. (accuracy=0.8655)\n"
     ]
    },
    {
     "name": "stderr",
     "output_type": "stream",
     "text": [
      "Train: 100% 2000/2000 [01:17<00:00, 25.79 step/s, accuracy=0.88, loss=0.27, step=502000]\n",
      "Valid: 100% 5664/5667 [00:23<00:00, 237.56 uttr/s, accuracy=0.86, loss=0.83] \n",
      "Train: 100% 2000/2000 [00:54<00:00, 36.51 step/s, accuracy=0.97, loss=0.05, step=504000]\n",
      "Valid: 100% 5664/5667 [00:23<00:00, 240.50 uttr/s, accuracy=0.86, loss=0.76] \n",
      "Train: 100% 2000/2000 [00:56<00:00, 35.40 step/s, accuracy=1.00, loss=0.02, step=506000]\n",
      "Valid: 100% 5664/5667 [00:24<00:00, 234.86 uttr/s, accuracy=0.85, loss=0.79] \n",
      "Train: 100% 2000/2000 [00:57<00:00, 34.88 step/s, accuracy=0.97, loss=0.05, step=508000]\n",
      "Valid: 100% 5664/5667 [00:23<00:00, 241.76 uttr/s, accuracy=0.86, loss=0.84] \n",
      "Train: 100% 2000/2000 [01:19<00:00, 25.20 step/s, accuracy=1.00, loss=0.03, step=510000]\n",
      "Valid: 100% 5664/5667 [00:23<00:00, 242.97 uttr/s, accuracy=0.85, loss=0.83] \n",
      "Train:   0% 10/2000 [00:00<00:42, 46.38 step/s, accuracy=0.97, loss=0.12, step=510009]"
     ]
    },
    {
     "name": "stdout",
     "output_type": "stream",
     "text": [
      "Step 510000, best model saved. (accuracy=0.8655)\n"
     ]
    },
    {
     "name": "stderr",
     "output_type": "stream",
     "text": [
      "Train: 100% 2000/2000 [00:53<00:00, 37.06 step/s, accuracy=0.97, loss=0.24, step=512000]\n",
      "Valid: 100% 5664/5667 [00:22<00:00, 248.55 uttr/s, accuracy=0.86, loss=0.80] \n",
      "Train: 100% 2000/2000 [00:52<00:00, 37.83 step/s, accuracy=0.97, loss=0.04, step=514000]\n",
      "Valid: 100% 5664/5667 [00:22<00:00, 248.50 uttr/s, accuracy=0.86, loss=0.80] \n",
      "Train: 100% 2000/2000 [00:55<00:00, 36.34 step/s, accuracy=1.00, loss=0.03, step=516000]\n",
      "Valid: 100% 5664/5667 [00:23<00:00, 239.31 uttr/s, accuracy=0.86, loss=0.78] \n",
      "Train: 100% 2000/2000 [01:17<00:00, 25.66 step/s, accuracy=1.00, loss=0.04, step=518000]\n",
      "Valid: 100% 5664/5667 [00:24<00:00, 229.51 uttr/s, accuracy=0.86, loss=0.72] \n",
      "Train: 100% 2000/2000 [00:57<00:00, 34.53 step/s, accuracy=0.91, loss=0.17, step=520000]\n",
      "Valid: 100% 5664/5667 [00:23<00:00, 244.28 uttr/s, accuracy=0.86, loss=0.78] \n",
      "Train:   0% 10/2000 [00:00<00:42, 46.71 step/s, accuracy=1.00, loss=0.02, step=520009]"
     ]
    },
    {
     "name": "stdout",
     "output_type": "stream",
     "text": [
      "Step 520000, best model saved. (accuracy=0.8655)\n"
     ]
    },
    {
     "name": "stderr",
     "output_type": "stream",
     "text": [
      "Train: 100% 2000/2000 [00:55<00:00, 36.18 step/s, accuracy=0.94, loss=0.20, step=522000]\n",
      "Valid: 100% 5664/5667 [00:22<00:00, 246.66 uttr/s, accuracy=0.86, loss=0.79] \n",
      "Train: 100% 2000/2000 [00:54<00:00, 36.76 step/s, accuracy=0.97, loss=0.05, step=524000]\n",
      "Valid: 100% 5664/5667 [00:23<00:00, 236.90 uttr/s, accuracy=0.86, loss=0.76] \n",
      "Train: 100% 2000/2000 [01:16<00:00, 26.03 step/s, accuracy=0.97, loss=0.16, step=526000]\n",
      "Valid: 100% 5664/5667 [00:23<00:00, 240.75 uttr/s, accuracy=0.87, loss=0.73] \n",
      "Train: 100% 2000/2000 [00:55<00:00, 36.14 step/s, accuracy=0.97, loss=0.10, step=528000]\n",
      "Valid: 100% 5664/5667 [00:23<00:00, 243.72 uttr/s, accuracy=0.86, loss=0.81] \n",
      "Train: 100% 2000/2000 [00:55<00:00, 36.15 step/s, accuracy=0.97, loss=0.05, step=530000]\n",
      "Valid: 100% 5664/5667 [00:23<00:00, 245.48 uttr/s, accuracy=0.86, loss=0.78] \n",
      "Train:   0% 10/2000 [00:00<00:39, 50.46 step/s, accuracy=0.97, loss=0.08, step=530010]"
     ]
    },
    {
     "name": "stdout",
     "output_type": "stream",
     "text": [
      "Step 530000, best model saved. (accuracy=0.8665)\n"
     ]
    },
    {
     "name": "stderr",
     "output_type": "stream",
     "text": [
      "Train: 100% 2000/2000 [00:55<00:00, 36.26 step/s, accuracy=0.94, loss=0.10, step=532000]\n",
      "Valid: 100% 5664/5667 [00:23<00:00, 245.83 uttr/s, accuracy=0.86, loss=0.75] \n",
      "Train: 100% 2000/2000 [01:17<00:00, 25.90 step/s, accuracy=1.00, loss=0.04, step=534000]\n",
      "Valid: 100% 5664/5667 [00:22<00:00, 246.35 uttr/s, accuracy=0.86, loss=0.77] \n",
      "Train: 100% 2000/2000 [00:55<00:00, 36.12 step/s, accuracy=1.00, loss=0.04, step=536000]\n",
      "Valid: 100% 5664/5667 [00:23<00:00, 244.66 uttr/s, accuracy=0.86, loss=0.75] \n",
      "Train: 100% 2000/2000 [00:55<00:00, 36.29 step/s, accuracy=0.97, loss=0.10, step=538000]\n",
      "Valid: 100% 5664/5667 [00:22<00:00, 246.41 uttr/s, accuracy=0.86, loss=0.77] \n",
      "Train: 100% 2000/2000 [00:55<00:00, 36.28 step/s, accuracy=0.91, loss=0.29, step=540000]\n",
      "Valid: 100% 5664/5667 [00:23<00:00, 237.54 uttr/s, accuracy=0.86, loss=0.81] \n",
      "Train:   0% 10/2000 [00:00<00:44, 45.05 step/s, accuracy=1.00, loss=0.02, step=540010]"
     ]
    },
    {
     "name": "stdout",
     "output_type": "stream",
     "text": [
      "Step 540000, best model saved. (accuracy=0.8665)\n"
     ]
    },
    {
     "name": "stderr",
     "output_type": "stream",
     "text": [
      "Train: 100% 2000/2000 [01:16<00:00, 26.09 step/s, accuracy=0.97, loss=0.07, step=542000]\n",
      "Valid: 100% 5664/5667 [00:23<00:00, 239.98 uttr/s, accuracy=0.87, loss=0.76] \n",
      "Train: 100% 2000/2000 [00:55<00:00, 36.36 step/s, accuracy=1.00, loss=0.05, step=544000]\n",
      "Valid: 100% 5664/5667 [00:23<00:00, 242.34 uttr/s, accuracy=0.86, loss=0.80] \n",
      "Train: 100% 2000/2000 [00:55<00:00, 36.24 step/s, accuracy=0.97, loss=0.10, step=546000]\n",
      "Valid: 100% 5664/5667 [00:23<00:00, 244.53 uttr/s, accuracy=0.87, loss=0.75] \n",
      "Train: 100% 2000/2000 [01:18<00:00, 25.37 step/s, accuracy=1.00, loss=0.01, step=548000]\n",
      "Valid: 100% 5664/5667 [00:23<00:00, 241.24 uttr/s, accuracy=0.86, loss=0.77] \n",
      "Train: 100% 2000/2000 [00:55<00:00, 36.07 step/s, accuracy=1.00, loss=0.05, step=550000]\n",
      "Valid: 100% 5664/5667 [00:23<00:00, 244.18 uttr/s, accuracy=0.87, loss=0.77] \n",
      "Train:   0% 8/2000 [00:00<01:16, 26.05 step/s, accuracy=1.00, loss=0.04, step=550008]"
     ]
    },
    {
     "name": "stdout",
     "output_type": "stream",
     "text": [
      "Step 550000, best model saved. (accuracy=0.8674)\n"
     ]
    },
    {
     "name": "stderr",
     "output_type": "stream",
     "text": [
      "Train: 100% 2000/2000 [00:54<00:00, 36.50 step/s, accuracy=1.00, loss=0.03, step=552000]\n",
      "Valid: 100% 5664/5667 [00:23<00:00, 239.14 uttr/s, accuracy=0.86, loss=0.80] \n",
      "Train: 100% 2000/2000 [00:55<00:00, 36.30 step/s, accuracy=1.00, loss=0.01, step=554000]\n",
      "Valid: 100% 5664/5667 [00:23<00:00, 239.95 uttr/s, accuracy=0.87, loss=0.77] \n",
      "Train: 100% 2000/2000 [01:17<00:00, 25.88 step/s, accuracy=1.00, loss=0.01, step=556000]\n",
      "Valid: 100% 5664/5667 [00:23<00:00, 244.01 uttr/s, accuracy=0.87, loss=0.79] \n",
      "Train: 100% 2000/2000 [00:56<00:00, 35.29 step/s, accuracy=0.94, loss=0.18, step=558000]\n",
      "Valid: 100% 5664/5667 [00:23<00:00, 240.63 uttr/s, accuracy=0.87, loss=0.77] \n",
      "Train: 100% 2000/2000 [00:56<00:00, 35.63 step/s, accuracy=1.00, loss=0.01, step=560000]\n",
      "Valid: 100% 5664/5667 [00:23<00:00, 244.19 uttr/s, accuracy=0.87, loss=0.78] \n",
      "Train:   1% 11/2000 [00:00<00:40, 48.73 step/s, accuracy=1.00, loss=0.01, step=560011]"
     ]
    },
    {
     "name": "stdout",
     "output_type": "stream",
     "text": [
      "Step 560000, best model saved. (accuracy=0.8718)\n"
     ]
    },
    {
     "name": "stderr",
     "output_type": "stream",
     "text": [
      "Train: 100% 2000/2000 [00:55<00:00, 36.27 step/s, accuracy=1.00, loss=0.01, step=562000]\n",
      "Valid: 100% 5664/5667 [00:24<00:00, 235.05 uttr/s, accuracy=0.85, loss=0.81] \n",
      "Train: 100% 2000/2000 [01:18<00:00, 25.62 step/s, accuracy=1.00, loss=0.00, step=564000]\n",
      "Valid: 100% 5664/5667 [00:23<00:00, 238.75 uttr/s, accuracy=0.87, loss=0.74] \n",
      "Train: 100% 2000/2000 [00:56<00:00, 35.13 step/s, accuracy=1.00, loss=0.01, step=566000]\n",
      "Valid: 100% 5664/5667 [00:23<00:00, 239.67 uttr/s, accuracy=0.87, loss=0.77] \n",
      "Train: 100% 2000/2000 [00:56<00:00, 35.13 step/s, accuracy=0.97, loss=0.16, step=568000]\n",
      "Valid: 100% 5664/5667 [00:23<00:00, 241.34 uttr/s, accuracy=0.87, loss=0.76] \n",
      "Train: 100% 2000/2000 [00:57<00:00, 34.54 step/s, accuracy=1.00, loss=0.06, step=570000]\n",
      "Valid: 100% 5664/5667 [00:24<00:00, 235.78 uttr/s, accuracy=0.87, loss=0.76] \n",
      "Train:   0% 10/2000 [00:00<00:46, 42.51 step/s, accuracy=0.97, loss=0.07, step=570010]"
     ]
    },
    {
     "name": "stdout",
     "output_type": "stream",
     "text": [
      "Step 570000, best model saved. (accuracy=0.8724)\n"
     ]
    },
    {
     "name": "stderr",
     "output_type": "stream",
     "text": [
      "Train: 100% 2000/2000 [01:16<00:00, 26.20 step/s, accuracy=1.00, loss=0.02, step=572000]\n",
      "Valid: 100% 5664/5667 [00:23<00:00, 239.11 uttr/s, accuracy=0.86, loss=0.80] \n",
      "Train: 100% 2000/2000 [00:54<00:00, 36.52 step/s, accuracy=0.94, loss=0.12, step=574000]\n",
      "Valid: 100% 5664/5667 [00:23<00:00, 238.02 uttr/s, accuracy=0.86, loss=0.77] \n",
      "Train: 100% 2000/2000 [00:54<00:00, 36.42 step/s, accuracy=1.00, loss=0.01, step=576000]\n",
      "Valid: 100% 5664/5667 [00:23<00:00, 243.15 uttr/s, accuracy=0.87, loss=0.78] \n",
      "Train: 100% 2000/2000 [00:54<00:00, 36.74 step/s, accuracy=1.00, loss=0.02, step=578000]\n",
      "Valid: 100% 5664/5667 [00:22<00:00, 251.57 uttr/s, accuracy=0.87, loss=0.80] \n",
      "Train: 100% 2000/2000 [01:14<00:00, 26.69 step/s, accuracy=1.00, loss=0.00, step=580000]\n",
      "Valid: 100% 5664/5667 [00:24<00:00, 229.67 uttr/s, accuracy=0.87, loss=0.78] \n",
      "Train:   0% 8/2000 [00:00<00:57, 34.68 step/s, accuracy=0.97, loss=0.07, step=580008]"
     ]
    },
    {
     "name": "stdout",
     "output_type": "stream",
     "text": [
      "Step 580000, best model saved. (accuracy=0.8724)\n"
     ]
    },
    {
     "name": "stderr",
     "output_type": "stream",
     "text": [
      "Train: 100% 2000/2000 [00:53<00:00, 37.16 step/s, accuracy=0.94, loss=0.10, step=582000]\n",
      "Valid: 100% 5664/5667 [00:24<00:00, 227.43 uttr/s, accuracy=0.87, loss=0.75] \n",
      "Train: 100% 2000/2000 [00:51<00:00, 38.64 step/s, accuracy=0.91, loss=0.27, step=584000]\n",
      "Valid: 100% 5664/5667 [00:24<00:00, 232.00 uttr/s, accuracy=0.87, loss=0.75] \n",
      "Train: 100% 2000/2000 [00:57<00:00, 35.07 step/s, accuracy=1.00, loss=0.03, step=586000]\n",
      "Valid: 100% 5664/5667 [00:23<00:00, 243.51 uttr/s, accuracy=0.87, loss=0.75] \n",
      "Train: 100% 2000/2000 [01:18<00:00, 25.62 step/s, accuracy=1.00, loss=0.01, step=588000]\n",
      "Valid: 100% 5664/5667 [00:22<00:00, 246.47 uttr/s, accuracy=0.86, loss=0.77] \n",
      "Train: 100% 2000/2000 [00:58<00:00, 34.44 step/s, accuracy=1.00, loss=0.03, step=590000]\n",
      "Valid: 100% 5664/5667 [00:25<00:00, 225.36 uttr/s, accuracy=0.87, loss=0.77] \n",
      "Train:   0% 10/2000 [00:00<00:45, 43.29 step/s, accuracy=1.00, loss=0.03, step=590010]"
     ]
    },
    {
     "name": "stdout",
     "output_type": "stream",
     "text": [
      "Step 590000, best model saved. (accuracy=0.8724)\n"
     ]
    },
    {
     "name": "stderr",
     "output_type": "stream",
     "text": [
      "Train: 100% 2000/2000 [00:56<00:00, 35.62 step/s, accuracy=0.94, loss=0.08, step=592000]\n",
      "Valid: 100% 5664/5667 [00:24<00:00, 231.58 uttr/s, accuracy=0.87, loss=0.76] \n",
      "Train: 100% 2000/2000 [00:56<00:00, 35.48 step/s, accuracy=0.97, loss=0.06, step=594000]\n",
      "Valid: 100% 5664/5667 [00:23<00:00, 236.22 uttr/s, accuracy=0.88, loss=0.72] \n",
      "Train: 100% 2000/2000 [01:18<00:00, 25.46 step/s, accuracy=1.00, loss=0.00, step=596000]\n",
      "Valid: 100% 5664/5667 [00:23<00:00, 245.93 uttr/s, accuracy=0.87, loss=0.79] \n",
      "Train: 100% 2000/2000 [00:55<00:00, 35.88 step/s, accuracy=1.00, loss=0.01, step=598000]\n",
      "Valid: 100% 5664/5667 [00:24<00:00, 229.27 uttr/s, accuracy=0.87, loss=0.75] \n",
      "Train: 100% 2000/2000 [00:56<00:00, 35.71 step/s, accuracy=0.97, loss=0.04, step=6e+5]  \n",
      "Valid: 100% 5664/5667 [00:22<00:00, 247.12 uttr/s, accuracy=0.88, loss=0.71] \n",
      "Train:   0% 10/2000 [00:00<00:45, 43.54 step/s, accuracy=0.94, loss=0.14, step=6e+5]"
     ]
    },
    {
     "name": "stdout",
     "output_type": "stream",
     "text": [
      "Step 600000, best model saved. (accuracy=0.8761)\n"
     ]
    },
    {
     "name": "stderr",
     "output_type": "stream",
     "text": [
      "Train: 100% 2000/2000 [00:54<00:00, 36.52 step/s, accuracy=0.97, loss=0.09, step=602000]\n",
      "Valid: 100% 5664/5667 [00:23<00:00, 236.98 uttr/s, accuracy=0.86, loss=0.79] \n",
      "Train: 100% 2000/2000 [01:18<00:00, 25.40 step/s, accuracy=1.00, loss=0.05, step=604000]\n",
      "Valid: 100% 5664/5667 [00:23<00:00, 243.11 uttr/s, accuracy=0.87, loss=0.75] \n",
      "Train: 100% 2000/2000 [00:55<00:00, 36.30 step/s, accuracy=1.00, loss=0.00, step=606000]\n",
      "Valid: 100% 5664/5667 [00:22<00:00, 248.77 uttr/s, accuracy=0.86, loss=0.76] \n",
      "Train: 100% 2000/2000 [00:54<00:00, 36.99 step/s, accuracy=0.97, loss=0.05, step=608000]\n",
      "Valid: 100% 5664/5667 [00:23<00:00, 242.93 uttr/s, accuracy=0.86, loss=0.79] \n",
      "Train: 100% 2000/2000 [00:55<00:00, 36.15 step/s, accuracy=0.97, loss=0.09, step=610000]\n",
      "Valid: 100% 5664/5667 [00:23<00:00, 240.41 uttr/s, accuracy=0.87, loss=0.78] \n",
      "Train:   1% 11/2000 [00:00<00:39, 49.85 step/s, accuracy=1.00, loss=0.06, step=610010]"
     ]
    },
    {
     "name": "stdout",
     "output_type": "stream",
     "text": [
      "Step 610000, best model saved. (accuracy=0.8761)\n"
     ]
    },
    {
     "name": "stderr",
     "output_type": "stream",
     "text": [
      "Train: 100% 2000/2000 [01:17<00:00, 25.75 step/s, accuracy=1.00, loss=0.01, step=612000]\n",
      "Valid: 100% 5664/5667 [00:23<00:00, 245.74 uttr/s, accuracy=0.87, loss=0.76] \n",
      "Train: 100% 2000/2000 [00:54<00:00, 36.80 step/s, accuracy=1.00, loss=0.07, step=614000]\n",
      "Valid: 100% 5664/5667 [00:24<00:00, 233.10 uttr/s, accuracy=0.87, loss=0.76] \n",
      "Train: 100% 2000/2000 [00:54<00:00, 36.42 step/s, accuracy=1.00, loss=0.01, step=616000]\n",
      "Valid: 100% 5664/5667 [00:23<00:00, 240.38 uttr/s, accuracy=0.87, loss=0.76] \n",
      "Train: 100% 2000/2000 [00:56<00:00, 35.63 step/s, accuracy=0.94, loss=0.14, step=618000]\n",
      "Valid: 100% 5664/5667 [00:23<00:00, 237.93 uttr/s, accuracy=0.87, loss=0.72] \n",
      "Train: 100% 2000/2000 [01:18<00:00, 25.48 step/s, accuracy=1.00, loss=0.00, step=620000]\n",
      "Valid: 100% 5664/5667 [00:23<00:00, 237.29 uttr/s, accuracy=0.87, loss=0.72] \n",
      "Train:   0% 9/2000 [00:00<00:42, 46.54 step/s, accuracy=1.00, loss=0.04, step=620009]"
     ]
    },
    {
     "name": "stdout",
     "output_type": "stream",
     "text": [
      "Step 620000, best model saved. (accuracy=0.8761)\n"
     ]
    },
    {
     "name": "stderr",
     "output_type": "stream",
     "text": [
      "Train: 100% 2000/2000 [00:54<00:00, 36.40 step/s, accuracy=1.00, loss=0.00, step=622000]\n",
      "Valid: 100% 5664/5667 [00:23<00:00, 241.47 uttr/s, accuracy=0.88, loss=0.72] \n",
      "Train: 100% 2000/2000 [00:55<00:00, 36.28 step/s, accuracy=1.00, loss=0.01, step=624000]\n",
      "Valid: 100% 5664/5667 [00:23<00:00, 242.35 uttr/s, accuracy=0.87, loss=0.79] \n",
      "Train: 100% 2000/2000 [00:53<00:00, 37.20 step/s, accuracy=0.97, loss=0.07, step=626000]\n",
      "Valid: 100% 5664/5667 [00:24<00:00, 233.63 uttr/s, accuracy=0.89, loss=0.70] \n",
      "Train: 100% 2000/2000 [01:16<00:00, 26.24 step/s, accuracy=1.00, loss=0.01, step=628000]\n",
      "Valid: 100% 5664/5667 [00:23<00:00, 237.11 uttr/s, accuracy=0.87, loss=0.74] \n",
      "Train: 100% 2000/2000 [00:55<00:00, 36.20 step/s, accuracy=0.97, loss=0.11, step=630000]\n",
      "Valid: 100% 5664/5667 [00:23<00:00, 236.99 uttr/s, accuracy=0.87, loss=0.76] \n",
      "Train:   0% 10/2000 [00:00<00:42, 46.33 step/s, accuracy=1.00, loss=0.01, step=630010]"
     ]
    },
    {
     "name": "stdout",
     "output_type": "stream",
     "text": [
      "Step 630000, best model saved. (accuracy=0.8851)\n"
     ]
    },
    {
     "name": "stderr",
     "output_type": "stream",
     "text": [
      "Train: 100% 2000/2000 [00:54<00:00, 36.48 step/s, accuracy=0.97, loss=0.05, step=632000]\n",
      "Valid: 100% 5664/5667 [00:23<00:00, 241.05 uttr/s, accuracy=0.87, loss=0.75] \n",
      "Train: 100% 2000/2000 [00:56<00:00, 35.49 step/s, accuracy=1.00, loss=0.00, step=634000]\n",
      "Valid: 100% 5664/5667 [00:24<00:00, 235.75 uttr/s, accuracy=0.88, loss=0.70] \n",
      "Train: 100% 2000/2000 [01:18<00:00, 25.57 step/s, accuracy=1.00, loss=0.04, step=636000]\n",
      "Valid: 100% 5664/5667 [00:23<00:00, 242.40 uttr/s, accuracy=0.88, loss=0.74] \n",
      "Train: 100% 2000/2000 [00:55<00:00, 35.79 step/s, accuracy=1.00, loss=0.02, step=638000]\n",
      "Valid: 100% 5664/5667 [00:23<00:00, 245.52 uttr/s, accuracy=0.87, loss=0.78] \n",
      "Train: 100% 2000/2000 [00:54<00:00, 36.47 step/s, accuracy=0.97, loss=0.07, step=640000]\n",
      "Valid: 100% 5664/5667 [00:24<00:00, 228.21 uttr/s, accuracy=0.87, loss=0.78] \n",
      "Train:   0% 10/2000 [00:00<00:43, 45.25 step/s, accuracy=1.00, loss=0.03, step=640010]"
     ]
    },
    {
     "name": "stdout",
     "output_type": "stream",
     "text": [
      "Step 640000, best model saved. (accuracy=0.8851)\n"
     ]
    },
    {
     "name": "stderr",
     "output_type": "stream",
     "text": [
      "Train: 100% 2000/2000 [01:17<00:00, 25.83 step/s, accuracy=1.00, loss=0.01, step=642000]\n",
      "Valid: 100% 5664/5667 [00:23<00:00, 244.47 uttr/s, accuracy=0.88, loss=0.74] \n",
      "Train: 100% 2000/2000 [00:53<00:00, 37.20 step/s, accuracy=0.97, loss=0.06, step=644000]\n",
      "Valid: 100% 5664/5667 [00:23<00:00, 245.49 uttr/s, accuracy=0.88, loss=0.75] \n",
      "Train: 100% 2000/2000 [00:54<00:00, 36.84 step/s, accuracy=1.00, loss=0.04, step=646000]\n",
      "Valid: 100% 5664/5667 [00:23<00:00, 242.77 uttr/s, accuracy=0.88, loss=0.74] \n",
      "Train: 100% 2000/2000 [00:55<00:00, 36.19 step/s, accuracy=0.97, loss=0.04, step=648000]\n",
      "Valid: 100% 5664/5667 [00:23<00:00, 241.81 uttr/s, accuracy=0.88, loss=0.75] \n",
      "Train: 100% 2000/2000 [01:17<00:00, 25.82 step/s, accuracy=1.00, loss=0.02, step=650000]\n",
      "Valid: 100% 5664/5667 [00:23<00:00, 238.31 uttr/s, accuracy=0.88, loss=0.76] \n",
      "Train:   1% 11/2000 [00:00<00:43, 45.90 step/s, accuracy=1.00, loss=0.01, step=650011]"
     ]
    },
    {
     "name": "stdout",
     "output_type": "stream",
     "text": [
      "Step 650000, best model saved. (accuracy=0.8851)\n"
     ]
    },
    {
     "name": "stderr",
     "output_type": "stream",
     "text": [
      "Train: 100% 2000/2000 [00:56<00:00, 35.63 step/s, accuracy=0.97, loss=0.16, step=652000]\n",
      "Valid: 100% 5664/5667 [00:23<00:00, 243.47 uttr/s, accuracy=0.87, loss=0.75] \n",
      "Train: 100% 2000/2000 [00:57<00:00, 35.06 step/s, accuracy=0.97, loss=0.04, step=654000]\n",
      "Valid: 100% 5664/5667 [00:23<00:00, 236.01 uttr/s, accuracy=0.88, loss=0.75] \n",
      "Train: 100% 2000/2000 [00:55<00:00, 35.95 step/s, accuracy=1.00, loss=0.01, step=656000]\n",
      "Valid: 100% 5664/5667 [00:23<00:00, 236.80 uttr/s, accuracy=0.88, loss=0.70] \n",
      "Train: 100% 2000/2000 [01:17<00:00, 25.87 step/s, accuracy=1.00, loss=0.03, step=658000]\n",
      "Valid: 100% 5664/5667 [00:23<00:00, 245.27 uttr/s, accuracy=0.87, loss=0.76] \n",
      "Train: 100% 2000/2000 [00:53<00:00, 37.07 step/s, accuracy=1.00, loss=0.01, step=660000]\n",
      "Valid: 100% 5664/5667 [00:23<00:00, 241.92 uttr/s, accuracy=0.88, loss=0.72] \n",
      "Train:   1% 11/2000 [00:00<00:40, 48.99 step/s, accuracy=1.00, loss=0.01, step=660011]"
     ]
    },
    {
     "name": "stdout",
     "output_type": "stream",
     "text": [
      "Step 660000, best model saved. (accuracy=0.8851)\n"
     ]
    },
    {
     "name": "stderr",
     "output_type": "stream",
     "text": [
      "Train: 100% 2000/2000 [01:33<00:00, 21.31 step/s, accuracy=1.00, loss=0.00, step=662000]\n",
      "Valid: 100% 5664/5667 [00:42<00:00, 132.02 uttr/s, accuracy=0.88, loss=0.75]\n",
      "Train: 100% 2000/2000 [02:16<00:00, 14.62 step/s, accuracy=0.97, loss=0.07, step=664000] \n",
      "Valid: 100% 5664/5667 [00:24<00:00, 235.75 uttr/s, accuracy=0.88, loss=0.74] \n",
      "Train: 100% 2000/2000 [01:25<00:00, 23.51 step/s, accuracy=1.00, loss=0.00, step=666000]\n",
      "Valid: 100% 5664/5667 [00:24<00:00, 234.61 uttr/s, accuracy=0.87, loss=0.77] \n",
      "Train: 100% 2000/2000 [00:55<00:00, 36.09 step/s, accuracy=0.97, loss=0.03, step=668000]\n",
      "Valid: 100% 5664/5667 [00:23<00:00, 242.96 uttr/s, accuracy=0.87, loss=0.78] \n",
      "Train: 100% 2000/2000 [00:55<00:00, 36.13 step/s, accuracy=1.00, loss=0.02, step=670000]\n",
      "Valid: 100% 5664/5667 [00:23<00:00, 243.14 uttr/s, accuracy=0.88, loss=0.74] \n",
      "Train:   1% 11/2000 [00:00<00:36, 54.36 step/s, accuracy=1.00, loss=0.01, step=670010]"
     ]
    },
    {
     "name": "stdout",
     "output_type": "stream",
     "text": [
      "Step 670000, best model saved. (accuracy=0.8851)\n"
     ]
    },
    {
     "name": "stderr",
     "output_type": "stream",
     "text": [
      "Train: 100% 2000/2000 [00:55<00:00, 35.73 step/s, accuracy=1.00, loss=0.00, step=672000]\n",
      "Valid: 100% 5664/5667 [00:24<00:00, 235.96 uttr/s, accuracy=0.88, loss=0.75] \n",
      "Train: 100% 2000/2000 [01:17<00:00, 25.85 step/s, accuracy=1.00, loss=0.02, step=674000]\n",
      "Valid: 100% 5664/5667 [00:22<00:00, 249.89 uttr/s, accuracy=0.88, loss=0.72] \n",
      "Train: 100% 2000/2000 [00:53<00:00, 37.33 step/s, accuracy=1.00, loss=0.00, step=676000]\n",
      "Valid: 100% 5664/5667 [00:23<00:00, 241.21 uttr/s, accuracy=0.88, loss=0.73] \n",
      "Train: 100% 2000/2000 [00:54<00:00, 36.59 step/s, accuracy=0.97, loss=0.04, step=678000]\n",
      "Valid: 100% 5664/5667 [00:23<00:00, 243.20 uttr/s, accuracy=0.87, loss=0.74] \n",
      "Train: 100% 2000/2000 [00:55<00:00, 36.28 step/s, accuracy=1.00, loss=0.03, step=680000]\n",
      "Valid: 100% 5664/5667 [00:22<00:00, 247.88 uttr/s, accuracy=0.88, loss=0.75] \n",
      "Train:   1% 11/2000 [00:00<00:38, 51.55 step/s, accuracy=1.00, loss=0.04, step=680010]"
     ]
    },
    {
     "name": "stdout",
     "output_type": "stream",
     "text": [
      "Step 680000, best model saved. (accuracy=0.8851)\n"
     ]
    },
    {
     "name": "stderr",
     "output_type": "stream",
     "text": [
      "Train: 100% 2000/2000 [01:17<00:00, 25.93 step/s, accuracy=0.97, loss=0.08, step=682000]\n",
      "Valid: 100% 5664/5667 [00:23<00:00, 240.84 uttr/s, accuracy=0.88, loss=0.71] \n",
      "Train: 100% 2000/2000 [00:55<00:00, 35.83 step/s, accuracy=1.00, loss=0.05, step=684000]\n",
      "Valid: 100% 5664/5667 [00:23<00:00, 238.75 uttr/s, accuracy=0.87, loss=0.76] \n",
      "Train: 100% 2000/2000 [00:56<00:00, 35.61 step/s, accuracy=1.00, loss=0.00, step=686000]\n",
      "Valid: 100% 5664/5667 [00:23<00:00, 244.62 uttr/s, accuracy=0.88, loss=0.71] \n",
      "Train: 100% 2000/2000 [00:56<00:00, 35.41 step/s, accuracy=0.97, loss=0.07, step=688000]\n",
      "Valid: 100% 5664/5667 [00:22<00:00, 247.86 uttr/s, accuracy=0.89, loss=0.68] \n",
      "Train: 100% 2000/2000 [01:17<00:00, 25.76 step/s, accuracy=1.00, loss=0.04, step=690000]\n",
      "Valid: 100% 5664/5667 [00:23<00:00, 245.21 uttr/s, accuracy=0.88, loss=0.73] \n",
      "Train:   0% 9/2000 [00:00<00:44, 45.17 step/s, accuracy=1.00, loss=0.00, step=690008]"
     ]
    },
    {
     "name": "stdout",
     "output_type": "stream",
     "text": [
      "Step 690000, best model saved. (accuracy=0.8868)\n"
     ]
    },
    {
     "name": "stderr",
     "output_type": "stream",
     "text": [
      "Train: 100% 2000/2000 [00:53<00:00, 37.47 step/s, accuracy=0.97, loss=0.04, step=692000]\n",
      "Valid: 100% 5664/5667 [00:22<00:00, 246.83 uttr/s, accuracy=0.88, loss=0.75] \n",
      "Train: 100% 2000/2000 [00:53<00:00, 37.42 step/s, accuracy=1.00, loss=0.01, step=694000]\n",
      "Valid: 100% 5664/5667 [00:23<00:00, 241.82 uttr/s, accuracy=0.88, loss=0.75] \n",
      "Train: 100% 2000/2000 [00:54<00:00, 36.45 step/s, accuracy=1.00, loss=0.00, step=696000]\n",
      "Valid: 100% 5664/5667 [00:23<00:00, 242.38 uttr/s, accuracy=0.88, loss=0.72] \n",
      "Train: 100% 2000/2000 [01:16<00:00, 26.25 step/s, accuracy=1.00, loss=0.01, step=698000]\n",
      "Valid: 100% 5664/5667 [00:23<00:00, 245.33 uttr/s, accuracy=0.88, loss=0.70] \n",
      "Train: 100% 2000/2000 [00:55<00:00, 35.95 step/s, accuracy=0.97, loss=0.08, step=7e+5]  \n",
      "Valid: 100% 5664/5667 [00:23<00:00, 242.41 uttr/s, accuracy=0.88, loss=0.70] \n",
      "Train:   0% 10/2000 [00:00<00:45, 43.96 step/s, accuracy=1.00, loss=0.01, step=7e+5]"
     ]
    },
    {
     "name": "stdout",
     "output_type": "stream",
     "text": [
      "Step 700000, best model saved. (accuracy=0.8868)\n"
     ]
    },
    {
     "name": "stderr",
     "output_type": "stream",
     "text": [
      "Train: 100% 2000/2000 [00:56<00:00, 35.52 step/s, accuracy=1.00, loss=0.00, step=702000]\n",
      "Valid: 100% 5664/5667 [00:23<00:00, 239.59 uttr/s, accuracy=0.89, loss=0.70] \n",
      "Train: 100% 2000/2000 [00:54<00:00, 36.65 step/s, accuracy=1.00, loss=0.01, step=704000]\n",
      "Valid: 100% 5664/5667 [00:23<00:00, 240.13 uttr/s, accuracy=0.88, loss=0.72] \n",
      "Train: 100% 2000/2000 [01:16<00:00, 26.07 step/s, accuracy=1.00, loss=0.00, step=706000]\n",
      "Valid: 100% 5664/5667 [00:23<00:00, 237.86 uttr/s, accuracy=0.88, loss=0.70] \n",
      "Train: 100% 2000/2000 [00:54<00:00, 36.93 step/s, accuracy=1.00, loss=0.01, step=708000]\n",
      "Valid: 100% 5664/5667 [00:23<00:00, 243.55 uttr/s, accuracy=0.88, loss=0.77] \n",
      "Train: 100% 2000/2000 [00:54<00:00, 36.78 step/s, accuracy=1.00, loss=0.00, step=710000]\n",
      "Valid: 100% 5664/5667 [00:23<00:00, 244.07 uttr/s, accuracy=0.88, loss=0.71] \n",
      "Train:   1% 11/2000 [00:00<00:36, 54.09 step/s, accuracy=1.00, loss=0.02, step=710010]"
     ]
    },
    {
     "name": "stdout",
     "output_type": "stream",
     "text": [
      "Step 710000, best model saved. (accuracy=0.8868)\n"
     ]
    },
    {
     "name": "stderr",
     "output_type": "stream",
     "text": [
      "Train: 100% 2000/2000 [00:54<00:00, 36.88 step/s, accuracy=1.00, loss=0.00, step=712000]\n",
      "Valid: 100% 5664/5667 [00:22<00:00, 249.67 uttr/s, accuracy=0.89, loss=0.70] \n",
      "Train: 100% 2000/2000 [01:14<00:00, 26.85 step/s, accuracy=1.00, loss=0.01, step=714000]\n",
      "Valid: 100% 5664/5667 [00:23<00:00, 244.34 uttr/s, accuracy=0.89, loss=0.74] \n",
      "Train: 100% 2000/2000 [00:56<00:00, 35.39 step/s, accuracy=0.97, loss=0.08, step=716000]\n",
      "Valid: 100% 5664/5667 [00:23<00:00, 244.43 uttr/s, accuracy=0.89, loss=0.73] \n",
      "Train: 100% 2000/2000 [00:55<00:00, 36.21 step/s, accuracy=1.00, loss=0.00, step=718000]\n",
      "Valid: 100% 5664/5667 [00:23<00:00, 240.43 uttr/s, accuracy=0.89, loss=0.70] \n",
      "Train: 100% 2000/2000 [00:54<00:00, 36.44 step/s, accuracy=1.00, loss=0.01, step=720000]\n",
      "Valid: 100% 5664/5667 [00:24<00:00, 231.87 uttr/s, accuracy=0.89, loss=0.71] \n",
      "Train:   1% 11/2000 [00:00<00:38, 51.36 step/s, accuracy=1.00, loss=0.01, step=720010]"
     ]
    },
    {
     "name": "stdout",
     "output_type": "stream",
     "text": [
      "Step 720000, best model saved. (accuracy=0.8882)\n"
     ]
    },
    {
     "name": "stderr",
     "output_type": "stream",
     "text": [
      "Train: 100% 2000/2000 [01:14<00:00, 26.75 step/s, accuracy=1.00, loss=0.00, step=722000]\n",
      "Valid: 100% 5664/5667 [00:22<00:00, 251.62 uttr/s, accuracy=0.89, loss=0.74] \n",
      "Train: 100% 2000/2000 [00:53<00:00, 37.11 step/s, accuracy=0.97, loss=0.08, step=724000]\n",
      "Valid: 100% 5664/5667 [00:22<00:00, 247.56 uttr/s, accuracy=0.89, loss=0.72] \n",
      "Train: 100% 2000/2000 [00:54<00:00, 36.74 step/s, accuracy=1.00, loss=0.03, step=726000]\n",
      "Valid: 100% 5664/5667 [00:22<00:00, 246.81 uttr/s, accuracy=0.88, loss=0.71] \n",
      "Train: 100% 2000/2000 [00:54<00:00, 37.03 step/s, accuracy=1.00, loss=0.00, step=728000]\n",
      "Valid: 100% 5664/5667 [00:22<00:00, 250.58 uttr/s, accuracy=0.89, loss=0.71] \n",
      "Train: 100% 2000/2000 [01:15<00:00, 26.50 step/s, accuracy=1.00, loss=0.01, step=730000]\n",
      "Valid: 100% 5664/5667 [00:23<00:00, 238.88 uttr/s, accuracy=0.89, loss=0.74] \n",
      "Train:   0% 10/2000 [00:00<00:44, 44.62 step/s, accuracy=1.00, loss=0.01, step=730010]"
     ]
    },
    {
     "name": "stdout",
     "output_type": "stream",
     "text": [
      "Step 730000, best model saved. (accuracy=0.8882)\n"
     ]
    },
    {
     "name": "stderr",
     "output_type": "stream",
     "text": [
      "Train: 100% 2000/2000 [00:53<00:00, 37.38 step/s, accuracy=1.00, loss=0.00, step=732000]\n",
      "Valid: 100% 5664/5667 [00:22<00:00, 250.94 uttr/s, accuracy=0.89, loss=0.70] \n",
      "Train: 100% 2000/2000 [00:54<00:00, 36.79 step/s, accuracy=0.97, loss=0.06, step=734000]\n",
      "Valid: 100% 5664/5667 [00:22<00:00, 256.30 uttr/s, accuracy=0.89, loss=0.72] \n",
      "Train: 100% 2000/2000 [01:18<00:00, 25.47 step/s, accuracy=1.00, loss=0.00, step=736000]\n",
      "Valid: 100% 5664/5667 [00:23<00:00, 245.73 uttr/s, accuracy=0.89, loss=0.71] \n",
      "Train: 100% 2000/2000 [00:54<00:00, 36.95 step/s, accuracy=0.97, loss=0.06, step=738000]\n",
      "Valid: 100% 5664/5667 [00:22<00:00, 250.29 uttr/s, accuracy=0.89, loss=0.70] \n",
      "Train: 100% 2000/2000 [00:56<00:00, 35.54 step/s, accuracy=1.00, loss=0.00, step=740000]\n",
      "Valid: 100% 5664/5667 [00:22<00:00, 246.71 uttr/s, accuracy=0.89, loss=0.72] \n",
      "Train:   0% 10/2000 [00:00<00:42, 46.75 step/s, accuracy=1.00, loss=0.00, step=740010]"
     ]
    },
    {
     "name": "stdout",
     "output_type": "stream",
     "text": [
      "Step 740000, best model saved. (accuracy=0.8904)\n"
     ]
    },
    {
     "name": "stderr",
     "output_type": "stream",
     "text": [
      "Train: 100% 2000/2000 [00:53<00:00, 37.28 step/s, accuracy=1.00, loss=0.00, step=742000]\n",
      "Valid: 100% 5664/5667 [00:25<00:00, 222.88 uttr/s, accuracy=0.89, loss=0.71] \n",
      "Train: 100% 2000/2000 [01:19<00:00, 25.28 step/s, accuracy=0.97, loss=0.14, step=744000]\n",
      "Valid: 100% 5664/5667 [00:23<00:00, 246.17 uttr/s, accuracy=0.89, loss=0.74] \n",
      "Train: 100% 2000/2000 [00:56<00:00, 35.53 step/s, accuracy=1.00, loss=0.01, step=746000]\n",
      "Valid: 100% 5664/5667 [00:23<00:00, 241.07 uttr/s, accuracy=0.89, loss=0.69] \n",
      "Train: 100% 2000/2000 [00:54<00:00, 37.00 step/s, accuracy=1.00, loss=0.00, step=748000]\n",
      "Valid: 100% 5664/5667 [00:22<00:00, 249.08 uttr/s, accuracy=0.89, loss=0.70] \n",
      "Train: 100% 2000/2000 [00:55<00:00, 36.15 step/s, accuracy=1.00, loss=0.00, step=750000]\n",
      "Valid: 100% 5664/5667 [00:24<00:00, 230.86 uttr/s, accuracy=0.89, loss=0.69] \n",
      "Train:   0% 9/2000 [00:00<00:47, 41.81 step/s, accuracy=1.00, loss=0.00, step=750009]"
     ]
    },
    {
     "name": "stdout",
     "output_type": "stream",
     "text": [
      "Step 750000, best model saved. (accuracy=0.8921)\n"
     ]
    },
    {
     "name": "stderr",
     "output_type": "stream",
     "text": [
      "Train: 100% 2000/2000 [01:14<00:00, 26.94 step/s, accuracy=1.00, loss=0.00, step=752000]\n",
      "Valid: 100% 5664/5667 [00:22<00:00, 255.79 uttr/s, accuracy=0.88, loss=0.73] \n",
      "Train: 100% 2000/2000 [00:55<00:00, 36.04 step/s, accuracy=1.00, loss=0.01, step=754000]\n",
      "Valid: 100% 5664/5667 [00:24<00:00, 234.14 uttr/s, accuracy=0.89, loss=0.74] \n",
      "Train: 100% 2000/2000 [00:54<00:00, 36.64 step/s, accuracy=1.00, loss=0.00, step=756000]\n",
      "Valid: 100% 5664/5667 [00:22<00:00, 249.09 uttr/s, accuracy=0.89, loss=0.67] \n",
      "Train: 100% 2000/2000 [00:56<00:00, 35.56 step/s, accuracy=1.00, loss=0.01, step=758000]\n",
      "Valid: 100% 5664/5667 [00:24<00:00, 232.01 uttr/s, accuracy=0.89, loss=0.70] \n",
      "Train: 100% 2000/2000 [01:27<00:00, 22.85 step/s, accuracy=1.00, loss=0.02, step=760000]\n",
      "Valid: 100% 5664/5667 [00:22<00:00, 246.85 uttr/s, accuracy=0.89, loss=0.72] \n",
      "Train:   0% 9/2000 [00:00<00:55, 35.85 step/s, accuracy=0.97, loss=0.03, step=760009]"
     ]
    },
    {
     "name": "stdout",
     "output_type": "stream",
     "text": [
      "Step 760000, best model saved. (accuracy=0.8950)\n"
     ]
    },
    {
     "name": "stderr",
     "output_type": "stream",
     "text": [
      "Train: 100% 2000/2000 [00:54<00:00, 36.37 step/s, accuracy=1.00, loss=0.00, step=762000]\n",
      "Valid: 100% 5664/5667 [00:23<00:00, 244.22 uttr/s, accuracy=0.89, loss=0.70] \n",
      "Train: 100% 2000/2000 [00:55<00:00, 35.91 step/s, accuracy=1.00, loss=0.00, step=764000]\n",
      "Valid: 100% 5664/5667 [00:24<00:00, 235.22 uttr/s, accuracy=0.89, loss=0.70] \n",
      "Train: 100% 2000/2000 [00:55<00:00, 35.77 step/s, accuracy=0.97, loss=0.03, step=766000]\n",
      "Valid: 100% 5664/5667 [00:23<00:00, 242.58 uttr/s, accuracy=0.89, loss=0.72] \n",
      "Train: 100% 2000/2000 [01:19<00:00, 25.04 step/s, accuracy=1.00, loss=0.00, step=768000]\n",
      "Valid: 100% 5664/5667 [00:24<00:00, 228.56 uttr/s, accuracy=0.89, loss=0.69] \n",
      "Train: 100% 2000/2000 [00:58<00:00, 34.16 step/s, accuracy=1.00, loss=0.00, step=770000]\n",
      "Valid: 100% 5664/5667 [00:23<00:00, 237.24 uttr/s, accuracy=0.89, loss=0.70] \n",
      "Train:   1% 12/2000 [00:00<00:34, 57.76 step/s, accuracy=1.00, loss=0.00, step=770011]"
     ]
    },
    {
     "name": "stdout",
     "output_type": "stream",
     "text": [
      "Step 770000, best model saved. (accuracy=0.8950)\n"
     ]
    },
    {
     "name": "stderr",
     "output_type": "stream",
     "text": [
      "Train: 100% 2000/2000 [00:53<00:00, 37.45 step/s, accuracy=1.00, loss=0.00, step=772000]\n",
      "Valid: 100% 5664/5667 [00:24<00:00, 227.88 uttr/s, accuracy=0.89, loss=0.71] \n",
      "Train: 100% 2000/2000 [00:54<00:00, 36.86 step/s, accuracy=0.97, loss=0.10, step=774000]\n",
      "Valid: 100% 5664/5667 [00:23<00:00, 240.72 uttr/s, accuracy=0.89, loss=0.68] \n",
      "Train: 100% 2000/2000 [01:16<00:00, 26.07 step/s, accuracy=1.00, loss=0.00, step=776000]\n",
      "Valid: 100% 5664/5667 [00:23<00:00, 243.05 uttr/s, accuracy=0.89, loss=0.70] \n",
      "Train: 100% 2000/2000 [00:55<00:00, 36.34 step/s, accuracy=1.00, loss=0.01, step=778000]\n",
      "Valid: 100% 5664/5667 [00:23<00:00, 246.19 uttr/s, accuracy=0.89, loss=0.69] \n",
      "Train: 100% 2000/2000 [00:54<00:00, 36.54 step/s, accuracy=1.00, loss=0.00, step=780000]\n",
      "Valid: 100% 5664/5667 [00:23<00:00, 245.24 uttr/s, accuracy=0.89, loss=0.70] \n",
      "Train:   1% 11/2000 [00:00<00:36, 54.41 step/s, accuracy=1.00, loss=0.00, step=780010]"
     ]
    },
    {
     "name": "stdout",
     "output_type": "stream",
     "text": [
      "Step 780000, best model saved. (accuracy=0.8950)\n"
     ]
    },
    {
     "name": "stderr",
     "output_type": "stream",
     "text": [
      "Train: 100% 2000/2000 [00:53<00:00, 37.10 step/s, accuracy=1.00, loss=0.01, step=782000]\n",
      "Valid: 100% 5664/5667 [00:22<00:00, 247.59 uttr/s, accuracy=0.89, loss=0.71] \n",
      "Train: 100% 2000/2000 [01:15<00:00, 26.36 step/s, accuracy=1.00, loss=0.00, step=784000]\n",
      "Valid: 100% 5664/5667 [00:22<00:00, 249.82 uttr/s, accuracy=0.89, loss=0.71] \n",
      "Train: 100% 2000/2000 [00:53<00:00, 37.06 step/s, accuracy=1.00, loss=0.00, step=786000]\n",
      "Valid: 100% 5664/5667 [00:23<00:00, 245.25 uttr/s, accuracy=0.89, loss=0.72] \n",
      "Train: 100% 2000/2000 [00:54<00:00, 37.01 step/s, accuracy=1.00, loss=0.00, step=788000]\n",
      "Valid: 100% 5664/5667 [00:22<00:00, 246.80 uttr/s, accuracy=0.89, loss=0.71] \n",
      "Train: 100% 2000/2000 [00:54<00:00, 36.37 step/s, accuracy=1.00, loss=0.03, step=790000]\n",
      "Valid: 100% 5664/5667 [00:22<00:00, 246.37 uttr/s, accuracy=0.90, loss=0.70] \n",
      "Train:   0% 10/2000 [00:00<00:45, 43.91 step/s, accuracy=1.00, loss=0.02, step=790010]"
     ]
    },
    {
     "name": "stdout",
     "output_type": "stream",
     "text": [
      "Step 790000, best model saved. (accuracy=0.8974)\n"
     ]
    },
    {
     "name": "stderr",
     "output_type": "stream",
     "text": [
      "Train: 100% 2000/2000 [01:16<00:00, 26.25 step/s, accuracy=1.00, loss=0.00, step=792000]\n",
      "Valid: 100% 5664/5667 [00:22<00:00, 246.77 uttr/s, accuracy=0.90, loss=0.71] \n",
      "Train: 100% 2000/2000 [00:55<00:00, 36.03 step/s, accuracy=1.00, loss=0.00, step=794000]\n",
      "Valid: 100% 5664/5667 [00:23<00:00, 244.68 uttr/s, accuracy=0.89, loss=0.68] \n",
      "Train: 100% 2000/2000 [00:54<00:00, 36.84 step/s, accuracy=1.00, loss=0.00, step=796000]\n",
      "Valid: 100% 5664/5667 [00:24<00:00, 235.89 uttr/s, accuracy=0.90, loss=0.69] \n",
      "Train: 100% 2000/2000 [00:54<00:00, 36.67 step/s, accuracy=1.00, loss=0.00, step=798000]\n",
      "Valid: 100% 5664/5667 [00:23<00:00, 245.10 uttr/s, accuracy=0.89, loss=0.70] \n",
      "Train: 100% 2000/2000 [01:16<00:00, 26.06 step/s, accuracy=1.00, loss=0.00, step=8e+5]  \n",
      "Valid: 100% 5664/5667 [00:24<00:00, 235.27 uttr/s, accuracy=0.89, loss=0.71] \n",
      "Train:   1% 11/2000 [00:00<00:35, 55.30 step/s, accuracy=1.00, loss=0.00, step=8e+5]"
     ]
    },
    {
     "name": "stdout",
     "output_type": "stream",
     "text": [
      "Step 800000, best model saved. (accuracy=0.8992)\n"
     ]
    },
    {
     "name": "stderr",
     "output_type": "stream",
     "text": [
      "Train: 100% 2000/2000 [00:56<00:00, 35.37 step/s, accuracy=1.00, loss=0.00, step=802000]\n",
      "Valid: 100% 5664/5667 [00:22<00:00, 247.60 uttr/s, accuracy=0.90, loss=0.68] \n",
      "Train: 100% 2000/2000 [00:54<00:00, 36.67 step/s, accuracy=1.00, loss=0.00, step=804000]\n",
      "Valid: 100% 5664/5667 [00:25<00:00, 224.53 uttr/s, accuracy=0.90, loss=0.70] \n",
      "Train: 100% 2000/2000 [00:54<00:00, 36.38 step/s, accuracy=1.00, loss=0.00, step=806000]\n",
      "Valid: 100% 5664/5667 [00:23<00:00, 245.43 uttr/s, accuracy=0.90, loss=0.69] \n",
      "Train: 100% 2000/2000 [01:16<00:00, 26.03 step/s, accuracy=1.00, loss=0.00, step=808000]\n",
      "Valid: 100% 5664/5667 [00:22<00:00, 246.80 uttr/s, accuracy=0.89, loss=0.71] \n",
      "Train: 100% 2000/2000 [00:55<00:00, 36.20 step/s, accuracy=1.00, loss=0.00, step=810000]\n",
      "Valid: 100% 5664/5667 [00:24<00:00, 230.14 uttr/s, accuracy=0.89, loss=0.69] \n",
      "Train:   1% 11/2000 [00:00<00:40, 48.90 step/s, accuracy=1.00, loss=0.00, step=810011]"
     ]
    },
    {
     "name": "stdout",
     "output_type": "stream",
     "text": [
      "Step 810000, best model saved. (accuracy=0.8992)\n"
     ]
    },
    {
     "name": "stderr",
     "output_type": "stream",
     "text": [
      "Train: 100% 2000/2000 [00:54<00:00, 36.55 step/s, accuracy=1.00, loss=0.00, step=812000]\n",
      "Valid: 100% 5664/5667 [00:22<00:00, 247.20 uttr/s, accuracy=0.90, loss=0.67] \n",
      "Train: 100% 2000/2000 [00:55<00:00, 36.13 step/s, accuracy=1.00, loss=0.02, step=814000]\n",
      "Valid: 100% 5664/5667 [00:22<00:00, 248.44 uttr/s, accuracy=0.90, loss=0.70] \n",
      "Train: 100% 2000/2000 [01:16<00:00, 26.01 step/s, accuracy=1.00, loss=0.01, step=816000]\n",
      "Valid: 100% 5664/5667 [00:22<00:00, 247.74 uttr/s, accuracy=0.89, loss=0.70] \n",
      "Train: 100% 2000/2000 [00:56<00:00, 35.61 step/s, accuracy=1.00, loss=0.00, step=818000]\n",
      "Valid: 100% 5664/5667 [00:23<00:00, 243.57 uttr/s, accuracy=0.89, loss=0.73] \n",
      "Train: 100% 2000/2000 [00:54<00:00, 36.45 step/s, accuracy=1.00, loss=0.01, step=820000]\n",
      "Valid: 100% 5664/5667 [00:23<00:00, 244.13 uttr/s, accuracy=0.90, loss=0.68] \n",
      "Train:   1% 11/2000 [00:00<00:37, 53.38 step/s, accuracy=1.00, loss=0.00, step=820010]"
     ]
    },
    {
     "name": "stdout",
     "output_type": "stream",
     "text": [
      "Step 820000, best model saved. (accuracy=0.8992)\n"
     ]
    },
    {
     "name": "stderr",
     "output_type": "stream",
     "text": [
      "Train: 100% 2000/2000 [01:16<00:00, 26.09 step/s, accuracy=1.00, loss=0.00, step=822000]\n",
      "Valid: 100% 5664/5667 [00:23<00:00, 245.45 uttr/s, accuracy=0.89, loss=0.71] \n",
      "Train: 100% 2000/2000 [00:54<00:00, 36.45 step/s, accuracy=1.00, loss=0.00, step=824000]\n",
      "Valid: 100% 5664/5667 [00:23<00:00, 245.66 uttr/s, accuracy=0.89, loss=0.73] \n",
      "Train: 100% 2000/2000 [00:54<00:00, 36.45 step/s, accuracy=1.00, loss=0.02, step=826000]\n",
      "Valid: 100% 5664/5667 [00:23<00:00, 244.73 uttr/s, accuracy=0.89, loss=0.71] \n",
      "Train: 100% 2000/2000 [00:54<00:00, 36.70 step/s, accuracy=1.00, loss=0.00, step=828000]\n",
      "Valid: 100% 5664/5667 [00:23<00:00, 242.24 uttr/s, accuracy=0.89, loss=0.71] \n",
      "Train: 100% 2000/2000 [01:16<00:00, 26.21 step/s, accuracy=1.00, loss=0.00, step=830000]\n",
      "Valid: 100% 5664/5667 [00:22<00:00, 247.35 uttr/s, accuracy=0.89, loss=0.70] \n",
      "Train:   0% 10/2000 [00:00<00:43, 45.88 step/s, accuracy=1.00, loss=0.00, step=830010]"
     ]
    },
    {
     "name": "stdout",
     "output_type": "stream",
     "text": [
      "Step 830000, best model saved. (accuracy=0.8992)\n"
     ]
    },
    {
     "name": "stderr",
     "output_type": "stream",
     "text": [
      "Train: 100% 2000/2000 [00:53<00:00, 37.51 step/s, accuracy=1.00, loss=0.00, step=832000]\n",
      "Valid: 100% 5664/5667 [00:22<00:00, 249.01 uttr/s, accuracy=0.90, loss=0.69] \n",
      "Train: 100% 2000/2000 [00:54<00:00, 36.85 step/s, accuracy=1.00, loss=0.00, step=834000]\n",
      "Valid: 100% 5664/5667 [00:22<00:00, 246.31 uttr/s, accuracy=0.90, loss=0.72] \n",
      "Train: 100% 2000/2000 [00:53<00:00, 37.10 step/s, accuracy=1.00, loss=0.00, step=836000]\n",
      "Valid: 100% 5664/5667 [00:23<00:00, 244.65 uttr/s, accuracy=0.90, loss=0.73] \n",
      "Train: 100% 2000/2000 [01:13<00:00, 27.22 step/s, accuracy=1.00, loss=0.00, step=838000]\n",
      "Valid: 100% 5664/5667 [00:22<00:00, 248.67 uttr/s, accuracy=0.90, loss=0.70] \n",
      "Train: 100% 2000/2000 [00:53<00:00, 37.53 step/s, accuracy=1.00, loss=0.00, step=840000]\n",
      "Valid: 100% 5664/5667 [00:22<00:00, 254.18 uttr/s, accuracy=0.90, loss=0.71] \n",
      "Train:   1% 12/2000 [00:00<00:37, 52.38 step/s, accuracy=1.00, loss=0.00, step=840012]"
     ]
    },
    {
     "name": "stdout",
     "output_type": "stream",
     "text": [
      "Step 840000, best model saved. (accuracy=0.9004)\n"
     ]
    },
    {
     "name": "stderr",
     "output_type": "stream",
     "text": [
      "Train: 100% 2000/2000 [00:52<00:00, 38.18 step/s, accuracy=1.00, loss=0.00, step=842000]\n",
      "Valid: 100% 5664/5667 [00:22<00:00, 252.53 uttr/s, accuracy=0.90, loss=0.70] \n",
      "Train: 100% 2000/2000 [00:53<00:00, 37.72 step/s, accuracy=1.00, loss=0.00, step=844000]\n",
      "Valid: 100% 5664/5667 [00:22<00:00, 252.93 uttr/s, accuracy=0.90, loss=0.68] \n",
      "Train: 100% 2000/2000 [01:28<00:00, 22.57 step/s, accuracy=1.00, loss=0.00, step=846000]\n",
      "Valid: 100% 5664/5667 [00:38<00:00, 148.09 uttr/s, accuracy=0.89, loss=0.69]\n",
      "Train: 100% 2000/2000 [02:39<00:00, 12.52 step/s, accuracy=1.00, loss=0.00, step=848000]\n",
      "Valid: 100% 5664/5667 [00:22<00:00, 248.86 uttr/s, accuracy=0.90, loss=0.67] \n",
      "Train: 100% 2000/2000 [00:54<00:00, 36.74 step/s, accuracy=1.00, loss=0.00, step=850000]\n",
      "Valid: 100% 5664/5667 [00:23<00:00, 239.82 uttr/s, accuracy=0.90, loss=0.67] \n",
      "Train:   1% 11/2000 [00:00<00:42, 47.30 step/s, accuracy=1.00, loss=0.00, step=850011]"
     ]
    },
    {
     "name": "stdout",
     "output_type": "stream",
     "text": [
      "Step 850000, best model saved. (accuracy=0.9025)\n"
     ]
    },
    {
     "name": "stderr",
     "output_type": "stream",
     "text": [
      "Train: 100% 2000/2000 [00:53<00:00, 37.50 step/s, accuracy=1.00, loss=0.00, step=852000]\n",
      "Valid: 100% 5664/5667 [00:22<00:00, 247.59 uttr/s, accuracy=0.90, loss=0.70] \n",
      "Train: 100% 2000/2000 [01:15<00:00, 26.65 step/s, accuracy=1.00, loss=0.02, step=854000]\n",
      "Valid: 100% 5664/5667 [00:22<00:00, 250.49 uttr/s, accuracy=0.90, loss=0.70] \n",
      "Train: 100% 2000/2000 [00:54<00:00, 36.67 step/s, accuracy=0.97, loss=0.04, step=856000]\n",
      "Valid: 100% 5664/5667 [00:22<00:00, 247.29 uttr/s, accuracy=0.90, loss=0.68] \n",
      "Train: 100% 2000/2000 [00:53<00:00, 37.09 step/s, accuracy=1.00, loss=0.00, step=858000]\n",
      "Valid: 100% 5664/5667 [00:25<00:00, 226.36 uttr/s, accuracy=0.90, loss=0.68] \n",
      "Train: 100% 2000/2000 [00:54<00:00, 36.71 step/s, accuracy=1.00, loss=0.00, step=860000]\n",
      "Valid: 100% 5664/5667 [00:22<00:00, 246.71 uttr/s, accuracy=0.90, loss=0.72] \n",
      "Train:   0% 10/2000 [00:00<00:42, 46.80 step/s, accuracy=1.00, loss=0.01, step=860010]"
     ]
    },
    {
     "name": "stdout",
     "output_type": "stream",
     "text": [
      "Step 860000, best model saved. (accuracy=0.9025)\n"
     ]
    },
    {
     "name": "stderr",
     "output_type": "stream",
     "text": [
      "Train: 100% 2000/2000 [01:17<00:00, 25.92 step/s, accuracy=1.00, loss=0.00, step=862000]\n",
      "Valid: 100% 5664/5667 [00:22<00:00, 252.83 uttr/s, accuracy=0.90, loss=0.69] \n",
      "Train: 100% 2000/2000 [00:53<00:00, 37.14 step/s, accuracy=1.00, loss=0.00, step=864000]\n",
      "Valid: 100% 5664/5667 [00:24<00:00, 229.33 uttr/s, accuracy=0.90, loss=0.69] \n",
      "Train: 100% 2000/2000 [00:54<00:00, 36.94 step/s, accuracy=1.00, loss=0.00, step=866000]\n",
      "Valid: 100% 5664/5667 [00:22<00:00, 247.96 uttr/s, accuracy=0.90, loss=0.66] \n",
      "Train: 100% 2000/2000 [00:55<00:00, 36.28 step/s, accuracy=1.00, loss=0.00, step=868000]\n",
      "Valid: 100% 5664/5667 [00:25<00:00, 218.37 uttr/s, accuracy=0.90, loss=0.68] \n",
      "Train: 100% 2000/2000 [01:18<00:00, 25.42 step/s, accuracy=1.00, loss=0.00, step=870000]\n",
      "Valid: 100% 5664/5667 [00:23<00:00, 242.67 uttr/s, accuracy=0.90, loss=0.67] \n",
      "Train:   1% 11/2000 [00:00<00:43, 45.75 step/s, accuracy=1.00, loss=0.01, step=870011]"
     ]
    },
    {
     "name": "stdout",
     "output_type": "stream",
     "text": [
      "Step 870000, best model saved. (accuracy=0.9043)\n"
     ]
    },
    {
     "name": "stderr",
     "output_type": "stream",
     "text": [
      "Train: 100% 2000/2000 [00:57<00:00, 35.04 step/s, accuracy=1.00, loss=0.00, step=872000]\n",
      "Valid: 100% 5664/5667 [00:25<00:00, 223.22 uttr/s, accuracy=0.90, loss=0.69] \n",
      "Train: 100% 2000/2000 [00:54<00:00, 36.82 step/s, accuracy=1.00, loss=0.00, step=874000]\n",
      "Valid: 100% 5664/5667 [00:22<00:00, 247.92 uttr/s, accuracy=0.90, loss=0.70] \n",
      "Train: 100% 2000/2000 [00:56<00:00, 35.67 step/s, accuracy=1.00, loss=0.01, step=876000]\n",
      "Valid: 100% 5664/5667 [00:25<00:00, 224.20 uttr/s, accuracy=0.90, loss=0.70] \n",
      "Train: 100% 2000/2000 [01:18<00:00, 25.60 step/s, accuracy=1.00, loss=0.00, step=878000]\n",
      "Valid: 100% 5664/5667 [00:24<00:00, 235.96 uttr/s, accuracy=0.90, loss=0.68] \n",
      "Train: 100% 2000/2000 [00:57<00:00, 34.83 step/s, accuracy=1.00, loss=0.00, step=880000]\n",
      "Valid: 100% 5664/5667 [00:25<00:00, 224.59 uttr/s, accuracy=0.90, loss=0.69] \n",
      "Train:   1% 11/2000 [00:00<00:38, 52.11 step/s, accuracy=1.00, loss=0.00, step=880010]"
     ]
    },
    {
     "name": "stdout",
     "output_type": "stream",
     "text": [
      "Step 880000, best model saved. (accuracy=0.9043)\n"
     ]
    },
    {
     "name": "stderr",
     "output_type": "stream",
     "text": [
      "Train: 100% 2000/2000 [00:56<00:00, 35.14 step/s, accuracy=1.00, loss=0.00, step=882000]\n",
      "Valid: 100% 5664/5667 [00:24<00:00, 226.76 uttr/s, accuracy=0.90, loss=0.70] \n",
      "Train: 100% 2000/2000 [00:56<00:00, 35.16 step/s, accuracy=1.00, loss=0.00, step=884000]\n",
      "Valid: 100% 5664/5667 [00:23<00:00, 240.35 uttr/s, accuracy=0.90, loss=0.68] \n",
      "Train: 100% 2000/2000 [01:17<00:00, 25.84 step/s, accuracy=1.00, loss=0.00, step=886000]\n",
      "Valid: 100% 5664/5667 [00:24<00:00, 230.01 uttr/s, accuracy=0.90, loss=0.69] \n",
      "Train: 100% 2000/2000 [00:56<00:00, 35.17 step/s, accuracy=1.00, loss=0.00, step=888000]\n",
      "Valid: 100% 5664/5667 [00:24<00:00, 229.45 uttr/s, accuracy=0.90, loss=0.72] \n",
      "Train: 100% 2000/2000 [00:57<00:00, 34.74 step/s, accuracy=1.00, loss=0.00, step=890000]\n",
      "Valid: 100% 5664/5667 [00:24<00:00, 228.38 uttr/s, accuracy=0.91, loss=0.66] \n",
      "Train:   1% 11/2000 [00:00<00:44, 44.64 step/s, accuracy=1.00, loss=0.01, step=890011]"
     ]
    },
    {
     "name": "stdout",
     "output_type": "stream",
     "text": [
      "Step 890000, best model saved. (accuracy=0.9055)\n"
     ]
    },
    {
     "name": "stderr",
     "output_type": "stream",
     "text": [
      "Train: 100% 2000/2000 [00:55<00:00, 36.35 step/s, accuracy=1.00, loss=0.00, step=892000]\n",
      "Valid: 100% 5664/5667 [00:22<00:00, 247.33 uttr/s, accuracy=0.91, loss=0.68] \n",
      "Train: 100% 2000/2000 [01:14<00:00, 27.02 step/s, accuracy=1.00, loss=0.00, step=894000]\n",
      "Valid: 100% 5664/5667 [00:24<00:00, 229.61 uttr/s, accuracy=0.90, loss=0.71] \n",
      "Train: 100% 2000/2000 [00:55<00:00, 36.02 step/s, accuracy=1.00, loss=0.00, step=896000]\n",
      "Valid: 100% 5664/5667 [00:24<00:00, 235.07 uttr/s, accuracy=0.91, loss=0.64] \n",
      "Train: 100% 2000/2000 [00:56<00:00, 35.70 step/s, accuracy=1.00, loss=0.00, step=898000]\n",
      "Valid: 100% 5664/5667 [00:26<00:00, 211.97 uttr/s, accuracy=0.90, loss=0.68] \n",
      "Train: 100% 2000/2000 [00:58<00:00, 34.11 step/s, accuracy=1.00, loss=0.00, step=9e+5]  \n",
      "Valid: 100% 5664/5667 [00:23<00:00, 241.91 uttr/s, accuracy=0.90, loss=0.68] \n",
      "Train:   0% 9/2000 [00:00<00:42, 47.03 step/s, accuracy=1.00, loss=0.00, step=9e+5]"
     ]
    },
    {
     "name": "stdout",
     "output_type": "stream",
     "text": [
      "Step 900000, best model saved. (accuracy=0.9080)\n"
     ]
    },
    {
     "name": "stderr",
     "output_type": "stream",
     "text": [
      "Train: 100% 2000/2000 [01:18<00:00, 25.50 step/s, accuracy=1.00, loss=0.00, step=902000]\n",
      "Valid: 100% 5664/5667 [00:25<00:00, 223.69 uttr/s, accuracy=0.90, loss=0.66] \n",
      "Train: 100% 2000/2000 [00:58<00:00, 33.93 step/s, accuracy=1.00, loss=0.01, step=904000]\n",
      "Valid: 100% 5664/5667 [00:24<00:00, 228.46 uttr/s, accuracy=0.90, loss=0.67] \n",
      "Train: 100% 2000/2000 [00:56<00:00, 35.38 step/s, accuracy=1.00, loss=0.00, step=906000]\n",
      "Valid: 100% 5664/5667 [00:24<00:00, 227.80 uttr/s, accuracy=0.91, loss=0.66] \n",
      "Train: 100% 2000/2000 [00:56<00:00, 35.24 step/s, accuracy=1.00, loss=0.00, step=908000]\n",
      "Valid: 100% 5664/5667 [00:24<00:00, 232.01 uttr/s, accuracy=0.90, loss=0.73] \n",
      "Train: 100% 2000/2000 [01:16<00:00, 26.16 step/s, accuracy=1.00, loss=0.00, step=910000]\n",
      "Valid: 100% 5664/5667 [00:22<00:00, 246.73 uttr/s, accuracy=0.90, loss=0.67] \n",
      "Train:   1% 11/2000 [00:00<00:37, 52.52 step/s, accuracy=1.00, loss=0.00, step=910010]"
     ]
    },
    {
     "name": "stdout",
     "output_type": "stream",
     "text": [
      "Step 910000, best model saved. (accuracy=0.9080)\n"
     ]
    },
    {
     "name": "stderr",
     "output_type": "stream",
     "text": [
      "Train: 100% 2000/2000 [00:56<00:00, 35.40 step/s, accuracy=1.00, loss=0.00, step=912000]\n",
      "Valid: 100% 5664/5667 [00:24<00:00, 231.55 uttr/s, accuracy=0.90, loss=0.71] \n",
      "Train: 100% 2000/2000 [00:56<00:00, 35.71 step/s, accuracy=1.00, loss=0.00, step=914000]\n",
      "Valid: 100% 5664/5667 [00:24<00:00, 234.12 uttr/s, accuracy=0.90, loss=0.69] \n",
      "Train: 100% 2000/2000 [01:15<00:00, 26.38 step/s, accuracy=1.00, loss=0.00, step=916000]\n",
      "Valid: 100% 5664/5667 [00:23<00:00, 246.16 uttr/s, accuracy=0.90, loss=0.69] \n",
      "Train: 100% 2000/2000 [00:53<00:00, 37.24 step/s, accuracy=1.00, loss=0.00, step=918000]\n",
      "Valid: 100% 5664/5667 [00:22<00:00, 247.05 uttr/s, accuracy=0.90, loss=0.69] \n",
      "Train: 100% 2000/2000 [00:53<00:00, 37.12 step/s, accuracy=1.00, loss=0.00, step=920000]\n",
      "Valid: 100% 5664/5667 [00:22<00:00, 247.74 uttr/s, accuracy=0.90, loss=0.67] \n",
      "Train:   1% 12/2000 [00:00<00:38, 51.63 step/s, accuracy=1.00, loss=0.00, step=920012]"
     ]
    },
    {
     "name": "stdout",
     "output_type": "stream",
     "text": [
      "Step 920000, best model saved. (accuracy=0.9080)\n"
     ]
    },
    {
     "name": "stderr",
     "output_type": "stream",
     "text": [
      "Train: 100% 2000/2000 [00:55<00:00, 35.87 step/s, accuracy=1.00, loss=0.00, step=922000]\n",
      "Valid: 100% 5664/5667 [00:41<00:00, 136.37 uttr/s, accuracy=0.91, loss=0.69]\n",
      "Train: 100% 2000/2000 [03:12<00:00, 10.37 step/s, accuracy=1.00, loss=0.00, step=924000] \n",
      "Valid: 100% 5664/5667 [00:32<00:00, 176.54 uttr/s, accuracy=0.90, loss=0.71]\n",
      "Train: 100% 2000/2000 [00:47<00:00, 42.10 step/s, accuracy=1.00, loss=0.00, step=926000]\n",
      "Valid: 100% 5664/5667 [00:20<00:00, 279.57 uttr/s, accuracy=0.91, loss=0.66] \n",
      "Train: 100% 2000/2000 [00:47<00:00, 42.12 step/s, accuracy=1.00, loss=0.00, step=928000]\n",
      "Valid: 100% 5664/5667 [00:20<00:00, 279.26 uttr/s, accuracy=0.90, loss=0.70] \n",
      "Train: 100% 2000/2000 [00:47<00:00, 42.18 step/s, accuracy=1.00, loss=0.00, step=930000]\n",
      "Valid: 100% 5664/5667 [00:20<00:00, 275.77 uttr/s, accuracy=0.90, loss=0.68] \n",
      "Train:   1% 13/2000 [00:00<00:35, 55.24 step/s, accuracy=0.97, loss=0.04, step=930013]"
     ]
    },
    {
     "name": "stdout",
     "output_type": "stream",
     "text": [
      "Step 930000, best model saved. (accuracy=0.9080)\n"
     ]
    },
    {
     "name": "stderr",
     "output_type": "stream",
     "text": [
      "Train: 100% 2000/2000 [01:06<00:00, 29.95 step/s, accuracy=1.00, loss=0.00, step=932000]\n",
      "Valid: 100% 5664/5667 [00:22<00:00, 254.92 uttr/s, accuracy=0.91, loss=0.67] \n",
      "Train: 100% 2000/2000 [00:53<00:00, 37.59 step/s, accuracy=1.00, loss=0.00, step=934000]\n",
      "Valid: 100% 5664/5667 [00:23<00:00, 245.71 uttr/s, accuracy=0.90, loss=0.69] \n",
      "Train: 100% 2000/2000 [00:56<00:00, 35.53 step/s, accuracy=1.00, loss=0.00, step=936000]\n",
      "Valid: 100% 5664/5667 [00:32<00:00, 175.73 uttr/s, accuracy=0.91, loss=0.66] \n",
      "Train: 100% 2000/2000 [00:54<00:00, 36.55 step/s, accuracy=1.00, loss=0.00, step=938000]\n",
      "Valid: 100% 5664/5667 [00:24<00:00, 229.39 uttr/s, accuracy=0.90, loss=0.68] \n",
      "Train: 100% 2000/2000 [01:15<00:00, 26.47 step/s, accuracy=1.00, loss=0.00, step=940000]\n",
      "Valid: 100% 5664/5667 [00:23<00:00, 246.00 uttr/s, accuracy=0.90, loss=0.71] \n",
      "Train:   1% 11/2000 [00:00<00:37, 52.69 step/s, accuracy=1.00, loss=0.00, step=940010]"
     ]
    },
    {
     "name": "stdout",
     "output_type": "stream",
     "text": [
      "Step 940000, best model saved. (accuracy=0.9080)\n"
     ]
    },
    {
     "name": "stderr",
     "output_type": "stream",
     "text": [
      "Train: 100% 2000/2000 [00:53<00:00, 37.72 step/s, accuracy=1.00, loss=0.00, step=942000]\n",
      "Valid: 100% 5664/5667 [00:22<00:00, 254.59 uttr/s, accuracy=0.90, loss=0.67] \n",
      "Train: 100% 2000/2000 [00:54<00:00, 36.93 step/s, accuracy=1.00, loss=0.00, step=944000]\n",
      "Valid: 100% 5664/5667 [00:22<00:00, 247.71 uttr/s, accuracy=0.90, loss=0.69] \n",
      "Train: 100% 2000/2000 [00:53<00:00, 37.16 step/s, accuracy=1.00, loss=0.00, step=946000]\n",
      "Valid: 100% 5664/5667 [00:23<00:00, 242.95 uttr/s, accuracy=0.90, loss=0.70] \n",
      "Train: 100% 2000/2000 [01:14<00:00, 26.79 step/s, accuracy=1.00, loss=0.00, step=948000]\n",
      "Valid: 100% 5664/5667 [00:22<00:00, 251.87 uttr/s, accuracy=0.90, loss=0.66] \n",
      "Train: 100% 2000/2000 [00:53<00:00, 37.60 step/s, accuracy=1.00, loss=0.00, step=950000]\n",
      "Valid: 100% 5664/5667 [00:22<00:00, 250.33 uttr/s, accuracy=0.90, loss=0.68] \n",
      "Train:   1% 12/2000 [00:00<00:35, 56.66 step/s, accuracy=1.00, loss=0.00, step=950011]"
     ]
    },
    {
     "name": "stdout",
     "output_type": "stream",
     "text": [
      "Step 950000, best model saved. (accuracy=0.9080)\n"
     ]
    },
    {
     "name": "stderr",
     "output_type": "stream",
     "text": [
      "Train: 100% 2000/2000 [00:52<00:00, 38.21 step/s, accuracy=1.00, loss=0.00, step=952000]\n",
      "Valid: 100% 5664/5667 [00:22<00:00, 254.62 uttr/s, accuracy=0.90, loss=0.67] \n",
      "Train: 100% 2000/2000 [00:55<00:00, 36.33 step/s, accuracy=1.00, loss=0.00, step=954000]\n",
      "Valid: 100% 5664/5667 [00:22<00:00, 247.71 uttr/s, accuracy=0.91, loss=0.67] \n",
      "Train: 100% 2000/2000 [01:15<00:00, 26.43 step/s, accuracy=1.00, loss=0.00, step=956000]\n",
      "Valid: 100% 5664/5667 [00:22<00:00, 247.42 uttr/s, accuracy=0.91, loss=0.70] \n",
      "Train: 100% 2000/2000 [00:55<00:00, 36.07 step/s, accuracy=1.00, loss=0.00, step=958000]\n",
      "Valid: 100% 5664/5667 [00:22<00:00, 247.36 uttr/s, accuracy=0.91, loss=0.68] \n",
      "Train: 100% 2000/2000 [00:56<00:00, 35.47 step/s, accuracy=1.00, loss=0.00, step=960000]\n",
      "Valid: 100% 5664/5667 [00:23<00:00, 244.45 uttr/s, accuracy=0.91, loss=0.64] \n",
      "Train:   1% 11/2000 [00:00<00:42, 47.12 step/s, accuracy=1.00, loss=0.00, step=960011]"
     ]
    },
    {
     "name": "stdout",
     "output_type": "stream",
     "text": [
      "Step 960000, best model saved. (accuracy=0.9126)\n"
     ]
    },
    {
     "name": "stderr",
     "output_type": "stream",
     "text": [
      "Train: 100% 2000/2000 [00:53<00:00, 37.13 step/s, accuracy=1.00, loss=0.00, step=962000]\n",
      "Valid: 100% 5664/5667 [00:23<00:00, 243.81 uttr/s, accuracy=0.91, loss=0.67] \n",
      "Train: 100% 2000/2000 [01:14<00:00, 26.80 step/s, accuracy=1.00, loss=0.00, step=964000]\n",
      "Valid: 100% 5664/5667 [00:23<00:00, 246.18 uttr/s, accuracy=0.90, loss=0.67] \n",
      "Train: 100% 2000/2000 [00:54<00:00, 36.95 step/s, accuracy=1.00, loss=0.00, step=966000]\n",
      "Valid: 100% 5664/5667 [00:22<00:00, 250.57 uttr/s, accuracy=0.90, loss=0.69] \n",
      "Train: 100% 2000/2000 [00:54<00:00, 36.57 step/s, accuracy=1.00, loss=0.00, step=968000]\n",
      "Valid: 100% 5664/5667 [00:22<00:00, 251.86 uttr/s, accuracy=0.90, loss=0.68] \n",
      "Train: 100% 2000/2000 [00:54<00:00, 36.75 step/s, accuracy=1.00, loss=0.00, step=970000]\n",
      "Valid: 100% 5664/5667 [00:22<00:00, 251.23 uttr/s, accuracy=0.90, loss=0.69] \n",
      "Train:   0% 10/2000 [00:00<00:40, 49.53 step/s, accuracy=1.00, loss=0.01, step=970009]"
     ]
    },
    {
     "name": "stdout",
     "output_type": "stream",
     "text": [
      "Step 970000, best model saved. (accuracy=0.9126)\n"
     ]
    },
    {
     "name": "stderr",
     "output_type": "stream",
     "text": [
      "Train: 100% 2000/2000 [01:15<00:00, 26.37 step/s, accuracy=1.00, loss=0.00, step=972000]\n",
      "Valid: 100% 5664/5667 [00:22<00:00, 250.81 uttr/s, accuracy=0.91, loss=0.66] \n",
      "Train: 100% 2000/2000 [00:53<00:00, 37.18 step/s, accuracy=1.00, loss=0.00, step=974000]\n",
      "Valid: 100% 5664/5667 [00:23<00:00, 241.58 uttr/s, accuracy=0.91, loss=0.65] \n",
      "Train: 100% 2000/2000 [00:54<00:00, 36.98 step/s, accuracy=1.00, loss=0.00, step=976000]\n",
      "Valid: 100% 5664/5667 [00:22<00:00, 246.89 uttr/s, accuracy=0.90, loss=0.67] \n",
      "Train: 100% 2000/2000 [00:56<00:00, 35.67 step/s, accuracy=1.00, loss=0.00, step=978000]\n",
      "Valid: 100% 5664/5667 [00:22<00:00, 248.20 uttr/s, accuracy=0.91, loss=0.68] \n",
      "Train: 100% 2000/2000 [01:19<00:00, 25.30 step/s, accuracy=1.00, loss=0.00, step=980000]\n",
      "Valid: 100% 5664/5667 [00:22<00:00, 248.82 uttr/s, accuracy=0.91, loss=0.66] \n",
      "Train:   1% 11/2000 [00:00<00:41, 48.38 step/s, accuracy=1.00, loss=0.00, step=980011]"
     ]
    },
    {
     "name": "stdout",
     "output_type": "stream",
     "text": [
      "Step 980000, best model saved. (accuracy=0.9126)\n"
     ]
    },
    {
     "name": "stderr",
     "output_type": "stream",
     "text": [
      "Train: 100% 2000/2000 [00:55<00:00, 36.08 step/s, accuracy=1.00, loss=0.00, step=982000]\n",
      "Valid: 100% 5664/5667 [00:23<00:00, 245.78 uttr/s, accuracy=0.91, loss=0.65] \n",
      "Train: 100% 2000/2000 [00:54<00:00, 36.77 step/s, accuracy=1.00, loss=0.00, step=984000]\n",
      "Valid: 100% 5664/5667 [00:24<00:00, 235.60 uttr/s, accuracy=0.91, loss=0.70] \n",
      "Train: 100% 2000/2000 [00:54<00:00, 36.47 step/s, accuracy=1.00, loss=0.00, step=986000]\n",
      "Valid: 100% 5664/5667 [00:22<00:00, 247.59 uttr/s, accuracy=0.91, loss=0.66] \n",
      "Train: 100% 2000/2000 [01:17<00:00, 25.93 step/s, accuracy=0.97, loss=0.03, step=988000]\n",
      "Valid: 100% 5664/5667 [00:22<00:00, 246.77 uttr/s, accuracy=0.90, loss=0.69] \n",
      "Train: 100% 2000/2000 [00:57<00:00, 34.57 step/s, accuracy=1.00, loss=0.00, step=990000]\n",
      "Valid: 100% 5664/5667 [00:26<00:00, 212.73 uttr/s, accuracy=0.91, loss=0.68] \n",
      "Train:   0% 9/2000 [00:00<00:50, 39.38 step/s, accuracy=1.00, loss=0.00, step=990009]"
     ]
    },
    {
     "name": "stdout",
     "output_type": "stream",
     "text": [
      "Step 990000, best model saved. (accuracy=0.9126)\n"
     ]
    },
    {
     "name": "stderr",
     "output_type": "stream",
     "text": [
      "Train: 100% 2000/2000 [00:54<00:00, 36.46 step/s, accuracy=1.00, loss=0.00, step=992000]\n",
      "Valid: 100% 5664/5667 [00:23<00:00, 242.74 uttr/s, accuracy=0.91, loss=0.65] \n",
      "Train: 100% 2000/2000 [00:56<00:00, 35.34 step/s, accuracy=1.00, loss=0.00, step=994000]\n",
      "Valid: 100% 5664/5667 [00:23<00:00, 242.14 uttr/s, accuracy=0.91, loss=0.65] \n",
      "Train: 100% 2000/2000 [01:19<00:00, 25.02 step/s, accuracy=1.00, loss=0.00, step=996000]\n",
      "Valid: 100% 5664/5667 [00:25<00:00, 220.42 uttr/s, accuracy=0.91, loss=0.66] \n",
      "Train: 100% 2000/2000 [00:55<00:00, 35.90 step/s, accuracy=1.00, loss=0.00, step=998000]\n",
      "Valid: 100% 5664/5667 [00:23<00:00, 243.44 uttr/s, accuracy=0.90, loss=0.68] \n",
      "Train: 100% 2000/2000 [00:58<00:00, 34.05 step/s, accuracy=1.00, loss=0.00, step=1e+6]  \n",
      "Valid: 100% 5664/5667 [00:25<00:00, 219.08 uttr/s, accuracy=0.90, loss=0.68] \n",
      "Train:   0% 0/2000 [00:00<?, ? step/s]\n"
     ]
    },
    {
     "name": "stdout",
     "output_type": "stream",
     "text": [
      "Step 1000000, best model saved. (accuracy=0.9126)\n"
     ]
    }
   ],
   "source": [
    "from tqdm import tqdm\n",
    "\n",
    "import torch\n",
    "import torch.nn as nn\n",
    "from torch.optim import AdamW\n",
    "from torch.utils.data import DataLoader, random_split\n",
    "\n",
    "\n",
    "def parse_args():\n",
    "\t\"\"\"arguments\"\"\"\n",
    "\tconfig = {\n",
    "\t\t\"data_dir\": \".\\\\Dataset\",\n",
    "\t\t\"save_path\": \"model.ckpt\",\n",
    "\t\t\"batch_size\": 32,\n",
    "\t\t\"n_workers\": 8,\n",
    "\t\t\"valid_steps\": 2000,\n",
    "\t\t\"warmup_steps\": 1000,\n",
    "\t\t\"save_steps\": 10000,\n",
    "\t\t\"total_steps\": 1000000,\n",
    "\t}\n",
    "\n",
    "\treturn config\n",
    "\n",
    "\n",
    "def main(\n",
    "\tdata_dir,\n",
    "\tsave_path,\n",
    "\tbatch_size,\n",
    "\tn_workers,\n",
    "\tvalid_steps,\n",
    "\twarmup_steps,\n",
    "\ttotal_steps,\n",
    "\tsave_steps,\n",
    "):\n",
    "\t\"\"\"Main function.\"\"\"\n",
    "\tdevice = torch.device(\"cuda\" if torch.cuda.is_available() else \"cpu\")\n",
    "\tprint(f\"[Info]: Use {device} now!\")\n",
    "\n",
    "\ttrain_loader, valid_loader, speaker_num = get_dataloader(data_dir, batch_size, n_workers)\n",
    "\tprint(\"Colin after get_dataloader\")\n",
    "\ttrain_iterator = iter(train_loader)\n",
    "\tprint(f\"[Info]: Finish loading data!\",flush = True)\n",
    "\n",
    "\tmodel = Classifier(n_spks=speaker_num).to(device)\n",
    "\tcriterion = nn.CrossEntropyLoss()\n",
    "\toptimizer = AdamW(model.parameters(), lr=1e-3)\n",
    "\tscheduler = get_cosine_schedule_with_warmup(optimizer, warmup_steps, total_steps)\n",
    "\tprint(f\"[Info]: Finish creating model!\",flush = True)\n",
    "\n",
    "\tbest_accuracy = -1.0\n",
    "\tbest_state_dict = None\n",
    "\n",
    "\tpbar = tqdm(total=valid_steps, ncols=0, desc=\"Train\", unit=\" step\")\n",
    "\n",
    "\tfor step in range(total_steps):\n",
    "\t\t# Get data\n",
    "\t\ttry:\n",
    "\t\t\tbatch = next(train_iterator)\n",
    "\t\texcept StopIteration:\n",
    "\t\t\ttrain_iterator = iter(train_loader)\n",
    "\t\t\tbatch = next(train_iterator)\n",
    "\n",
    "\t\tloss, accuracy = model_fn(batch, model, criterion, device)\n",
    "\t\tbatch_loss = loss.item()\n",
    "\t\tbatch_accuracy = accuracy.item()\n",
    "\n",
    "\t\t# Updata model\n",
    "\t\tloss.backward()\n",
    "\t\toptimizer.step()\n",
    "\t\tscheduler.step()\n",
    "\t\toptimizer.zero_grad()\n",
    "\n",
    "\t\t# Log\n",
    "\t\tpbar.update()\n",
    "\t\tpbar.set_postfix(\n",
    "\t\t\tloss=f\"{batch_loss:.2f}\",\n",
    "\t\t\taccuracy=f\"{batch_accuracy:.2f}\",\n",
    "\t\t\tstep=step + 1,\n",
    "\t\t)\n",
    "\n",
    "\t\t# Do validation\n",
    "\t\tif (step + 1) % valid_steps == 0:\n",
    "\t\t\tpbar.close()\n",
    "\n",
    "\t\t\tvalid_accuracy = valid(valid_loader, model, criterion, device)\n",
    "\n",
    "\t\t\t# keep the best model\n",
    "\t\t\tif valid_accuracy > best_accuracy:\n",
    "\t\t\t\tbest_accuracy = valid_accuracy\n",
    "\t\t\t\tbest_state_dict = model.state_dict()\n",
    "\n",
    "\t\t\tpbar = tqdm(total=valid_steps, ncols=0, desc=\"Train\", unit=\" step\")\n",
    "\n",
    "\t\t# Save the best model so far.\n",
    "\t\tif (step + 1) % save_steps == 0 and best_state_dict is not None:\n",
    "\t\t\ttorch.save(best_state_dict, save_path)\n",
    "\t\t\tpbar.write(f\"Step {step + 1}, best model saved. (accuracy={best_accuracy:.4f})\")\n",
    "\n",
    "\tpbar.close()\n",
    "\n",
    "\n",
    "if __name__ == \"__main__\":\n",
    "\tmain(**parse_args())"
   ]
  },
  {
   "cell_type": "markdown",
   "metadata": {
    "id": "NLatBYAhNNMx"
   },
   "source": [
    "# Inference\n",
    "\n",
    "## Dataset of inference"
   ]
  },
  {
   "cell_type": "code",
   "execution_count": 28,
   "metadata": {
    "id": "efS4pCmAJXJH"
   },
   "outputs": [],
   "source": [
    "import os\n",
    "import json\n",
    "import torch\n",
    "from pathlib import Path\n",
    "from torch.utils.data import Dataset\n",
    "\n",
    "\n",
    "'''\n",
    "class InferenceDataset(Dataset):\n",
    "\tdef __init__(self, data_dir):\n",
    "\t\ttestdata_path = Path(data_dir) / \"testdata.json\"\n",
    "\t\tmetadata = json.load(testdata_path.open())\n",
    "\t\tself.data_dir = data_dir\n",
    "\t\tself.data = metadata[\"utterances\"]\n",
    "\n",
    "\tdef __len__(self):\n",
    "\t\treturn len(self.data)\n",
    "\n",
    "\tdef __getitem__(self, index):\n",
    "\t\tutterance = self.data[index]\n",
    "\t\tfeat_path = utterance[\"feature_path\"]\n",
    "\t\tmel = torch.load(os.path.join(self.data_dir, feat_path))\n",
    "\n",
    "\t\treturn feat_path, mel\n",
    "\n",
    "def inference_collate_batch(batch):\n",
    "\t\"\"\"Collate a batch of data.\"\"\"\n",
    "\tfeat_paths, mels = zip(*batch)\n",
    "\n",
    "\treturn feat_paths, torch.stack(mels)\n",
    "\n",
    "'''\n",
    "from inference_utility import InferenceDataset, inference_collate_batch\n"
   ]
  },
  {
   "cell_type": "markdown",
   "metadata": {
    "id": "tl0WnYwxNK_S"
   },
   "source": [
    "## Main funcrion of Inference"
   ]
  },
  {
   "cell_type": "code",
   "execution_count": 29,
   "metadata": {
    "colab": {
     "base_uri": "https://localhost:8080/",
     "height": 103,
     "referenced_widgets": [
      "6786c2b0e2614ad389620246cb2178f2",
      "0d592098920140dab61aac5410568c36",
      "da681e3cc353420cb142d56df0fce231",
      "401ae722b95c4ff59b836422dbe71edc",
      "4efbfb7c7cb54276862e5321209d57fa",
      "f6dcb3ec9c624171966bb889808dbcb3",
      "100abf072991474abfcee871d2b83f37",
      "decc12da6f5742ec8b7ec7789ee434ab",
      "0117ac88c98440b29ab1f452107cbe1a",
      "3d64942a0eaa409a93df049bb594c062",
      "8c8721e504cf434eb9e263fb9983969a"
     ]
    },
    "id": "i8SAbuXEJb2A",
    "outputId": "3808f409-19c9-426c-dc15-1b88b0c21645"
   },
   "outputs": [
    {
     "name": "stdout",
     "output_type": "stream",
     "text": [
      "[Info]: Use cuda now!\n",
      "[Info]: Finish loading data!\n",
      "[Info]: Finish creating model!\n"
     ]
    },
    {
     "data": {
      "application/vnd.jupyter.widget-view+json": {
       "model_id": "be1c663542ab4a74a3a6aef11dd4bfeb",
       "version_major": 2,
       "version_minor": 0
      },
      "text/plain": [
       "  0%|          | 0/8000 [00:00<?, ?it/s]"
      ]
     },
     "metadata": {},
     "output_type": "display_data"
    }
   ],
   "source": [
    "import json\n",
    "import csv\n",
    "from pathlib import Path\n",
    "from tqdm.notebook import tqdm\n",
    "\n",
    "import torch\n",
    "from torch.utils.data import DataLoader\n",
    "\n",
    "def parse_args():\n",
    "\t\"\"\"arguments\"\"\"\n",
    "\tconfig = {\n",
    "\t\t\"data_dir\": \".\\\\Dataset\",\n",
    "\t\t\"model_path\": \".\\\\model.ckpt\",\n",
    "\t\t\"output_path\": \".\\\\output.csv\",\n",
    "\t}\n",
    "\n",
    "\treturn config\n",
    "\n",
    "\n",
    "def main(\n",
    "\tdata_dir,\n",
    "\tmodel_path,\n",
    "\toutput_path,\n",
    "):\n",
    "\t\"\"\"Main function.\"\"\"\n",
    "\tdevice = torch.device(\"cuda\" if torch.cuda.is_available() else \"cpu\")\n",
    "\tprint(f\"[Info]: Use {device} now!\")\n",
    "\n",
    "\tmapping_path = Path(data_dir) / \"mapping.json\"\n",
    "\tmapping = json.load(mapping_path.open())\n",
    "\n",
    "\tdataset = InferenceDataset(data_dir)\n",
    "\tdataloader = DataLoader(\n",
    "\t\tdataset,\n",
    "\t\tbatch_size=1,\n",
    "\t\tshuffle=False,\n",
    "\t\tdrop_last=False,\n",
    "\t\tnum_workers=8,\n",
    "\t\tcollate_fn=inference_collate_batch,\n",
    "\t)\n",
    "\tprint(f\"[Info]: Finish loading data!\",flush = True)\n",
    "\n",
    "\tspeaker_num = len(mapping[\"id2speaker\"])\n",
    "\tmodel = Classifier(n_spks=speaker_num).to(device)\n",
    "\tmodel.load_state_dict(torch.load(model_path))\n",
    "\tmodel.eval()\n",
    "\tprint(f\"[Info]: Finish creating model!\",flush = True)\n",
    "\n",
    "\tresults = [[\"Id\", \"Category\"]]\n",
    "\tfor feat_paths, mels in tqdm(dataloader):\n",
    "\t\twith torch.no_grad():\n",
    "\t\t\tmels = mels.to(device)\n",
    "\t\t\touts = model(mels)\n",
    "\t\t\tpreds = outs.argmax(1).cpu().numpy()\n",
    "\t\t\tfor feat_path, pred in zip(feat_paths, preds):\n",
    "\t\t\t\tresults.append([feat_path, mapping[\"id2speaker\"][str(pred)]])\n",
    "\n",
    "\twith open(output_path, 'w', newline='') as csvfile:\n",
    "\t\twriter = csv.writer(csvfile)\n",
    "\t\twriter.writerows(results)\n",
    "\n",
    "\n",
    "if __name__ == \"__main__\":\n",
    "\tmain(**parse_args())"
   ]
  },
  {
   "cell_type": "code",
   "execution_count": null,
   "metadata": {},
   "outputs": [],
   "source": []
  },
  {
   "cell_type": "code",
   "execution_count": null,
   "metadata": {},
   "outputs": [],
   "source": []
  }
 ],
 "metadata": {
  "accelerator": "GPU",
  "colab": {
   "provenance": []
  },
  "gpuClass": "standard",
  "kernelspec": {
   "display_name": "Python 3 (ipykernel)",
   "language": "python",
   "name": "python3"
  },
  "language_info": {
   "codemirror_mode": {
    "name": "ipython",
    "version": 3
   },
   "file_extension": ".py",
   "mimetype": "text/x-python",
   "name": "python",
   "nbconvert_exporter": "python",
   "pygments_lexer": "ipython3",
   "version": "3.12.6"
  },
  "widgets": {
   "application/vnd.jupyter.widget-state+json": {
    "0117ac88c98440b29ab1f452107cbe1a": {
     "model_module": "@jupyter-widgets/controls",
     "model_module_version": "1.5.0",
     "model_name": "ProgressStyleModel",
     "state": {
      "_model_module": "@jupyter-widgets/controls",
      "_model_module_version": "1.5.0",
      "_model_name": "ProgressStyleModel",
      "_view_count": null,
      "_view_module": "@jupyter-widgets/base",
      "_view_module_version": "1.2.0",
      "_view_name": "StyleView",
      "bar_color": null,
      "description_width": ""
     }
    },
    "0d592098920140dab61aac5410568c36": {
     "model_module": "@jupyter-widgets/controls",
     "model_module_version": "1.5.0",
     "model_name": "HTMLModel",
     "state": {
      "_dom_classes": [],
      "_model_module": "@jupyter-widgets/controls",
      "_model_module_version": "1.5.0",
      "_model_name": "HTMLModel",
      "_view_count": null,
      "_view_module": "@jupyter-widgets/controls",
      "_view_module_version": "1.5.0",
      "_view_name": "HTMLView",
      "description": "",
      "description_tooltip": null,
      "layout": "IPY_MODEL_f6dcb3ec9c624171966bb889808dbcb3",
      "placeholder": "​",
      "style": "IPY_MODEL_100abf072991474abfcee871d2b83f37",
      "value": "100%"
     }
    },
    "100abf072991474abfcee871d2b83f37": {
     "model_module": "@jupyter-widgets/controls",
     "model_module_version": "1.5.0",
     "model_name": "DescriptionStyleModel",
     "state": {
      "_model_module": "@jupyter-widgets/controls",
      "_model_module_version": "1.5.0",
      "_model_name": "DescriptionStyleModel",
      "_view_count": null,
      "_view_module": "@jupyter-widgets/base",
      "_view_module_version": "1.2.0",
      "_view_name": "StyleView",
      "description_width": ""
     }
    },
    "3d64942a0eaa409a93df049bb594c062": {
     "model_module": "@jupyter-widgets/base",
     "model_module_version": "1.2.0",
     "model_name": "LayoutModel",
     "state": {
      "_model_module": "@jupyter-widgets/base",
      "_model_module_version": "1.2.0",
      "_model_name": "LayoutModel",
      "_view_count": null,
      "_view_module": "@jupyter-widgets/base",
      "_view_module_version": "1.2.0",
      "_view_name": "LayoutView",
      "align_content": null,
      "align_items": null,
      "align_self": null,
      "border": null,
      "bottom": null,
      "display": null,
      "flex": null,
      "flex_flow": null,
      "grid_area": null,
      "grid_auto_columns": null,
      "grid_auto_flow": null,
      "grid_auto_rows": null,
      "grid_column": null,
      "grid_gap": null,
      "grid_row": null,
      "grid_template_areas": null,
      "grid_template_columns": null,
      "grid_template_rows": null,
      "height": null,
      "justify_content": null,
      "justify_items": null,
      "left": null,
      "margin": null,
      "max_height": null,
      "max_width": null,
      "min_height": null,
      "min_width": null,
      "object_fit": null,
      "object_position": null,
      "order": null,
      "overflow": null,
      "overflow_x": null,
      "overflow_y": null,
      "padding": null,
      "right": null,
      "top": null,
      "visibility": null,
      "width": null
     }
    },
    "401ae722b95c4ff59b836422dbe71edc": {
     "model_module": "@jupyter-widgets/controls",
     "model_module_version": "1.5.0",
     "model_name": "HTMLModel",
     "state": {
      "_dom_classes": [],
      "_model_module": "@jupyter-widgets/controls",
      "_model_module_version": "1.5.0",
      "_model_name": "HTMLModel",
      "_view_count": null,
      "_view_module": "@jupyter-widgets/controls",
      "_view_module_version": "1.5.0",
      "_view_name": "HTMLView",
      "description": "",
      "description_tooltip": null,
      "layout": "IPY_MODEL_3d64942a0eaa409a93df049bb594c062",
      "placeholder": "​",
      "style": "IPY_MODEL_8c8721e504cf434eb9e263fb9983969a",
      "value": " 8000/8000 [00:33&lt;00:00, 256.07it/s]"
     }
    },
    "4efbfb7c7cb54276862e5321209d57fa": {
     "model_module": "@jupyter-widgets/base",
     "model_module_version": "1.2.0",
     "model_name": "LayoutModel",
     "state": {
      "_model_module": "@jupyter-widgets/base",
      "_model_module_version": "1.2.0",
      "_model_name": "LayoutModel",
      "_view_count": null,
      "_view_module": "@jupyter-widgets/base",
      "_view_module_version": "1.2.0",
      "_view_name": "LayoutView",
      "align_content": null,
      "align_items": null,
      "align_self": null,
      "border": null,
      "bottom": null,
      "display": null,
      "flex": null,
      "flex_flow": null,
      "grid_area": null,
      "grid_auto_columns": null,
      "grid_auto_flow": null,
      "grid_auto_rows": null,
      "grid_column": null,
      "grid_gap": null,
      "grid_row": null,
      "grid_template_areas": null,
      "grid_template_columns": null,
      "grid_template_rows": null,
      "height": null,
      "justify_content": null,
      "justify_items": null,
      "left": null,
      "margin": null,
      "max_height": null,
      "max_width": null,
      "min_height": null,
      "min_width": null,
      "object_fit": null,
      "object_position": null,
      "order": null,
      "overflow": null,
      "overflow_x": null,
      "overflow_y": null,
      "padding": null,
      "right": null,
      "top": null,
      "visibility": null,
      "width": null
     }
    },
    "6786c2b0e2614ad389620246cb2178f2": {
     "model_module": "@jupyter-widgets/controls",
     "model_module_version": "1.5.0",
     "model_name": "HBoxModel",
     "state": {
      "_dom_classes": [],
      "_model_module": "@jupyter-widgets/controls",
      "_model_module_version": "1.5.0",
      "_model_name": "HBoxModel",
      "_view_count": null,
      "_view_module": "@jupyter-widgets/controls",
      "_view_module_version": "1.5.0",
      "_view_name": "HBoxView",
      "box_style": "",
      "children": [
       "IPY_MODEL_0d592098920140dab61aac5410568c36",
       "IPY_MODEL_da681e3cc353420cb142d56df0fce231",
       "IPY_MODEL_401ae722b95c4ff59b836422dbe71edc"
      ],
      "layout": "IPY_MODEL_4efbfb7c7cb54276862e5321209d57fa"
     }
    },
    "8c8721e504cf434eb9e263fb9983969a": {
     "model_module": "@jupyter-widgets/controls",
     "model_module_version": "1.5.0",
     "model_name": "DescriptionStyleModel",
     "state": {
      "_model_module": "@jupyter-widgets/controls",
      "_model_module_version": "1.5.0",
      "_model_name": "DescriptionStyleModel",
      "_view_count": null,
      "_view_module": "@jupyter-widgets/base",
      "_view_module_version": "1.2.0",
      "_view_name": "StyleView",
      "description_width": ""
     }
    },
    "da681e3cc353420cb142d56df0fce231": {
     "model_module": "@jupyter-widgets/controls",
     "model_module_version": "1.5.0",
     "model_name": "FloatProgressModel",
     "state": {
      "_dom_classes": [],
      "_model_module": "@jupyter-widgets/controls",
      "_model_module_version": "1.5.0",
      "_model_name": "FloatProgressModel",
      "_view_count": null,
      "_view_module": "@jupyter-widgets/controls",
      "_view_module_version": "1.5.0",
      "_view_name": "ProgressView",
      "bar_style": "success",
      "description": "",
      "description_tooltip": null,
      "layout": "IPY_MODEL_decc12da6f5742ec8b7ec7789ee434ab",
      "max": 8000,
      "min": 0,
      "orientation": "horizontal",
      "style": "IPY_MODEL_0117ac88c98440b29ab1f452107cbe1a",
      "value": 8000
     }
    },
    "decc12da6f5742ec8b7ec7789ee434ab": {
     "model_module": "@jupyter-widgets/base",
     "model_module_version": "1.2.0",
     "model_name": "LayoutModel",
     "state": {
      "_model_module": "@jupyter-widgets/base",
      "_model_module_version": "1.2.0",
      "_model_name": "LayoutModel",
      "_view_count": null,
      "_view_module": "@jupyter-widgets/base",
      "_view_module_version": "1.2.0",
      "_view_name": "LayoutView",
      "align_content": null,
      "align_items": null,
      "align_self": null,
      "border": null,
      "bottom": null,
      "display": null,
      "flex": null,
      "flex_flow": null,
      "grid_area": null,
      "grid_auto_columns": null,
      "grid_auto_flow": null,
      "grid_auto_rows": null,
      "grid_column": null,
      "grid_gap": null,
      "grid_row": null,
      "grid_template_areas": null,
      "grid_template_columns": null,
      "grid_template_rows": null,
      "height": null,
      "justify_content": null,
      "justify_items": null,
      "left": null,
      "margin": null,
      "max_height": null,
      "max_width": null,
      "min_height": null,
      "min_width": null,
      "object_fit": null,
      "object_position": null,
      "order": null,
      "overflow": null,
      "overflow_x": null,
      "overflow_y": null,
      "padding": null,
      "right": null,
      "top": null,
      "visibility": null,
      "width": null
     }
    },
    "f6dcb3ec9c624171966bb889808dbcb3": {
     "model_module": "@jupyter-widgets/base",
     "model_module_version": "1.2.0",
     "model_name": "LayoutModel",
     "state": {
      "_model_module": "@jupyter-widgets/base",
      "_model_module_version": "1.2.0",
      "_model_name": "LayoutModel",
      "_view_count": null,
      "_view_module": "@jupyter-widgets/base",
      "_view_module_version": "1.2.0",
      "_view_name": "LayoutView",
      "align_content": null,
      "align_items": null,
      "align_self": null,
      "border": null,
      "bottom": null,
      "display": null,
      "flex": null,
      "flex_flow": null,
      "grid_area": null,
      "grid_auto_columns": null,
      "grid_auto_flow": null,
      "grid_auto_rows": null,
      "grid_column": null,
      "grid_gap": null,
      "grid_row": null,
      "grid_template_areas": null,
      "grid_template_columns": null,
      "grid_template_rows": null,
      "height": null,
      "justify_content": null,
      "justify_items": null,
      "left": null,
      "margin": null,
      "max_height": null,
      "max_width": null,
      "min_height": null,
      "min_width": null,
      "object_fit": null,
      "object_position": null,
      "order": null,
      "overflow": null,
      "overflow_x": null,
      "overflow_y": null,
      "padding": null,
      "right": null,
      "top": null,
      "visibility": null,
      "width": null
     }
    }
   }
  }
 },
 "nbformat": 4,
 "nbformat_minor": 4
}
